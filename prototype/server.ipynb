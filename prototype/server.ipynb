{
 "cells": [
  {
   "cell_type": "code",
   "execution_count": 1,
   "id": "67b30ce0-34fe-4aba-8dcc-45f8d908ada9",
   "metadata": {},
   "outputs": [],
   "source": [
    "import socket\n",
    "import threading\n",
    "import time\n",
    "from typing import Optional\n",
    "from io import StringIO\n",
    "import contextlib\n",
    "import sys\n",
    "import traceback\n",
    "\n",
    "class StreamingOutput:\n",
    "    def __init__(self, callback):\n",
    "        self.callback = callback\n",
    "        self.buffer = []\n",
    "\n",
    "    def write(self, text):\n",
    "        self.callback(text)\n",
    "        self.buffer.append(text)\n",
    "        \n",
    "    def flush(self):\n",
    "        pass\n",
    "\n",
    "    def getvalue(self):\n",
    "        return ''.join(self.buffer)\n",
    "        \n",
    "class UDPPythonServer:\n",
    "    def __init__(self, port: int = 12345):\n",
    "        self.port = port\n",
    "        self.running = False\n",
    "        self.server_thread: Optional[threading.Thread] = None\n",
    "        self.sock: Optional[socket.socket] = None\n",
    "        self.namespace = {}\n",
    "        self.current_client = None\n",
    "        \n",
    "    def _create_socket(self):\n",
    "        self.sock = socket.socket(socket.AF_INET, socket.SOCK_DGRAM)\n",
    "        self.sock.setsockopt(socket.SOL_SOCKET, socket.SO_REUSEADDR, 1)\n",
    "        if hasattr(socket, 'SO_REUSEPORT'):\n",
    "            self.sock.setsockopt(socket.SOL_SOCKET, socket.SO_REUSEPORT, 1)\n",
    "        self.sock.bind(('127.0.0.1', self.port))\n",
    "        self.sock.settimeout(0.5)\n",
    "\n",
    "    def _send_output(self, text):\n",
    "        if self.current_client and self.running:\n",
    "            self.sock.sendto(text.encode('utf-8'), self.current_client)\n",
    "            \n",
    "    def _execute_code(self, code: str) -> str:\n",
    "        output = StreamingOutput(self._send_output)\n",
    "        error_output = StreamingOutput(self._send_output)\n",
    "        \n",
    "        with contextlib.redirect_stdout(output), contextlib.redirect_stderr(error_output):\n",
    "            try:\n",
    "                exec(code, self.namespace)\n",
    "            except Exception:\n",
    "                traceback.print_exc(file=error_output)\n",
    "                \n",
    "        return output.getvalue() or \"Code executed successfully\"\n",
    "            \n",
    "    def _handle_connection(self):\n",
    "        while self.running:\n",
    "            try:\n",
    "                data, addr = self.sock.recvfrom(4096)\n",
    "                if addr[0] != '127.0.0.1':\n",
    "                    continue\n",
    "                \n",
    "                self.current_client = addr\n",
    "                code = data.decode('utf-8')\n",
    "                self._execute_code(code)\n",
    "                self.current_client = None\n",
    "                    \n",
    "            except socket.timeout:\n",
    "                continue\n",
    "            except Exception as e:\n",
    "                if self.running:\n",
    "                    print(f\"Server error: {str(e)}\")\n",
    "                self.current_client = None\n",
    "                    \n",
    "    def start(self):\n",
    "        if self.running:\n",
    "            print(\"Server is already running\")\n",
    "            return\n",
    "            \n",
    "        try:\n",
    "            self.running = True\n",
    "            self._create_socket()\n",
    "            self.server_thread = threading.Thread(target=self._handle_connection)\n",
    "            self.server_thread.start()\n",
    "            print(f\"Server started on port {self.port}\")\n",
    "        except Exception as e:\n",
    "            self.running = False\n",
    "            if self.sock:\n",
    "                self.sock.close()\n",
    "                self.sock = None\n",
    "            raise e\n",
    "            \n",
    "    def stop(self):\n",
    "        if not self.running:\n",
    "            print(\"Server is not running\")\n",
    "            return\n",
    "            \n",
    "        self.running = False\n",
    "        if self.server_thread:\n",
    "            self.server_thread.join()\n",
    "        if self.sock:\n",
    "            self.sock.close()\n",
    "            self.sock = None\n",
    "        self.namespace.clear()\n",
    "        print(\"Server stopped\")"
   ]
  },
  {
   "cell_type": "code",
   "execution_count": 2,
   "id": "5760ea8e-d8a4-420a-b08c-4c0483fbe653",
   "metadata": {},
   "outputs": [],
   "source": [
    "def send_code(code: str, port: int = 12345):\n",
    "    client = socket.socket(socket.AF_INET, socket.SOCK_DGRAM)\n",
    "    client.settimeout(0.1)\n",
    "    client.sendto(code.encode('utf-8'), ('127.0.0.1', port))\n",
    "    \n",
    "    # Keep receiving until 2 seconds of no new data\n",
    "    last_receive_time = time.time()\n",
    "    while True:\n",
    "        try:\n",
    "            data, _ = client.recvfrom(4096)\n",
    "            print(data.decode('utf-8'), end='', flush=True)\n",
    "            last_receive_time = time.time()\n",
    "        except socket.timeout:\n",
    "            # If no data for 2 seconds, assume we're done\n",
    "            if time.time() - last_receive_time > 2.0:\n",
    "                break\n",
    "            continue\n",
    "        except Exception as e:\n",
    "            print(f\"Error receiving: {e}\")\n",
    "            break\n",
    "            \n",
    "    client.close()"
   ]
  },
  {
   "cell_type": "code",
   "execution_count": 3,
   "id": "3c098a52-d9d3-4a46-b4b7-41a7b0f964ec",
   "metadata": {},
   "outputs": [
    {
     "name": "stdout",
     "output_type": "stream",
     "text": [
      "Server started on port 12345\n"
     ]
    }
   ],
   "source": [
    "server = UDPPythonServer(port=12345)\n",
    "server.start()"
   ]
  },
  {
   "cell_type": "code",
   "execution_count": 4,
   "id": "1c951068-2c43-4305-ac29-4621e6417a68",
   "metadata": {},
   "outputs": [],
   "source": [
    "code=\"\"\"\n",
    "import time\n",
    "for i in range(10):\n",
    "    print(i)\n",
    "    time.sleep(1)\n",
    "\"\"\""
   ]
  },
  {
   "cell_type": "code",
   "execution_count": 5,
   "id": "5530af36-cf09-4efb-a03d-807ec8da78ff",
   "metadata": {},
   "outputs": [
    {
     "name": "stdout",
     "output_type": "stream",
     "text": [
      "Error receiving: 'StreamingOutput' object has no attribute 'callback'\n"
     ]
    }
   ],
   "source": [
    "send_code(code)"
   ]
  },
  {
   "cell_type": "code",
   "execution_count": 17,
   "id": "5fedcb36-dee1-44d5-8159-c74bf1d0ef1d",
   "metadata": {},
   "outputs": [
    {
     "name": "stdout",
     "output_type": "stream",
     "text": [
      "Server stopped\n"
     ]
    }
   ],
   "source": [
    "server.stop()"
   ]
  },
  {
   "cell_type": "code",
   "execution_count": null,
   "id": "d25f2c06-e86a-4de3-8861-d4a1fd0bb366",
   "metadata": {},
   "outputs": [],
   "source": []
  }
 ],
 "metadata": {
  "kernelspec": {
   "display_name": "Python 3 (ipykernel)",
   "language": "python",
   "name": "python3"
  },
  "language_info": {
   "codemirror_mode": {
    "name": "ipython",
    "version": 3
   },
   "file_extension": ".py",
   "mimetype": "text/x-python",
   "name": "python",
   "nbconvert_exporter": "python",
   "pygments_lexer": "ipython3",
   "version": "3.12.6"
  }
 },
 "nbformat": 4,
 "nbformat_minor": 5
}
