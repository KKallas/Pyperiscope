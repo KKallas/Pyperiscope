{
 "cells": [
  {
   "cell_type": "code",
   "execution_count": 39,
   "id": "68c23d97-26b6-452c-8e8c-4921e353962a",
   "metadata": {},
   "outputs": [],
   "source": [
    "import dill\n",
    "import codecs\n",
    "import pyautogui\n",
    "import time\n",
    "import pyperclip\n",
    "from pyperiscope import Scope"
   ]
  },
  {
   "cell_type": "markdown",
   "id": "3b12e2ba-00a5-4727-8d8d-21be8abece34",
   "metadata": {},
   "source": [
    "# 1. Simple Click\n",
    "use this as sample by pasting the Scope step below. The code will click at the step Scope position"
   ]
  },
  {
   "cell_type": "code",
   "execution_count": null,
   "id": "4f9b93ed-d58d-485e-b068-59bfffea9040",
   "metadata": {},
   "outputs": [],
   "source": [
    "# comment: Automated step generated with pyPeriscope V2 \n",
    "#payload = ''' .... '''\n",
    "#step = Scope(saved_dict=dill.loads(codecs.decode(payload.encode(), 'base64')))\n",
    "#step.render_preview()"
   ]
  },
  {
   "cell_type": "code",
   "execution_count": 41,
   "id": "622bfd21-56f2-4657-9fdd-7173016e46e9",
   "metadata": {},
   "outputs": [
    {
     "name": "stdout",
     "output_type": "stream",
     "text": [
      "found: 1\n"
     ]
    }
   ],
   "source": [
    "step.find()"
   ]
  },
  {
   "cell_type": "code",
   "execution_count": 42,
   "id": "845ff312-afd9-4f20-b815-8047a874f6ff",
   "metadata": {},
   "outputs": [],
   "source": [
    "if step.found_locations:\n",
    "    pyautogui.click(step.get_locations()[0])"
   ]
  },
  {
   "cell_type": "markdown",
   "id": "984ad1f6-36c8-4c3b-9723-4754d34786f7",
   "metadata": {},
   "source": [
    "# 2. Wait \n",
    "use this sample to wait for specific image too appera on the screen, this sample will try 30x at every second before failing"
   ]
  },
  {
   "cell_type": "code",
   "execution_count": null,
   "id": "c8f0d613-7e7d-42bb-9145-5978a3f13671",
   "metadata": {},
   "outputs": [],
   "source": [
    "# comment: Automated step generated with pyPeriscope V2 \n",
    "#payload = ''' .... '''\n",
    "#step = Scope(saved_dict=dill.loads(codecs.decode(payload.encode(), 'base64')))\n",
    "#step.render_preview()"
   ]
  },
  {
   "cell_type": "code",
   "execution_count": 44,
   "id": "76b8efd6-4d81-4594-802b-a2ba7ff1fb80",
   "metadata": {},
   "outputs": [
    {
     "name": "stdout",
     "output_type": "stream",
     "text": [
      "found: 1\n"
     ]
    }
   ],
   "source": [
    "# wait up to 30 seconds\n",
    "step.find(tries=30)"
   ]
  },
  {
   "cell_type": "code",
   "execution_count": 45,
   "id": "12d5b307-62f1-46b9-80da-dcc03c20256a",
   "metadata": {},
   "outputs": [],
   "source": [
    "#something..."
   ]
  },
  {
   "cell_type": "markdown",
   "id": "66624f5e-8cf3-4955-9da4-c4c0ae09b66a",
   "metadata": {},
   "source": [
    "# 3. IO with clipbaord\n",
    "below is example for keyboard events and loading data with clipboard nto python"
   ]
  },
  {
   "cell_type": "code",
   "execution_count": 1,
   "id": "dcd0b5da-e86f-44a1-8944-a6c5a91a93c0",
   "metadata": {},
   "outputs": [],
   "source": [
    "# comment: Automated step generated with pyPeriscope V2 \n",
    "#payload = ''' .... '''\n",
    "#step = Scope(saved_dict=dill.loads(codecs.decode(payload.encode(), 'base64')))\n",
    "#step.render_preview()"
   ]
  },
  {
   "cell_type": "code",
   "execution_count": 52,
   "id": "da8517bf-e8f9-4e46-9829-f92e77866f05",
   "metadata": {},
   "outputs": [
    {
     "name": "stdout",
     "output_type": "stream",
     "text": [
      "found: 1\n"
     ]
    }
   ],
   "source": [
    "step.find()"
   ]
  },
  {
   "cell_type": "code",
   "execution_count": 53,
   "id": "bb6a193b-0e4d-4758-9d09-a5c34a30f5fc",
   "metadata": {},
   "outputs": [
    {
     "name": "stdout",
     "output_type": "stream",
     "text": [
      "Found product: Test-Toorik\n"
     ]
    }
   ],
   "source": [
    "if step.found_locations:\n",
    "    time.sleep(1)\n",
    "    pyautogui.click(step.get_locations()[0])\n",
    "    time.sleep(0.5)\n",
    "    pyautogui.hotkey('ctrl','a')\n",
    "    pyautogui.hotkey('ctrl','c')\n",
    "    product_name = pyperclip.paste()\n",
    "    print(\"Value found: \"+product_name)"
   ]
  }
 ],
 "metadata": {
  "kernelspec": {
   "display_name": "Python 3 (ipykernel)",
   "language": "python",
   "name": "python3"
  },
  "language_info": {
   "codemirror_mode": {
    "name": "ipython",
    "version": 3
   },
   "file_extension": ".py",
   "mimetype": "text/x-python",
   "name": "python",
   "nbconvert_exporter": "python",
   "pygments_lexer": "ipython3",
   "version": "3.12.6"
  }
 },
 "nbformat": 4,
 "nbformat_minor": 5
}
