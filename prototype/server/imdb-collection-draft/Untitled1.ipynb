{
 "cells": [
  {
   "cell_type": "code",
   "execution_count": null,
   "id": "2e44df51-3e04-4ef7-a8fc-5d2115bd5eb8",
   "metadata": {},
   "outputs": [
    {
     "name": "stdout",
     "output_type": "stream",
     "text": [
      "found: 1\n",
      "## Starting 0/10\n",
      "Staring step: 0\n",
      "Could not locate the image (highest confidence = 0.947)\n",
      "Could not locate the image (highest confidence = 0.629)\n",
      "Could not locate the image (highest confidence = 0.606)\n",
      "found: 2\n",
      "## Starting 1/10\n",
      "Staring step: 0\n",
      "found: 4\n",
      "Could not locate the image (highest confidence = 0.611)\n",
      "found: 1\n",
      "email role: Company\n",
      "email: info@solipsistfilms.com\n",
      "cont...\n",
      "Could not locate the image (highest confidence = 0.924)\n",
      "Could not locate the image (highest confidence = 0.687)\n",
      "found: 1\n",
      "found: 4\n",
      "## Starting 2/10\n",
      "Staring step: 0\n",
      "found: 1\n",
      "Could not locate the image (highest confidence = 0.628)\n",
      "Could not locate the image (highest confidence = 0.606)\n",
      "found: 3\n",
      "## Starting 3/10\n",
      "Staring step: 0\n",
      "Could not locate the image (highest confidence = 0.919)\n",
      "Could not locate the image (highest confidence = 0.686)\n",
      "Could not locate the image (highest confidence = 0.603)\n",
      "found: 2\n",
      "## Starting 4/10\n"
     ]
    }
   ],
   "source": [
    "for i in range(200):\n",
    "    %run  \"producers_contacts_update.ipynb\""
   ]
  },
  {
   "cell_type": "code",
   "execution_count": null,
   "id": "249932d8-9924-4df0-892a-03400ff21735",
   "metadata": {},
   "outputs": [],
   "source": []
  }
 ],
 "metadata": {
  "kernelspec": {
   "display_name": "Python 3 (ipykernel)",
   "language": "python",
   "name": "python3"
  },
  "language_info": {
   "codemirror_mode": {
    "name": "ipython",
    "version": 3
   },
   "file_extension": ".py",
   "mimetype": "text/x-python",
   "name": "python",
   "nbconvert_exporter": "python",
   "pygments_lexer": "ipython3",
   "version": "3.12.9"
  }
 },
 "nbformat": 4,
 "nbformat_minor": 5
}
