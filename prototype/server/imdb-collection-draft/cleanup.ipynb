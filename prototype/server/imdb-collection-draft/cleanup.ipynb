{
 "cells": [
  {
   "cell_type": "code",
   "execution_count": 2,
   "id": "0741c604-48e5-4cdd-95db-c025eb0ff265",
   "metadata": {},
   "outputs": [],
   "source": [
    "import pandas as pd\n",
    "import dill\n",
    "import codecs\n",
    "import pyautogui\n",
    "import time\n",
    "import pyperclip\n",
    "from datetime import datetime\n",
    "from pyperiscope import Scope\n",
    "from pyperiscope import Pilot"
   ]
  },
  {
   "cell_type": "code",
   "execution_count": 13,
   "id": "d8640cfa-c100-4b96-8e98-edbe1c25890c",
   "metadata": {},
   "outputs": [],
   "source": [
    "with pd.HDFStore('film_database.h5') as store:\n",
    "    films = store['films']\n",
    "    production_co = store['production_company']\n",
    "    production_co_link = store['production_co_link']\n",
    "    producers = store['producers']\n",
    "    producers_link = store['producers_link']\n",
    "    emails = store['emails']\n",
    "    agents = store['agents']\n",
    "    agents_link = store['agents_link']"
   ]
  },
  {
   "cell_type": "code",
   "execution_count": 14,
   "id": "33eee6bd-c024-4c5b-a94d-2aabf04c7f39",
   "metadata": {},
   "outputs": [],
   "source": [
    "# convert Updated values from string to datetime\n",
    "films['updated'] = pd.to_datetime(films['updated'], format=\"mixed\")\n",
    "\n",
    "# set and filter cutoff\n",
    "cutoff_date = datetime(2023, 1, 1)\n",
    "films = films[films['updated'] >= cutoff_date].copy()\n",
    "\n",
    "# set of film_id's that are left\n",
    "valid_film_ids = set(films.index)"
   ]
  },
  {
   "cell_type": "code",
   "execution_count": 15,
   "id": "b4592201-9234-46e8-a298-2bff75619507",
   "metadata": {},
   "outputs": [],
   "source": [
    "# Filter the producers_link table to keep only links to valid films\n",
    "producers_link = producers_link[producers_link['film_id'].isin(valid_film_ids)].copy()\n",
    "# Get the IDs of producers that still have at least one film\n",
    "valid_producer_ids = set(producers_link['producer_id'])"
   ]
  },
  {
   "cell_type": "code",
   "execution_count": 28,
   "id": "a6895351-6e50-424c-8f44-36b047d31898",
   "metadata": {},
   "outputs": [],
   "source": [
    "production_co_link = production_co_link[production_co_link['film_id'].isin(valid_film_ids)].copy()\n",
    "valid_production_co = set(production_co_link['production_co_id'])"
   ]
  },
  {
   "cell_type": "code",
   "execution_count": 32,
   "id": "78d9cc9c-c71b-4e1f-9c22-a2642bf8a9b2",
   "metadata": {},
   "outputs": [],
   "source": [
    "# Filter the producers table to keep only valid producers\n",
    "producers = producers.loc[producers.index.isin(valid_producer_ids)].copy()\n",
    "# Filter the production_co table by producer index\n",
    "production_co = production_co.loc[production_co.index.isin(valid_production_co)].copy()"
   ]
  },
  {
   "cell_type": "code",
   "execution_count": 36,
   "id": "72efeb7d-e30b-4a9a-8e5f-257bd5b53d90",
   "metadata": {},
   "outputs": [],
   "source": [
    "emails=emails.drop(emails.index)\n",
    "agents=agents.drop(agents.index)\n",
    "agents_link=agents_link.drop(agents_link.index)"
   ]
  },
  {
   "cell_type": "code",
   "execution_count": 38,
   "id": "ddf018aa-6142-424a-a245-306efda813b7",
   "metadata": {},
   "outputs": [],
   "source": [
    "with pd.HDFStore('film_database.h5', mode='r+') as store:\n",
    "    store.put('films', films)\n",
    "    store.put('production_co_link', production_co_link)\n",
    "    store.put('production_company', production_co)\n",
    "    store.put('producers',producers)\n",
    "    store.put('producers_link', producers_link)\n",
    "    store.put('emails', emails)\n",
    "    store.put('agents', agents)\n",
    "    store.put('agents_link', agents_link)"
   ]
  },
  {
   "cell_type": "code",
   "execution_count": null,
   "id": "c150240b-2729-4ec3-9587-a34f6d667cfe",
   "metadata": {},
   "outputs": [],
   "source": []
  }
 ],
 "metadata": {
  "kernelspec": {
   "display_name": "Python 3 (ipykernel)",
   "language": "python",
   "name": "python3"
  },
  "language_info": {
   "codemirror_mode": {
    "name": "ipython",
    "version": 3
   },
   "file_extension": ".py",
   "mimetype": "text/x-python",
   "name": "python",
   "nbconvert_exporter": "python",
   "pygments_lexer": "ipython3",
   "version": "3.12.9"
  }
 },
 "nbformat": 4,
 "nbformat_minor": 5
}
