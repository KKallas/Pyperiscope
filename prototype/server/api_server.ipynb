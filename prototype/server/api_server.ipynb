{
 "cells": [
  {
   "cell_type": "code",
   "execution_count": 6,
   "id": "e5663aa7-7ce0-43f3-ba8e-d6f7246fb7cb",
   "metadata": {},
   "outputs": [
    {
     "name": "stdout",
     "output_type": "stream",
     "text": [
      " * Serving Flask app '__main__'\n",
      " * Debug mode: off\n"
     ]
    },
    {
     "name": "stderr",
     "output_type": "stream",
     "text": [
      "WARNING: This is a development server. Do not use it in a production deployment. Use a production WSGI server instead.\n",
      " * Running on all addresses (0.0.0.0)\n",
      " * Running on http://127.0.0.1:5000\n",
      " * Running on http://192.168.2.177:5000\n",
      "Press CTRL+C to quit\n",
      "192.168.2.177 - - [30/Jan/2025 23:20:58] \"POST /run HTTP/1.1\" 200 -\n"
     ]
    },
    {
     "name": "stdout",
     "output_type": "stream",
     "text": [
      "Added process with GUID: b737c95a-76e0-486c-ba35-a69a188965ca\n",
      "Processes in manager: OrderedDict({'b737c95a-76e0-486c-ba35-a69a188965ca': {'status': 'running', 'command': 'odoo-onshape-draft', 'guid': 'b737c95a-76e0-486c-ba35-a69a188965ca', 'payload': None}})\n",
      "Staring step: 0\n",
      "found: 1\n",
      "Staring step: 0\n",
      "found: 1\n"
     ]
    },
    {
     "name": "stderr",
     "output_type": "stream",
     "text": [
      "192.168.2.177 - - [30/Jan/2025 23:21:01] \"POST /status HTTP/1.1\" 200 -\n"
     ]
    },
    {
     "name": "stdout",
     "output_type": "stream",
     "text": [
      "Looking up GUID: 'b737c95a-76e0-486c-ba35-a69a188965ca'\n",
      "Staring step: 1\n",
      "Staring step: 2\n",
      "found: 1\n"
     ]
    },
    {
     "name": "stderr",
     "output_type": "stream",
     "text": [
      "192.168.2.177 - - [30/Jan/2025 23:21:09] \"POST /status HTTP/1.1\" 200 -\n"
     ]
    },
    {
     "name": "stdout",
     "output_type": "stream",
     "text": [
      "Looking up GUID: 'b737c95a-76e0-486c-ba35-a69a188965ca'\n",
      "Staring step: 3\n",
      "Staring step: 4\n",
      "found: 1\n"
     ]
    },
    {
     "name": "stderr",
     "output_type": "stream",
     "text": [
      "192.168.2.177 - - [30/Jan/2025 23:21:17] \"POST /status HTTP/1.1\" 200 -\n"
     ]
    },
    {
     "name": "stdout",
     "output_type": "stream",
     "text": [
      "Looking up GUID: 'b737c95a-76e0-486c-ba35-a69a188965ca'\n",
      "Staring step: 5\n",
      "found: 1\n"
     ]
    },
    {
     "name": "stderr",
     "output_type": "stream",
     "text": [
      "192.168.2.177 - - [30/Jan/2025 23:21:25] \"POST /status HTTP/1.1\" 200 -\n"
     ]
    },
    {
     "name": "stdout",
     "output_type": "stream",
     "text": [
      "Looking up GUID: 'b737c95a-76e0-486c-ba35-a69a188965ca'\n",
      "Staring step: 1\n",
      "found: 1\n",
      "Staring step: 0\n",
      "found: 1\n",
      "Staring step: 1\n",
      "found: 1\n"
     ]
    },
    {
     "name": "stderr",
     "output_type": "stream",
     "text": [
      "192.168.2.177 - - [30/Jan/2025 23:21:33] \"POST /status HTTP/1.1\" 200 -\n"
     ]
    },
    {
     "name": "stdout",
     "output_type": "stream",
     "text": [
      "Staring step: 2\n",
      "Looking up GUID: 'b737c95a-76e0-486c-ba35-a69a188965ca'\n",
      "found: 1\n",
      "Staring step: 3\n",
      "try: 0/30\n",
      "try: 1/30\n",
      "try: 2/30\n",
      "try: 3/30\n",
      "try: 4/30\n",
      "try: 5/30\n",
      "try: 6/30\n",
      "try: 7/30\n",
      "try: 8/30\n"
     ]
    },
    {
     "name": "stderr",
     "output_type": "stream",
     "text": [
      "192.168.2.177 - - [30/Jan/2025 23:21:51] \"POST /status HTTP/1.1\" 200 -\n"
     ]
    },
    {
     "name": "stdout",
     "output_type": "stream",
     "text": [
      "Looking up GUID: 'b737c95a-76e0-486c-ba35-a69a188965ca'\n",
      "try: 9/30\n",
      "try: 10/30\n",
      "try: 11/30\n",
      "try: 12/30\n",
      "try: 13/30\n",
      "try: 14/30\n",
      "try: 15/30\n",
      "try: 16/30\n",
      "try: 17/30\n",
      "try: 18/30\n",
      "try: 19/30\n",
      "try: 20/30\n",
      "try: 21/30\n",
      "try: 22/30\n",
      "try: 23/30\n",
      "try: 24/30\n",
      "try: 25/30\n",
      "try: 26/30\n",
      "try: 27/30\n",
      "try: 28/30\n",
      "Could not locate the image (highest confidence = 0.549)\n"
     ]
    },
    {
     "name": "stderr",
     "output_type": "stream",
     "text": [
      "192.168.2.177 - - [30/Jan/2025 23:22:23] \"POST /status HTTP/1.1\" 200 -\n"
     ]
    },
    {
     "name": "stdout",
     "output_type": "stream",
     "text": [
      "Looking up GUID: 'b737c95a-76e0-486c-ba35-a69a188965ca'\n",
      "Staring step: 2\n",
      "found: 1\n",
      "Staring step: 0\n",
      "found: 1\n",
      "Added process with GUID: b737c95a-76e0-486c-ba35-a69a188965ca\n",
      "Processes in manager: OrderedDict({'b737c95a-76e0-486c-ba35-a69a188965ca': {'status': 'finished', 'command': 'odoo-onshape-draft', 'guid': 'b737c95a-76e0-486c-ba35-a69a188965ca', 'payload': None}})\n",
      "Process b737c95a-76e0-486c-ba35-a69a188965ca completed with status: finished\n"
     ]
    },
    {
     "name": "stderr",
     "output_type": "stream",
     "text": [
      "192.168.2.177 - - [30/Jan/2025 23:22:37] \"POST /status HTTP/1.1\" 200 -\n"
     ]
    },
    {
     "name": "stdout",
     "output_type": "stream",
     "text": [
      "Looking up GUID: 'b737c95a-76e0-486c-ba35-a69a188965ca'\n"
     ]
    },
    {
     "name": "stderr",
     "output_type": "stream",
     "text": [
      "192.168.2.177 - - [31/Jan/2025 11:10:44] \"POST /run HTTP/1.1\" 200 -\n",
      "192.168.2.177 - - [31/Jan/2025 11:10:44] \"POST /status HTTP/1.1\" 200 -\n"
     ]
    },
    {
     "name": "stdout",
     "output_type": "stream",
     "text": [
      "Added process with GUID: 438434da-7700-41a4-a41c-7f608b55c04d\n",
      "Processes in manager: OrderedDict({'b737c95a-76e0-486c-ba35-a69a188965ca': {'status': 'finished', 'command': 'odoo-onshape-draft', 'guid': 'b737c95a-76e0-486c-ba35-a69a188965ca', 'payload': None}, '438434da-7700-41a4-a41c-7f608b55c04d': {'status': 'running', 'command': 'odoo-onshape-draft', 'guid': '438434da-7700-41a4-a41c-7f608b55c04d', 'payload': None}})\n",
      "Staring step: 0\n",
      "Looking up GUID: '438434da-7700-41a4-a41c-7f608b55c04d'\n"
     ]
    },
    {
     "name": "stderr",
     "output_type": "stream",
     "text": [
      "192.168.2.177 - - [31/Jan/2025 11:10:44] \"POST /status HTTP/1.1\" 200 -\n",
      "192.168.2.177 - - [31/Jan/2025 11:10:44] \"POST /status HTTP/1.1\" 200 -\n",
      "192.168.2.177 - - [31/Jan/2025 11:10:44] \"POST /status HTTP/1.1\" 200 -\n"
     ]
    },
    {
     "name": "stdout",
     "output_type": "stream",
     "text": [
      "Looking up GUID: '438434da-7700-41a4-a41c-7f608b55c04d'\n",
      "Looking up GUID: '438434da-7700-41a4-a41c-7f608b55c04d'\n",
      "Looking up GUID: '438434da-7700-41a4-a41c-7f608b55c04d'\n"
     ]
    },
    {
     "name": "stderr",
     "output_type": "stream",
     "text": [
      "192.168.2.177 - - [31/Jan/2025 11:10:44] \"POST /status HTTP/1.1\" 200 -\n",
      "192.168.2.177 - - [31/Jan/2025 11:10:44] \"POST /status HTTP/1.1\" 200 -\n",
      "192.168.2.177 - - [31/Jan/2025 11:10:44] \"POST /status HTTP/1.1\" 200 -\n",
      "192.168.2.177 - - [31/Jan/2025 11:10:45] \"POST /status HTTP/1.1\" 200 -\n",
      "192.168.2.177 - - [31/Jan/2025 11:10:45] \"POST /status HTTP/1.1\" 200 -\n"
     ]
    },
    {
     "name": "stdout",
     "output_type": "stream",
     "text": [
      "Looking up GUID: '438434da-7700-41a4-a41c-7f608b55c04d'\n",
      "Looking up GUID: '438434da-7700-41a4-a41c-7f608b55c04d'\n",
      "Looking up GUID: '438434da-7700-41a4-a41c-7f608b55c04d'\n",
      "Looking up GUID: '438434da-7700-41a4-a41c-7f608b55c04d'\n",
      "Looking up GUID: '438434da-7700-41a4-a41c-7f608b55c04d'\n"
     ]
    },
    {
     "name": "stderr",
     "output_type": "stream",
     "text": [
      "192.168.2.177 - - [31/Jan/2025 11:10:45] \"POST /status HTTP/1.1\" 200 -\n",
      "192.168.2.177 - - [31/Jan/2025 11:10:45] \"POST /status HTTP/1.1\" 200 -\n",
      "192.168.2.177 - - [31/Jan/2025 11:10:45] \"POST /status HTTP/1.1\" 200 -\n"
     ]
    },
    {
     "name": "stdout",
     "output_type": "stream",
     "text": [
      "Looking up GUID: '438434da-7700-41a4-a41c-7f608b55c04d'\n",
      "Looking up GUID: '438434da-7700-41a4-a41c-7f608b55c04d'\n",
      "found: 1\n",
      "Looking up GUID: '438434da-7700-41a4-a41c-7f608b55c04d'\n",
      "Staring step: 0\n"
     ]
    },
    {
     "name": "stderr",
     "output_type": "stream",
     "text": [
      "192.168.2.177 - - [31/Jan/2025 11:10:45] \"POST /status HTTP/1.1\" 200 -\n",
      "192.168.2.177 - - [31/Jan/2025 11:10:45] \"POST /status HTTP/1.1\" 200 -\n",
      "192.168.2.177 - - [31/Jan/2025 11:10:45] \"POST /status HTTP/1.1\" 200 -\n"
     ]
    },
    {
     "name": "stdout",
     "output_type": "stream",
     "text": [
      "Looking up GUID: '438434da-7700-41a4-a41c-7f608b55c04d'\n",
      "Looking up GUID: '438434da-7700-41a4-a41c-7f608b55c04d'\n",
      "Looking up GUID: '438434da-7700-41a4-a41c-7f608b55c04d'\n"
     ]
    },
    {
     "name": "stderr",
     "output_type": "stream",
     "text": [
      "192.168.2.177 - - [31/Jan/2025 11:10:45] \"POST /status HTTP/1.1\" 200 -\n",
      "192.168.2.177 - - [31/Jan/2025 11:10:45] \"POST /status HTTP/1.1\" 200 -\n",
      "192.168.2.177 - - [31/Jan/2025 11:10:45] \"POST /status HTTP/1.1\" 200 -\n",
      "192.168.2.177 - - [31/Jan/2025 11:10:45] \"POST /status HTTP/1.1\" 200 -\n"
     ]
    },
    {
     "name": "stdout",
     "output_type": "stream",
     "text": [
      "Looking up GUID: '438434da-7700-41a4-a41c-7f608b55c04d'\n",
      "Looking up GUID: '438434da-7700-41a4-a41c-7f608b55c04d'\n",
      "Looking up GUID: '438434da-7700-41a4-a41c-7f608b55c04d'\n",
      "Looking up GUID: '438434da-7700-41a4-a41c-7f608b55c04d'\n"
     ]
    },
    {
     "name": "stderr",
     "output_type": "stream",
     "text": [
      "192.168.2.177 - - [31/Jan/2025 11:10:45] \"POST /status HTTP/1.1\" 200 -\n",
      "192.168.2.177 - - [31/Jan/2025 11:10:45] \"POST /status HTTP/1.1\" 200 -\n",
      "192.168.2.177 - - [31/Jan/2025 11:10:45] \"POST /status HTTP/1.1\" 200 -\n",
      "192.168.2.177 - - [31/Jan/2025 11:10:46] \"POST /status HTTP/1.1\" 200 -\n"
     ]
    },
    {
     "name": "stdout",
     "output_type": "stream",
     "text": [
      "Looking up GUID: '438434da-7700-41a4-a41c-7f608b55c04d'\n",
      "Looking up GUID: '438434da-7700-41a4-a41c-7f608b55c04d'\n",
      "Looking up GUID: '438434da-7700-41a4-a41c-7f608b55c04d'\n",
      "Looking up GUID: '438434da-7700-41a4-a41c-7f608b55c04d'\n"
     ]
    },
    {
     "name": "stderr",
     "output_type": "stream",
     "text": [
      "192.168.2.177 - - [31/Jan/2025 11:10:46] \"POST /status HTTP/1.1\" 200 -\n",
      "192.168.2.177 - - [31/Jan/2025 11:10:46] \"POST /status HTTP/1.1\" 200 -\n"
     ]
    },
    {
     "name": "stdout",
     "output_type": "stream",
     "text": [
      "Looking up GUID: '438434da-7700-41a4-a41c-7f608b55c04d'\n",
      "Looking up GUID: '438434da-7700-41a4-a41c-7f608b55c04d'\n",
      "found: 1\n"
     ]
    },
    {
     "name": "stderr",
     "output_type": "stream",
     "text": [
      "192.168.2.177 - - [31/Jan/2025 11:10:46] \"POST /status HTTP/1.1\" 200 -\n",
      "192.168.2.177 - - [31/Jan/2025 11:10:46] \"POST /status HTTP/1.1\" 200 -\n",
      "192.168.2.177 - - [31/Jan/2025 11:10:46] \"POST /status HTTP/1.1\" 200 -\n",
      "192.168.2.177 - - [31/Jan/2025 11:10:46] \"POST /status HTTP/1.1\" 200 -\n"
     ]
    },
    {
     "name": "stdout",
     "output_type": "stream",
     "text": [
      "Looking up GUID: '438434da-7700-41a4-a41c-7f608b55c04d'\n",
      "Looking up GUID: '438434da-7700-41a4-a41c-7f608b55c04d'\n",
      "Looking up GUID: '438434da-7700-41a4-a41c-7f608b55c04d'\n",
      "Looking up GUID: '438434da-7700-41a4-a41c-7f608b55c04d'\n",
      "Looking up GUID: '438434da-7700-41a4-a41c-7f608b55c04d'\n"
     ]
    },
    {
     "name": "stderr",
     "output_type": "stream",
     "text": [
      "192.168.2.177 - - [31/Jan/2025 11:10:46] \"POST /status HTTP/1.1\" 200 -\n",
      "192.168.2.177 - - [31/Jan/2025 11:10:46] \"POST /status HTTP/1.1\" 200 -\n",
      "192.168.2.177 - - [31/Jan/2025 11:10:46] \"POST /status HTTP/1.1\" 200 -\n",
      "192.168.2.177 - - [31/Jan/2025 11:10:46] \"POST /status HTTP/1.1\" 200 -\n",
      "192.168.2.177 - - [31/Jan/2025 11:10:46] \"POST /status HTTP/1.1\" 200 -\n",
      "192.168.2.177 - - [31/Jan/2025 11:10:46] \"POST /status HTTP/1.1\" 200 -\n",
      "192.168.2.177 - - [31/Jan/2025 11:10:46] \"POST /status HTTP/1.1\" 200 -\n"
     ]
    },
    {
     "name": "stdout",
     "output_type": "stream",
     "text": [
      "Looking up GUID: '438434da-7700-41a4-a41c-7f608b55c04d'\n",
      "Looking up GUID: '438434da-7700-41a4-a41c-7f608b55c04d'\n",
      "Looking up GUID: '438434da-7700-41a4-a41c-7f608b55c04d'\n",
      "Looking up GUID: '438434da-7700-41a4-a41c-7f608b55c04d'\n",
      "Looking up GUID: '438434da-7700-41a4-a41c-7f608b55c04d'\n",
      "Looking up GUID: '438434da-7700-41a4-a41c-7f608b55c04d'\n"
     ]
    },
    {
     "name": "stderr",
     "output_type": "stream",
     "text": [
      "192.168.2.177 - - [31/Jan/2025 11:10:46] \"POST /status HTTP/1.1\" 200 -\n",
      "192.168.2.177 - - [31/Jan/2025 11:10:46] \"POST /status HTTP/1.1\" 200 -\n",
      "192.168.2.177 - - [31/Jan/2025 11:10:46] \"POST /status HTTP/1.1\" 200 -\n",
      "192.168.2.177 - - [31/Jan/2025 11:10:46] \"POST /status HTTP/1.1\" 200 -\n"
     ]
    },
    {
     "name": "stdout",
     "output_type": "stream",
     "text": [
      "Looking up GUID: '438434da-7700-41a4-a41c-7f608b55c04d'\n",
      "Looking up GUID: '438434da-7700-41a4-a41c-7f608b55c04d'\n",
      "Looking up GUID: '438434da-7700-41a4-a41c-7f608b55c04d'\n",
      "Looking up GUID: '438434da-7700-41a4-a41c-7f608b55c04d'\n",
      "Looking up GUID: '438434da-7700-41a4-a41c-7f608b55c04d'\n"
     ]
    },
    {
     "name": "stderr",
     "output_type": "stream",
     "text": [
      "192.168.2.177 - - [31/Jan/2025 11:10:46] \"POST /status HTTP/1.1\" 200 -\n",
      "192.168.2.177 - - [31/Jan/2025 11:10:47] \"POST /status HTTP/1.1\" 200 -\n",
      "192.168.2.177 - - [31/Jan/2025 11:10:47] \"POST /status HTTP/1.1\" 200 -\n",
      "192.168.2.177 - - [31/Jan/2025 11:10:47] \"POST /status HTTP/1.1\" 200 -\n",
      "192.168.2.177 - - [31/Jan/2025 11:10:47] \"POST /status HTTP/1.1\" 200 -\n"
     ]
    },
    {
     "name": "stdout",
     "output_type": "stream",
     "text": [
      "Looking up GUID: '438434da-7700-41a4-a41c-7f608b55c04d'\n",
      "Looking up GUID: '438434da-7700-41a4-a41c-7f608b55c04d'\n",
      "Looking up GUID: '438434da-7700-41a4-a41c-7f608b55c04d'\n",
      "Looking up GUID: '438434da-7700-41a4-a41c-7f608b55c04d'\n"
     ]
    },
    {
     "name": "stderr",
     "output_type": "stream",
     "text": [
      "192.168.2.177 - - [31/Jan/2025 11:10:47] \"POST /status HTTP/1.1\" 200 -\n",
      "192.168.2.177 - - [31/Jan/2025 11:10:47] \"POST /status HTTP/1.1\" 200 -\n",
      "192.168.2.177 - - [31/Jan/2025 11:10:47] \"POST /status HTTP/1.1\" 200 -\n",
      "192.168.2.177 - - [31/Jan/2025 11:10:47] \"POST /status HTTP/1.1\" 200 -\n",
      "192.168.2.177 - - [31/Jan/2025 11:10:47] \"POST /status HTTP/1.1\" 200 -\n"
     ]
    },
    {
     "name": "stdout",
     "output_type": "stream",
     "text": [
      "Looking up GUID: '438434da-7700-41a4-a41c-7f608b55c04d'\n",
      "Looking up GUID: '438434da-7700-41a4-a41c-7f608b55c04d'\n",
      "Looking up GUID: '438434da-7700-41a4-a41c-7f608b55c04d'\n",
      "Looking up GUID: '438434da-7700-41a4-a41c-7f608b55c04d'\n",
      "Looking up GUID: '438434da-7700-41a4-a41c-7f608b55c04d'\n"
     ]
    },
    {
     "name": "stderr",
     "output_type": "stream",
     "text": [
      "192.168.2.177 - - [31/Jan/2025 11:10:47] \"POST /status HTTP/1.1\" 200 -\n",
      "192.168.2.177 - - [31/Jan/2025 11:10:47] \"POST /status HTTP/1.1\" 200 -\n",
      "192.168.2.177 - - [31/Jan/2025 11:10:47] \"POST /status HTTP/1.1\" 200 -\n",
      "192.168.2.177 - - [31/Jan/2025 11:10:47] \"POST /status HTTP/1.1\" 200 -\n",
      "192.168.2.177 - - [31/Jan/2025 11:10:47] \"POST /status HTTP/1.1\" 200 -\n"
     ]
    },
    {
     "name": "stdout",
     "output_type": "stream",
     "text": [
      "Looking up GUID: '438434da-7700-41a4-a41c-7f608b55c04d'\n",
      "Looking up GUID: '438434da-7700-41a4-a41c-7f608b55c04d'\n",
      "Looking up GUID: '438434da-7700-41a4-a41c-7f608b55c04d'\n",
      "Looking up GUID: '438434da-7700-41a4-a41c-7f608b55c04d'\n",
      "Looking up GUID: '438434da-7700-41a4-a41c-7f608b55c04d'\n"
     ]
    },
    {
     "name": "stderr",
     "output_type": "stream",
     "text": [
      "192.168.2.177 - - [31/Jan/2025 11:10:47] \"POST /status HTTP/1.1\" 200 -\n",
      "192.168.2.177 - - [31/Jan/2025 11:10:47] \"POST /status HTTP/1.1\" 200 -\n",
      "192.168.2.177 - - [31/Jan/2025 11:10:47] \"POST /status HTTP/1.1\" 200 -\n",
      "192.168.2.177 - - [31/Jan/2025 11:10:47] \"POST /status HTTP/1.1\" 200 -\n",
      "192.168.2.177 - - [31/Jan/2025 11:10:47] \"POST /status HTTP/1.1\" 200 -\n"
     ]
    },
    {
     "name": "stdout",
     "output_type": "stream",
     "text": [
      "Looking up GUID: '438434da-7700-41a4-a41c-7f608b55c04d'\n",
      "Looking up GUID: '438434da-7700-41a4-a41c-7f608b55c04d'\n",
      "Looking up GUID: '438434da-7700-41a4-a41c-7f608b55c04d'\n",
      "Looking up GUID: '438434da-7700-41a4-a41c-7f608b55c04d'\n",
      "Looking up GUID: '438434da-7700-41a4-a41c-7f608b55c04d'\n"
     ]
    },
    {
     "name": "stderr",
     "output_type": "stream",
     "text": [
      "192.168.2.177 - - [31/Jan/2025 11:10:47] \"POST /status HTTP/1.1\" 200 -\n",
      "192.168.2.177 - - [31/Jan/2025 11:10:47] \"POST /status HTTP/1.1\" 200 -\n",
      "192.168.2.177 - - [31/Jan/2025 11:10:47] \"POST /status HTTP/1.1\" 200 -\n",
      "192.168.2.177 - - [31/Jan/2025 11:10:48] \"POST /status HTTP/1.1\" 200 -\n",
      "192.168.2.177 - - [31/Jan/2025 11:10:48] \"POST /status HTTP/1.1\" 200 -\n"
     ]
    },
    {
     "name": "stdout",
     "output_type": "stream",
     "text": [
      "Looking up GUID: '438434da-7700-41a4-a41c-7f608b55c04d'\n",
      "Looking up GUID: '438434da-7700-41a4-a41c-7f608b55c04d'\n",
      "Looking up GUID: '438434da-7700-41a4-a41c-7f608b55c04d'\n",
      "Looking up GUID: '438434da-7700-41a4-a41c-7f608b55c04d'\n",
      "Looking up GUID: '438434da-7700-41a4-a41c-7f608b55c04d'\n"
     ]
    },
    {
     "name": "stderr",
     "output_type": "stream",
     "text": [
      "192.168.2.177 - - [31/Jan/2025 11:10:48] \"POST /status HTTP/1.1\" 200 -\n",
      "192.168.2.177 - - [31/Jan/2025 11:10:48] \"POST /status HTTP/1.1\" 200 -\n",
      "192.168.2.177 - - [31/Jan/2025 11:10:48] \"POST /status HTTP/1.1\" 200 -\n",
      "192.168.2.177 - - [31/Jan/2025 11:10:48] \"POST /status HTTP/1.1\" 200 -\n",
      "192.168.2.177 - - [31/Jan/2025 11:10:48] \"POST /status HTTP/1.1\" 200 -\n"
     ]
    },
    {
     "name": "stdout",
     "output_type": "stream",
     "text": [
      "Looking up GUID: '438434da-7700-41a4-a41c-7f608b55c04d'\n",
      "Looking up GUID: '438434da-7700-41a4-a41c-7f608b55c04d'\n",
      "Looking up GUID: '438434da-7700-41a4-a41c-7f608b55c04d'\n",
      "Looking up GUID: '438434da-7700-41a4-a41c-7f608b55c04d'\n",
      "Looking up GUID: '438434da-7700-41a4-a41c-7f608b55c04d'\n"
     ]
    },
    {
     "name": "stderr",
     "output_type": "stream",
     "text": [
      "192.168.2.177 - - [31/Jan/2025 11:10:48] \"POST /status HTTP/1.1\" 200 -\n",
      "192.168.2.177 - - [31/Jan/2025 11:10:48] \"POST /status HTTP/1.1\" 200 -\n",
      "192.168.2.177 - - [31/Jan/2025 11:10:48] \"POST /status HTTP/1.1\" 200 -\n",
      "192.168.2.177 - - [31/Jan/2025 11:10:48] \"POST /status HTTP/1.1\" 200 -\n",
      "192.168.2.177 - - [31/Jan/2025 11:10:48] \"POST /status HTTP/1.1\" 200 -\n"
     ]
    },
    {
     "name": "stdout",
     "output_type": "stream",
     "text": [
      "Looking up GUID: '438434da-7700-41a4-a41c-7f608b55c04d'\n",
      "Looking up GUID: '438434da-7700-41a4-a41c-7f608b55c04d'\n",
      "Looking up GUID: '438434da-7700-41a4-a41c-7f608b55c04d'\n",
      "Looking up GUID: '438434da-7700-41a4-a41c-7f608b55c04d'\n",
      "Looking up GUID: '438434da-7700-41a4-a41c-7f608b55c04d'\n"
     ]
    },
    {
     "name": "stderr",
     "output_type": "stream",
     "text": [
      "192.168.2.177 - - [31/Jan/2025 11:10:48] \"POST /status HTTP/1.1\" 200 -\n",
      "192.168.2.177 - - [31/Jan/2025 11:10:48] \"POST /status HTTP/1.1\" 200 -\n",
      "192.168.2.177 - - [31/Jan/2025 11:10:48] \"POST /status HTTP/1.1\" 200 -\n",
      "192.168.2.177 - - [31/Jan/2025 11:10:48] \"POST /status HTTP/1.1\" 200 -\n",
      "192.168.2.177 - - [31/Jan/2025 11:10:48] \"POST /status HTTP/1.1\" 200 -\n"
     ]
    },
    {
     "name": "stdout",
     "output_type": "stream",
     "text": [
      "Looking up GUID: '438434da-7700-41a4-a41c-7f608b55c04d'\n",
      "Looking up GUID: '438434da-7700-41a4-a41c-7f608b55c04d'\n",
      "Looking up GUID: '438434da-7700-41a4-a41c-7f608b55c04d'\n",
      "Looking up GUID: '438434da-7700-41a4-a41c-7f608b55c04d'\n",
      "Looking up GUID: '438434da-7700-41a4-a41c-7f608b55c04d'\n"
     ]
    },
    {
     "name": "stderr",
     "output_type": "stream",
     "text": [
      "192.168.2.177 - - [31/Jan/2025 11:10:48] \"POST /status HTTP/1.1\" 200 -\n",
      "192.168.2.177 - - [31/Jan/2025 11:10:48] \"POST /status HTTP/1.1\" 200 -\n",
      "192.168.2.177 - - [31/Jan/2025 11:10:48] \"POST /status HTTP/1.1\" 200 -\n",
      "192.168.2.177 - - [31/Jan/2025 11:10:48] \"POST /status HTTP/1.1\" 200 -\n",
      "192.168.2.177 - - [31/Jan/2025 11:10:49] \"POST /status HTTP/1.1\" 200 -\n"
     ]
    },
    {
     "name": "stdout",
     "output_type": "stream",
     "text": [
      "Looking up GUID: '438434da-7700-41a4-a41c-7f608b55c04d'\n",
      "Looking up GUID: '438434da-7700-41a4-a41c-7f608b55c04d'\n",
      "Looking up GUID: '438434da-7700-41a4-a41c-7f608b55c04d'\n",
      "Looking up GUID: '438434da-7700-41a4-a41c-7f608b55c04d'\n",
      "Looking up GUID: '438434da-7700-41a4-a41c-7f608b55c04d'\n"
     ]
    },
    {
     "name": "stderr",
     "output_type": "stream",
     "text": [
      "192.168.2.177 - - [31/Jan/2025 11:10:49] \"POST /status HTTP/1.1\" 200 -\n",
      "192.168.2.177 - - [31/Jan/2025 11:10:49] \"POST /status HTTP/1.1\" 200 -\n",
      "192.168.2.177 - - [31/Jan/2025 11:10:49] \"POST /status HTTP/1.1\" 200 -\n",
      "192.168.2.177 - - [31/Jan/2025 11:10:49] \"POST /status HTTP/1.1\" 200 -\n",
      "192.168.2.177 - - [31/Jan/2025 11:10:49] \"POST /status HTTP/1.1\" 200 -\n",
      "192.168.2.177 - - [31/Jan/2025 11:10:49] \"POST /status HTTP/1.1\" 200 -\n"
     ]
    },
    {
     "name": "stdout",
     "output_type": "stream",
     "text": [
      "Looking up GUID: '438434da-7700-41a4-a41c-7f608b55c04d'\n",
      "Looking up GUID: '438434da-7700-41a4-a41c-7f608b55c04d'\n",
      "Looking up GUID: '438434da-7700-41a4-a41c-7f608b55c04d'\n",
      "Looking up GUID: '438434da-7700-41a4-a41c-7f608b55c04d'\n",
      "Looking up GUID: '438434da-7700-41a4-a41c-7f608b55c04d'\n",
      "Looking up GUID: '438434da-7700-41a4-a41c-7f608b55c04d'\n"
     ]
    },
    {
     "name": "stderr",
     "output_type": "stream",
     "text": [
      "192.168.2.177 - - [31/Jan/2025 11:10:49] \"POST /status HTTP/1.1\" 200 -\n",
      "192.168.2.177 - - [31/Jan/2025 11:10:49] \"POST /status HTTP/1.1\" 200 -\n",
      "192.168.2.177 - - [31/Jan/2025 11:10:49] \"POST /status HTTP/1.1\" 200 -\n",
      "192.168.2.177 - - [31/Jan/2025 11:10:49] \"POST /status HTTP/1.1\" 200 -\n",
      "192.168.2.177 - - [31/Jan/2025 11:10:49] \"POST /status HTTP/1.1\" 200 -\n",
      "192.168.2.177 - - [31/Jan/2025 11:10:49] \"POST /status HTTP/1.1\" 200 -\n"
     ]
    },
    {
     "name": "stdout",
     "output_type": "stream",
     "text": [
      "Looking up GUID: '438434da-7700-41a4-a41c-7f608b55c04d'\n",
      "Looking up GUID: '438434da-7700-41a4-a41c-7f608b55c04d'\n",
      "Looking up GUID: '438434da-7700-41a4-a41c-7f608b55c04d'\n",
      "Looking up GUID: '438434da-7700-41a4-a41c-7f608b55c04d'\n",
      "Looking up GUID: '438434da-7700-41a4-a41c-7f608b55c04d'\n",
      "Looking up GUID: '438434da-7700-41a4-a41c-7f608b55c04d'\n"
     ]
    },
    {
     "name": "stderr",
     "output_type": "stream",
     "text": [
      "192.168.2.177 - - [31/Jan/2025 11:10:49] \"POST /status HTTP/1.1\" 200 -\n",
      "192.168.2.177 - - [31/Jan/2025 11:10:49] \"POST /status HTTP/1.1\" 200 -\n",
      "192.168.2.177 - - [31/Jan/2025 11:10:49] \"POST /status HTTP/1.1\" 200 -\n",
      "192.168.2.177 - - [31/Jan/2025 11:10:49] \"POST /status HTTP/1.1\" 200 -\n",
      "192.168.2.177 - - [31/Jan/2025 11:10:49] \"POST /status HTTP/1.1\" 200 -\n"
     ]
    },
    {
     "name": "stdout",
     "output_type": "stream",
     "text": [
      "Looking up GUID: '438434da-7700-41a4-a41c-7f608b55c04d'\n",
      "Looking up GUID: '438434da-7700-41a4-a41c-7f608b55c04d'\n",
      "Looking up GUID: '438434da-7700-41a4-a41c-7f608b55c04d'\n",
      "Looking up GUID: '438434da-7700-41a4-a41c-7f608b55c04d'\n",
      "Looking up GUID: '438434da-7700-41a4-a41c-7f608b55c04d'\n"
     ]
    },
    {
     "name": "stderr",
     "output_type": "stream",
     "text": [
      "192.168.2.177 - - [31/Jan/2025 11:10:49] \"POST /status HTTP/1.1\" 200 -\n",
      "192.168.2.177 - - [31/Jan/2025 11:10:49] \"POST /status HTTP/1.1\" 200 -\n",
      "192.168.2.177 - - [31/Jan/2025 11:10:49] \"POST /status HTTP/1.1\" 200 -\n",
      "192.168.2.177 - - [31/Jan/2025 11:10:49] \"POST /status HTTP/1.1\" 200 -\n",
      "192.168.2.177 - - [31/Jan/2025 11:10:49] \"POST /status HTTP/1.1\" 200 -\n",
      "192.168.2.177 - - [31/Jan/2025 11:10:49] \"POST /status HTTP/1.1\" 200 -\n"
     ]
    },
    {
     "name": "stdout",
     "output_type": "stream",
     "text": [
      "Looking up GUID: '438434da-7700-41a4-a41c-7f608b55c04d'\n",
      "Looking up GUID: '438434da-7700-41a4-a41c-7f608b55c04d'\n",
      "Looking up GUID: '438434da-7700-41a4-a41c-7f608b55c04d'\n",
      "Looking up GUID: '438434da-7700-41a4-a41c-7f608b55c04d'\n",
      "Looking up GUID: '438434da-7700-41a4-a41c-7f608b55c04d'\n",
      "Looking up GUID: '438434da-7700-41a4-a41c-7f608b55c04d'\n"
     ]
    },
    {
     "name": "stderr",
     "output_type": "stream",
     "text": [
      "192.168.2.177 - - [31/Jan/2025 11:10:49] \"POST /status HTTP/1.1\" 200 -\n",
      "192.168.2.177 - - [31/Jan/2025 11:10:49] \"POST /status HTTP/1.1\" 200 -\n",
      "192.168.2.177 - - [31/Jan/2025 11:10:50] \"POST /status HTTP/1.1\" 200 -\n",
      "192.168.2.177 - - [31/Jan/2025 11:10:50] \"POST /status HTTP/1.1\" 200 -\n",
      "192.168.2.177 - - [31/Jan/2025 11:10:50] \"POST /status HTTP/1.1\" 200 -\n",
      "192.168.2.177 - - [31/Jan/2025 11:10:50] \"POST /status HTTP/1.1\" 200 -\n"
     ]
    },
    {
     "name": "stdout",
     "output_type": "stream",
     "text": [
      "Looking up GUID: '438434da-7700-41a4-a41c-7f608b55c04d'\n",
      "Looking up GUID: '438434da-7700-41a4-a41c-7f608b55c04d'\n",
      "Looking up GUID: '438434da-7700-41a4-a41c-7f608b55c04d'\n",
      "Looking up GUID: '438434da-7700-41a4-a41c-7f608b55c04d'\n",
      "Looking up GUID: '438434da-7700-41a4-a41c-7f608b55c04d'\n",
      "Looking up GUID: '438434da-7700-41a4-a41c-7f608b55c04d'\n"
     ]
    },
    {
     "name": "stderr",
     "output_type": "stream",
     "text": [
      "192.168.2.177 - - [31/Jan/2025 11:10:50] \"POST /status HTTP/1.1\" 200 -\n",
      "192.168.2.177 - - [31/Jan/2025 11:10:50] \"POST /status HTTP/1.1\" 200 -\n",
      "192.168.2.177 - - [31/Jan/2025 11:10:50] \"POST /status HTTP/1.1\" 200 -\n",
      "192.168.2.177 - - [31/Jan/2025 11:10:50] \"POST /status HTTP/1.1\" 200 -\n",
      "192.168.2.177 - - [31/Jan/2025 11:10:50] \"POST /status HTTP/1.1\" 200 -\n"
     ]
    },
    {
     "name": "stdout",
     "output_type": "stream",
     "text": [
      "Looking up GUID: '438434da-7700-41a4-a41c-7f608b55c04d'\n",
      "Looking up GUID: '438434da-7700-41a4-a41c-7f608b55c04d'\n",
      "Looking up GUID: '438434da-7700-41a4-a41c-7f608b55c04d'\n",
      "Looking up GUID: '438434da-7700-41a4-a41c-7f608b55c04d'\n",
      "Looking up GUID: '438434da-7700-41a4-a41c-7f608b55c04d'\n",
      "Looking up GUID: '438434da-7700-41a4-a41c-7f608b55c04d'\n"
     ]
    },
    {
     "name": "stderr",
     "output_type": "stream",
     "text": [
      "192.168.2.177 - - [31/Jan/2025 11:10:50] \"POST /status HTTP/1.1\" 200 -\n",
      "192.168.2.177 - - [31/Jan/2025 11:10:50] \"POST /status HTTP/1.1\" 200 -\n",
      "192.168.2.177 - - [31/Jan/2025 11:10:50] \"POST /status HTTP/1.1\" 200 -\n",
      "192.168.2.177 - - [31/Jan/2025 11:10:50] \"POST /status HTTP/1.1\" 200 -\n",
      "192.168.2.177 - - [31/Jan/2025 11:10:50] \"POST /status HTTP/1.1\" 200 -\n",
      "192.168.2.177 - - [31/Jan/2025 11:10:50] \"POST /status HTTP/1.1\" 200 -\n"
     ]
    },
    {
     "name": "stdout",
     "output_type": "stream",
     "text": [
      "Looking up GUID: '438434da-7700-41a4-a41c-7f608b55c04d'\n",
      "Looking up GUID: '438434da-7700-41a4-a41c-7f608b55c04d'\n",
      "Looking up GUID: '438434da-7700-41a4-a41c-7f608b55c04d'\n",
      "Looking up GUID: '438434da-7700-41a4-a41c-7f608b55c04d'\n",
      "Looking up GUID: '438434da-7700-41a4-a41c-7f608b55c04d'\n"
     ]
    },
    {
     "name": "stderr",
     "output_type": "stream",
     "text": [
      "192.168.2.177 - - [31/Jan/2025 11:10:50] \"POST /status HTTP/1.1\" 200 -\n",
      "192.168.2.177 - - [31/Jan/2025 11:10:50] \"POST /status HTTP/1.1\" 200 -\n",
      "192.168.2.177 - - [31/Jan/2025 11:10:50] \"POST /status HTTP/1.1\" 200 -\n",
      "192.168.2.177 - - [31/Jan/2025 11:10:50] \"POST /status HTTP/1.1\" 200 -\n",
      "192.168.2.177 - - [31/Jan/2025 11:10:50] \"POST /status HTTP/1.1\" 200 -\n",
      "192.168.2.177 - - [31/Jan/2025 11:10:50] \"POST /status HTTP/1.1\" 200 -\n"
     ]
    },
    {
     "name": "stdout",
     "output_type": "stream",
     "text": [
      "Looking up GUID: '438434da-7700-41a4-a41c-7f608b55c04d'\n",
      "Looking up GUID: '438434da-7700-41a4-a41c-7f608b55c04d'\n",
      "Looking up GUID: '438434da-7700-41a4-a41c-7f608b55c04d'\n",
      "Looking up GUID: '438434da-7700-41a4-a41c-7f608b55c04d'\n",
      "Looking up GUID: '438434da-7700-41a4-a41c-7f608b55c04d'\n",
      "Looking up GUID: '438434da-7700-41a4-a41c-7f608b55c04d'\n"
     ]
    },
    {
     "name": "stderr",
     "output_type": "stream",
     "text": [
      "192.168.2.177 - - [31/Jan/2025 11:10:50] \"POST /status HTTP/1.1\" 200 -\n",
      "192.168.2.177 - - [31/Jan/2025 11:10:50] \"POST /status HTTP/1.1\" 200 -\n",
      "192.168.2.177 - - [31/Jan/2025 11:10:51] \"POST /status HTTP/1.1\" 200 -\n"
     ]
    },
    {
     "name": "stdout",
     "output_type": "stream",
     "text": [
      "Looking up GUID: '438434da-7700-41a4-a41c-7f608b55c04d'\n",
      "Staring step: 1\n",
      "Looking up GUID: '438434da-7700-41a4-a41c-7f608b55c04d'\n",
      "Looking up GUID: '438434da-7700-41a4-a41c-7f608b55c04d'\n"
     ]
    },
    {
     "name": "stderr",
     "output_type": "stream",
     "text": [
      "192.168.2.177 - - [31/Jan/2025 11:10:51] \"POST /status HTTP/1.1\" 200 -\n",
      "192.168.2.177 - - [31/Jan/2025 11:10:51] \"POST /status HTTP/1.1\" 200 -\n"
     ]
    },
    {
     "name": "stdout",
     "output_type": "stream",
     "text": [
      "Looking up GUID: '438434da-7700-41a4-a41c-7f608b55c04d'\n",
      "Looking up GUID: '438434da-7700-41a4-a41c-7f608b55c04d'\n",
      "Looking up GUID: '438434da-7700-41a4-a41c-7f608b55c04d'\n"
     ]
    },
    {
     "name": "stderr",
     "output_type": "stream",
     "text": [
      "192.168.2.177 - - [31/Jan/2025 11:10:51] \"POST /status HTTP/1.1\" 200 -\n",
      "192.168.2.177 - - [31/Jan/2025 11:10:51] \"POST /status HTTP/1.1\" 200 -\n",
      "192.168.2.177 - - [31/Jan/2025 11:10:51] \"POST /status HTTP/1.1\" 200 -\n"
     ]
    },
    {
     "name": "stdout",
     "output_type": "stream",
     "text": [
      "Looking up GUID: '438434da-7700-41a4-a41c-7f608b55c04d'\n",
      "Looking up GUID: '438434da-7700-41a4-a41c-7f608b55c04d'\n",
      "Staring step: 2\n",
      "found: 1\n",
      "Staring step: 3\n",
      "found: 1\n",
      "Staring step: 4\n",
      "found: 1\n",
      "Staring step: 5\n",
      "found: 1\n",
      "Staring step: 1\n",
      "found: 1\n",
      "Staring step: 0\n",
      "found: 1\n",
      "Staring step: 1\n",
      "found: 1\n"
     ]
    },
    {
     "name": "stderr",
     "output_type": "stream",
     "text": [
      "192.168.2.177 - - [31/Jan/2025 11:11:20] \"POST /run HTTP/1.1\" 409 -\n"
     ]
    },
    {
     "name": "stdout",
     "output_type": "stream",
     "text": [
      "Staring step: 2\n",
      "found: 1\n",
      "Staring step: 3\n",
      "try: 0/30\n",
      "try: 1/30\n",
      "try: 2/30\n",
      "try: 3/30\n",
      "try: 4/30\n",
      "try: 5/30\n",
      "try: 6/30\n",
      "try: 7/30\n",
      "try: 8/30\n",
      "try: 9/30\n",
      "try: 10/30\n",
      "try: 11/30\n",
      "try: 12/30\n",
      "try: 13/30\n",
      "try: 14/30\n",
      "try: 15/30\n",
      "try: 16/30\n",
      "try: 17/30\n",
      "try: 18/30\n",
      "try: 19/30\n",
      "try: 20/30\n",
      "try: 21/30\n",
      "try: 22/30\n",
      "try: 23/30\n",
      "try: 24/30\n",
      "try: 25/30\n",
      "try: 26/30\n",
      "try: 27/30\n",
      "try: 28/30\n",
      "Could not locate the image (highest confidence = 0.472)\n",
      "Staring step: 2\n",
      "found: 1\n",
      "Staring step: 0\n",
      "found: 1\n"
     ]
    },
    {
     "name": "stderr",
     "output_type": "stream",
     "text": [
      "192.168.2.177 - - [31/Jan/2025 11:12:20] \"POST /run HTTP/1.1\" 409 -\n"
     ]
    },
    {
     "name": "stdout",
     "output_type": "stream",
     "text": [
      "Added process with GUID: 438434da-7700-41a4-a41c-7f608b55c04d\n",
      "Processes in manager: OrderedDict({'b737c95a-76e0-486c-ba35-a69a188965ca': {'status': 'finished', 'command': 'odoo-onshape-draft', 'guid': 'b737c95a-76e0-486c-ba35-a69a188965ca', 'payload': None}, '438434da-7700-41a4-a41c-7f608b55c04d': {'status': 'finished', 'command': 'odoo-onshape-draft', 'guid': '438434da-7700-41a4-a41c-7f608b55c04d', 'payload': None}})\n",
      "Process 438434da-7700-41a4-a41c-7f608b55c04d completed with status: finished\n"
     ]
    },
    {
     "name": "stderr",
     "output_type": "stream",
     "text": [
      "192.168.2.177 - - [31/Jan/2025 11:12:55] \"POST /run HTTP/1.1\" 200 -\n",
      "192.168.2.177 - - [31/Jan/2025 11:12:55] \"POST /status HTTP/1.1\" 200 -\n"
     ]
    },
    {
     "name": "stdout",
     "output_type": "stream",
     "text": [
      "Added process with GUID: a1088465-e4ee-44a2-a43c-c3a570140eb5\n",
      "Processes in manager: OrderedDict({'b737c95a-76e0-486c-ba35-a69a188965ca': {'status': 'finished', 'command': 'odoo-onshape-draft', 'guid': 'b737c95a-76e0-486c-ba35-a69a188965ca', 'payload': None}, '438434da-7700-41a4-a41c-7f608b55c04d': {'status': 'finished', 'command': 'odoo-onshape-draft', 'guid': '438434da-7700-41a4-a41c-7f608b55c04d', 'payload': None}, 'a1088465-e4ee-44a2-a43c-c3a570140eb5': {'status': 'running', 'command': 'odoo-onshape-draft', 'guid': 'a1088465-e4ee-44a2-a43c-c3a570140eb5', 'payload': None}})\n",
      "Staring step: 0\n",
      "Looking up GUID: 'a1088465-e4ee-44a2-a43c-c3a570140eb5'\n",
      "found: 1\n",
      "Staring step: 0\n",
      "found: 1\n",
      "Staring step: 1\n",
      "Staring step: 2\n",
      "found: 1\n",
      "Staring step: 3\n",
      "Staring step: 4\n",
      "found: 1\n",
      "Staring step: 5\n",
      "found: 1\n",
      "Staring step: 1\n",
      "found: 1\n",
      "Staring step: 0\n",
      "found: 1\n",
      "Staring step: 1\n",
      "found: 1\n",
      "Staring step: 2\n",
      "found: 1\n",
      "Staring step: 3\n",
      "try: 0/30\n",
      "try: 1/30\n",
      "try: 2/30\n",
      "try: 3/30\n",
      "try: 4/30\n",
      "try: 5/30\n",
      "try: 6/30\n",
      "try: 7/30\n",
      "try: 8/30\n",
      "try: 9/30\n",
      "try: 10/30\n",
      "try: 11/30\n"
     ]
    },
    {
     "name": "stderr",
     "output_type": "stream",
     "text": [
      "192.168.2.177 - - [31/Jan/2025 11:13:55] \"POST /status HTTP/1.1\" 200 -\n"
     ]
    },
    {
     "name": "stdout",
     "output_type": "stream",
     "text": [
      "Looking up GUID: 'a1088465-e4ee-44a2-a43c-c3a570140eb5'\n",
      "try: 12/30\n",
      "try: 13/30\n",
      "try: 14/30\n",
      "try: 15/30\n",
      "try: 16/30\n",
      "try: 17/30\n",
      "try: 18/30\n",
      "try: 19/30\n",
      "try: 20/30\n",
      "try: 21/30\n",
      "try: 22/30\n",
      "try: 23/30\n",
      "try: 24/30\n",
      "try: 25/30\n",
      "try: 26/30\n",
      "try: 27/30\n",
      "try: 28/30\n",
      "Could not locate the image (highest confidence = 0.473)\n",
      "Staring step: 2\n",
      "found: 1\n",
      "Staring step: 0\n",
      "found: 1\n",
      "Added process with GUID: a1088465-e4ee-44a2-a43c-c3a570140eb5\n",
      "Processes in manager: OrderedDict({'b737c95a-76e0-486c-ba35-a69a188965ca': {'status': 'finished', 'command': 'odoo-onshape-draft', 'guid': 'b737c95a-76e0-486c-ba35-a69a188965ca', 'payload': None}, '438434da-7700-41a4-a41c-7f608b55c04d': {'status': 'finished', 'command': 'odoo-onshape-draft', 'guid': '438434da-7700-41a4-a41c-7f608b55c04d', 'payload': None}, 'a1088465-e4ee-44a2-a43c-c3a570140eb5': {'status': 'finished', 'command': 'odoo-onshape-draft', 'guid': 'a1088465-e4ee-44a2-a43c-c3a570140eb5', 'payload': None}})\n",
      "Process a1088465-e4ee-44a2-a43c-c3a570140eb5 completed with status: finished\n"
     ]
    },
    {
     "name": "stderr",
     "output_type": "stream",
     "text": [
      "192.168.2.177 - - [31/Jan/2025 11:14:55] \"POST /status HTTP/1.1\" 200 -\n"
     ]
    },
    {
     "name": "stdout",
     "output_type": "stream",
     "text": [
      "Looking up GUID: 'a1088465-e4ee-44a2-a43c-c3a570140eb5'\n"
     ]
    },
    {
     "name": "stderr",
     "output_type": "stream",
     "text": [
      "192.168.2.177 - - [31/Jan/2025 11:15:55] \"POST /status HTTP/1.1\" 200 -\n"
     ]
    },
    {
     "name": "stdout",
     "output_type": "stream",
     "text": [
      "Looking up GUID: 'a1088465-e4ee-44a2-a43c-c3a570140eb5'\n"
     ]
    },
    {
     "name": "stderr",
     "output_type": "stream",
     "text": [
      "192.168.2.177 - - [31/Jan/2025 11:16:55] \"POST /status HTTP/1.1\" 200 -\n"
     ]
    },
    {
     "name": "stdout",
     "output_type": "stream",
     "text": [
      "Looking up GUID: 'a1088465-e4ee-44a2-a43c-c3a570140eb5'\n"
     ]
    },
    {
     "name": "stderr",
     "output_type": "stream",
     "text": [
      "192.168.2.177 - - [31/Jan/2025 11:17:55] \"POST /status HTTP/1.1\" 200 -\n"
     ]
    },
    {
     "name": "stdout",
     "output_type": "stream",
     "text": [
      "Looking up GUID: 'a1088465-e4ee-44a2-a43c-c3a570140eb5'\n"
     ]
    },
    {
     "name": "stderr",
     "output_type": "stream",
     "text": [
      "192.168.2.177 - - [31/Jan/2025 11:19:36] \"POST /run HTTP/1.1\" 200 -\n",
      "192.168.2.177 - - [31/Jan/2025 11:19:36] \"POST /status HTTP/1.1\" 200 -\n"
     ]
    },
    {
     "name": "stdout",
     "output_type": "stream",
     "text": [
      "Added process with GUID: 8dfcb2d0-d285-4448-9edf-9ff9ea0c8613\n",
      "Processes in manager: OrderedDict({'b737c95a-76e0-486c-ba35-a69a188965ca': {'status': 'finished', 'command': 'odoo-onshape-draft', 'guid': 'b737c95a-76e0-486c-ba35-a69a188965ca', 'payload': None}, '438434da-7700-41a4-a41c-7f608b55c04d': {'status': 'finished', 'command': 'odoo-onshape-draft', 'guid': '438434da-7700-41a4-a41c-7f608b55c04d', 'payload': None}, 'a1088465-e4ee-44a2-a43c-c3a570140eb5': {'status': 'finished', 'command': 'odoo-onshape-draft', 'guid': 'a1088465-e4ee-44a2-a43c-c3a570140eb5', 'payload': None}, '8dfcb2d0-d285-4448-9edf-9ff9ea0c8613': {'status': 'running', 'command': 'odoo-onshape-draft', 'guid': '8dfcb2d0-d285-4448-9edf-9ff9ea0c8613', 'payload': None}})\n",
      "Staring step: 0\n",
      "Looking up GUID: '8dfcb2d0-d285-4448-9edf-9ff9ea0c8613'\n",
      "found: 1\n",
      "Staring step: 0\n",
      "found: 1\n",
      "Staring step: 1\n",
      "Staring step: 2\n",
      "found: 1\n",
      "Staring step: 3\n",
      "Staring step: 4\n",
      "found: 1\n",
      "Staring step: 5\n",
      "found: 1\n",
      "Staring step: 1\n",
      "found: 1\n",
      "Staring step: 0\n"
     ]
    },
    {
     "name": "stderr",
     "output_type": "stream",
     "text": [
      "192.168.2.177 - - [31/Jan/2025 11:20:06] \"POST /status HTTP/1.1\" 200 -\n"
     ]
    },
    {
     "name": "stdout",
     "output_type": "stream",
     "text": [
      "Looking up GUID: '8dfcb2d0-d285-4448-9edf-9ff9ea0c8613'\n",
      "found: 1\n",
      "Staring step: 1\n",
      "found: 1\n",
      "Staring step: 2\n",
      "found: 1\n",
      "Staring step: 3\n",
      "try: 0/30\n",
      "try: 1/30\n",
      "try: 2/30\n",
      "try: 3/30\n",
      "try: 4/30\n",
      "try: 5/30\n",
      "try: 6/30\n",
      "try: 7/30\n",
      "try: 8/30\n",
      "try: 9/30\n",
      "try: 10/30\n",
      "try: 11/30\n"
     ]
    },
    {
     "name": "stderr",
     "output_type": "stream",
     "text": [
      "192.168.2.177 - - [31/Jan/2025 11:20:36] \"POST /status HTTP/1.1\" 200 -\n"
     ]
    },
    {
     "name": "stdout",
     "output_type": "stream",
     "text": [
      "Looking up GUID: '8dfcb2d0-d285-4448-9edf-9ff9ea0c8613'\n",
      "try: 12/30\n",
      "try: 13/30\n",
      "try: 14/30\n",
      "try: 15/30\n",
      "try: 16/30\n",
      "try: 17/30\n",
      "try: 18/30\n",
      "try: 19/30\n",
      "try: 20/30\n",
      "try: 21/30\n",
      "try: 22/30\n",
      "try: 23/30\n",
      "try: 24/30\n",
      "try: 25/30\n",
      "try: 26/30\n",
      "try: 27/30\n",
      "try: 28/30\n",
      "Could not locate the image (highest confidence = 0.481)\n",
      "Staring step: 2\n",
      "found: 1\n",
      "Staring step: 0\n",
      "found: 1\n"
     ]
    },
    {
     "name": "stderr",
     "output_type": "stream",
     "text": [
      "192.168.2.177 - - [31/Jan/2025 11:21:06] \"POST /status HTTP/1.1\" 200 -\n"
     ]
    },
    {
     "name": "stdout",
     "output_type": "stream",
     "text": [
      "Looking up GUID: '8dfcb2d0-d285-4448-9edf-9ff9ea0c8613'\n",
      "Added process with GUID: 8dfcb2d0-d285-4448-9edf-9ff9ea0c8613\n",
      "Processes in manager: OrderedDict({'b737c95a-76e0-486c-ba35-a69a188965ca': {'status': 'finished', 'command': 'odoo-onshape-draft', 'guid': 'b737c95a-76e0-486c-ba35-a69a188965ca', 'payload': None}, '438434da-7700-41a4-a41c-7f608b55c04d': {'status': 'finished', 'command': 'odoo-onshape-draft', 'guid': '438434da-7700-41a4-a41c-7f608b55c04d', 'payload': None}, 'a1088465-e4ee-44a2-a43c-c3a570140eb5': {'status': 'finished', 'command': 'odoo-onshape-draft', 'guid': 'a1088465-e4ee-44a2-a43c-c3a570140eb5', 'payload': None}, '8dfcb2d0-d285-4448-9edf-9ff9ea0c8613': {'status': 'finished', 'command': 'odoo-onshape-draft', 'guid': '8dfcb2d0-d285-4448-9edf-9ff9ea0c8613', 'payload': None}})\n",
      "Process 8dfcb2d0-d285-4448-9edf-9ff9ea0c8613 completed with status: finished\n"
     ]
    },
    {
     "name": "stderr",
     "output_type": "stream",
     "text": [
      "192.168.2.177 - - [31/Jan/2025 11:21:36] \"POST /status HTTP/1.1\" 200 -\n"
     ]
    },
    {
     "name": "stdout",
     "output_type": "stream",
     "text": [
      "Looking up GUID: '8dfcb2d0-d285-4448-9edf-9ff9ea0c8613'\n"
     ]
    },
    {
     "name": "stderr",
     "output_type": "stream",
     "text": [
      "192.168.2.177 - - [31/Jan/2025 11:30:34] \"POST /run HTTP/1.1\" 200 -\n",
      "192.168.2.177 - - [31/Jan/2025 11:30:34] \"POST /status HTTP/1.1\" 200 -\n"
     ]
    },
    {
     "name": "stdout",
     "output_type": "stream",
     "text": [
      "Added process with GUID: 46f4f519-c7e1-42fd-91d7-e2efca2b405c\n",
      "Processes in manager: OrderedDict({'b737c95a-76e0-486c-ba35-a69a188965ca': {'status': 'finished', 'command': 'odoo-onshape-draft', 'guid': 'b737c95a-76e0-486c-ba35-a69a188965ca', 'payload': None}, '438434da-7700-41a4-a41c-7f608b55c04d': {'status': 'finished', 'command': 'odoo-onshape-draft', 'guid': '438434da-7700-41a4-a41c-7f608b55c04d', 'payload': None}, 'a1088465-e4ee-44a2-a43c-c3a570140eb5': {'status': 'finished', 'command': 'odoo-onshape-draft', 'guid': 'a1088465-e4ee-44a2-a43c-c3a570140eb5', 'payload': None}, '8dfcb2d0-d285-4448-9edf-9ff9ea0c8613': {'status': 'finished', 'command': 'odoo-onshape-draft', 'guid': '8dfcb2d0-d285-4448-9edf-9ff9ea0c8613', 'payload': None}, '46f4f519-c7e1-42fd-91d7-e2efca2b405c': {'status': 'running', 'command': 'odoo-onshape-draft', 'guid': '46f4f519-c7e1-42fd-91d7-e2efca2b405c', 'payload': None}})\n",
      "Staring step: 0\n",
      "Looking up GUID: '46f4f519-c7e1-42fd-91d7-e2efca2b405c'\n",
      "found: 1\n",
      "Staring step: 0\n",
      "found: 1\n",
      "Staring step: 1\n",
      "Staring step: 2\n",
      "found: 1\n",
      "Staring step: 3\n",
      "Staring step: 4\n",
      "found: 1\n",
      "Staring step: 5\n",
      "found: 1\n",
      "Staring step: 1\n",
      "found: 1\n",
      "Staring step: 0\n"
     ]
    },
    {
     "name": "stderr",
     "output_type": "stream",
     "text": [
      "192.168.2.177 - - [31/Jan/2025 11:31:04] \"POST /status HTTP/1.1\" 200 -\n"
     ]
    },
    {
     "name": "stdout",
     "output_type": "stream",
     "text": [
      "Looking up GUID: '46f4f519-c7e1-42fd-91d7-e2efca2b405c'\n",
      "found: 1\n",
      "Staring step: 1\n",
      "found: 1\n",
      "Staring step: 2\n",
      "found: 1\n",
      "Staring step: 3\n",
      "try: 0/30\n",
      "try: 1/30\n",
      "try: 2/30\n",
      "try: 3/30\n",
      "try: 4/30\n",
      "try: 5/30\n",
      "try: 6/30\n",
      "try: 7/30\n",
      "try: 8/30\n",
      "try: 9/30\n",
      "try: 10/30\n",
      "try: 11/30\n"
     ]
    },
    {
     "name": "stderr",
     "output_type": "stream",
     "text": [
      "192.168.2.177 - - [31/Jan/2025 11:31:34] \"POST /status HTTP/1.1\" 200 -\n"
     ]
    },
    {
     "name": "stdout",
     "output_type": "stream",
     "text": [
      "Looking up GUID: '46f4f519-c7e1-42fd-91d7-e2efca2b405c'\n",
      "try: 12/30\n",
      "try: 13/30\n",
      "try: 14/30\n",
      "try: 15/30\n",
      "try: 16/30\n",
      "try: 17/30\n",
      "try: 18/30\n",
      "try: 19/30\n",
      "try: 20/30\n",
      "try: 21/30\n",
      "try: 22/30\n",
      "try: 23/30\n",
      "try: 24/30\n",
      "try: 25/30\n",
      "try: 26/30\n",
      "try: 27/30\n",
      "try: 28/30\n",
      "Could not locate the image (highest confidence = 0.470)\n",
      "Staring step: 2\n",
      "found: 1\n",
      "Staring step: 0\n",
      "found: 1\n"
     ]
    },
    {
     "name": "stderr",
     "output_type": "stream",
     "text": [
      "192.168.2.177 - - [31/Jan/2025 11:32:04] \"POST /status HTTP/1.1\" 200 -\n"
     ]
    },
    {
     "name": "stdout",
     "output_type": "stream",
     "text": [
      "Looking up GUID: '46f4f519-c7e1-42fd-91d7-e2efca2b405c'\n",
      "Added process with GUID: 46f4f519-c7e1-42fd-91d7-e2efca2b405c\n",
      "Processes in manager: OrderedDict({'b737c95a-76e0-486c-ba35-a69a188965ca': {'status': 'finished', 'command': 'odoo-onshape-draft', 'guid': 'b737c95a-76e0-486c-ba35-a69a188965ca', 'payload': None}, '438434da-7700-41a4-a41c-7f608b55c04d': {'status': 'finished', 'command': 'odoo-onshape-draft', 'guid': '438434da-7700-41a4-a41c-7f608b55c04d', 'payload': None}, 'a1088465-e4ee-44a2-a43c-c3a570140eb5': {'status': 'finished', 'command': 'odoo-onshape-draft', 'guid': 'a1088465-e4ee-44a2-a43c-c3a570140eb5', 'payload': None}, '8dfcb2d0-d285-4448-9edf-9ff9ea0c8613': {'status': 'finished', 'command': 'odoo-onshape-draft', 'guid': '8dfcb2d0-d285-4448-9edf-9ff9ea0c8613', 'payload': None}, '46f4f519-c7e1-42fd-91d7-e2efca2b405c': {'status': 'finished', 'command': 'odoo-onshape-draft', 'guid': '46f4f519-c7e1-42fd-91d7-e2efca2b405c', 'payload': None}})\n",
      "Process 46f4f519-c7e1-42fd-91d7-e2efca2b405c completed with status: finished\n"
     ]
    },
    {
     "name": "stderr",
     "output_type": "stream",
     "text": [
      "192.168.2.177 - - [31/Jan/2025 11:32:34] \"POST /status HTTP/1.1\" 200 -\n"
     ]
    },
    {
     "name": "stdout",
     "output_type": "stream",
     "text": [
      "Looking up GUID: '46f4f519-c7e1-42fd-91d7-e2efca2b405c'\n"
     ]
    },
    {
     "name": "stderr",
     "output_type": "stream",
     "text": [
      "192.168.2.177 - - [31/Jan/2025 11:40:34] \"POST /run HTTP/1.1\" 200 -\n",
      "192.168.2.177 - - [31/Jan/2025 11:40:34] \"POST /status HTTP/1.1\" 200 -\n"
     ]
    },
    {
     "name": "stdout",
     "output_type": "stream",
     "text": [
      "Added process with GUID: 5fdeb2b1-caf3-4aab-9774-d9227b95950e\n",
      "Processes in manager: OrderedDict({'b737c95a-76e0-486c-ba35-a69a188965ca': {'status': 'finished', 'command': 'odoo-onshape-draft', 'guid': 'b737c95a-76e0-486c-ba35-a69a188965ca', 'payload': None}, '438434da-7700-41a4-a41c-7f608b55c04d': {'status': 'finished', 'command': 'odoo-onshape-draft', 'guid': '438434da-7700-41a4-a41c-7f608b55c04d', 'payload': None}, 'a1088465-e4ee-44a2-a43c-c3a570140eb5': {'status': 'finished', 'command': 'odoo-onshape-draft', 'guid': 'a1088465-e4ee-44a2-a43c-c3a570140eb5', 'payload': None}, '8dfcb2d0-d285-4448-9edf-9ff9ea0c8613': {'status': 'finished', 'command': 'odoo-onshape-draft', 'guid': '8dfcb2d0-d285-4448-9edf-9ff9ea0c8613', 'payload': None}, '46f4f519-c7e1-42fd-91d7-e2efca2b405c': {'status': 'finished', 'command': 'odoo-onshape-draft', 'guid': '46f4f519-c7e1-42fd-91d7-e2efca2b405c', 'payload': None}, '5fdeb2b1-caf3-4aab-9774-d9227b95950e': {'status': 'running', 'command': 'odoo-onshape-draft', 'guid': '5fdeb2b1-caf3-4aab-9774-d9227b95950e', 'payload': None}})\n",
      "Staring step: 0\n",
      "Looking up GUID: '5fdeb2b1-caf3-4aab-9774-d9227b95950e'\n",
      "found: 1\n",
      "Staring step: 0\n",
      "found: 1\n",
      "Staring step: 1\n",
      "Staring step: 2\n",
      "found: 1\n",
      "Staring step: 3\n",
      "Staring step: 4\n",
      "found: 1\n",
      "Staring step: 5\n",
      "found: 1\n",
      "Staring step: 1\n",
      "found: 1\n",
      "Staring step: 0\n"
     ]
    },
    {
     "name": "stderr",
     "output_type": "stream",
     "text": [
      "192.168.2.177 - - [31/Jan/2025 11:41:04] \"POST /status HTTP/1.1\" 200 -\n"
     ]
    },
    {
     "name": "stdout",
     "output_type": "stream",
     "text": [
      "Looking up GUID: '5fdeb2b1-caf3-4aab-9774-d9227b95950e'\n",
      "found: 1\n",
      "Staring step: 1\n",
      "found: 1\n",
      "Staring step: 2\n",
      "found: 1\n",
      "Staring step: 3\n",
      "found: 1\n",
      "Staring step: 4\n",
      "found: 1\n",
      "Found product: cube\n",
      "Staring step: 5\n",
      "found: 1\n",
      "Found dimensions: ['30', '30', '30']\n",
      "Staring step: 6\n",
      "found: 1\n",
      "Staring step: 7\n",
      "found: 1\n"
     ]
    },
    {
     "name": "stderr",
     "output_type": "stream",
     "text": [
      "192.168.2.177 - - [31/Jan/2025 11:41:34] \"POST /status HTTP/1.1\" 200 -\n"
     ]
    },
    {
     "name": "stdout",
     "output_type": "stream",
     "text": [
      "Looking up GUID: '5fdeb2b1-caf3-4aab-9774-d9227b95950e'\n",
      "Staring step: 8\n",
      "found: 1\n",
      "Staring step: 9\n",
      "try: 0/30\n",
      "found: 1\n",
      "Staring step: 10\n",
      "found: 1\n",
      "Staring step: 11\n",
      "found: 1\n",
      "Staring step: 12\n",
      "found: 1\n",
      "Staring step: 13\n",
      "found: 1\n"
     ]
    },
    {
     "name": "stderr",
     "output_type": "stream",
     "text": [
      "192.168.2.177 - - [31/Jan/2025 11:42:04] \"POST /status HTTP/1.1\" 200 -\n"
     ]
    },
    {
     "name": "stdout",
     "output_type": "stream",
     "text": [
      "Looking up GUID: '5fdeb2b1-caf3-4aab-9774-d9227b95950e'\n",
      "Staring step: 14\n",
      "found: 1\n",
      "Staring step: 15\n",
      "found: 1\n",
      "Staring step: 16\n",
      "found: 1\n",
      "Staring step: 17\n",
      "found: 1\n",
      "Staring step: 18\n",
      "found: 1\n",
      "Staring step: 19\n",
      "found: 1\n",
      "found product doc address: https://cad.onshape.com/documents/cca0fbeb9598d9b67501c767\n",
      "Staring step: 20\n",
      "found: 1\n"
     ]
    },
    {
     "name": "stderr",
     "output_type": "stream",
     "text": [
      "192.168.2.177 - - [31/Jan/2025 11:42:34] \"POST /status HTTP/1.1\" 200 -\n"
     ]
    },
    {
     "name": "stdout",
     "output_type": "stream",
     "text": [
      "Looking up GUID: '5fdeb2b1-caf3-4aab-9774-d9227b95950e'\n",
      "Staring step: 21\n",
      "found: 1\n",
      "Staring step: 22\n",
      "found: 1\n",
      "Staring step: 23\n",
      "found: 1\n",
      "Staring step: 24\n",
      "found: 1\n",
      "Staring step: 25\n",
      "found: 1\n",
      "Staring step: 0\n",
      "found: 1\n",
      "Staring step: 1\n",
      "found: 1\n",
      "Staring step: 2\n",
      "found: 1\n"
     ]
    },
    {
     "name": "stderr",
     "output_type": "stream",
     "text": [
      "192.168.2.177 - - [31/Jan/2025 11:43:04] \"POST /status HTTP/1.1\" 200 -\n"
     ]
    },
    {
     "name": "stdout",
     "output_type": "stream",
     "text": [
      "Looking up GUID: '5fdeb2b1-caf3-4aab-9774-d9227b95950e'\n",
      "Staring step: 3\n",
      "try: 0/30\n",
      "try: 1/30\n",
      "try: 2/30\n",
      "try: 3/30\n",
      "try: 4/30\n",
      "try: 5/30\n",
      "try: 6/30\n",
      "try: 7/30\n",
      "try: 8/30\n",
      "try: 9/30\n",
      "try: 10/30\n",
      "try: 11/30\n",
      "try: 12/30\n",
      "try: 13/30\n",
      "try: 14/30\n",
      "try: 15/30\n",
      "try: 16/30\n",
      "try: 17/30\n",
      "try: 18/30\n"
     ]
    },
    {
     "name": "stderr",
     "output_type": "stream",
     "text": [
      "192.168.2.177 - - [31/Jan/2025 11:43:34] \"POST /status HTTP/1.1\" 200 -\n"
     ]
    },
    {
     "name": "stdout",
     "output_type": "stream",
     "text": [
      "Looking up GUID: '5fdeb2b1-caf3-4aab-9774-d9227b95950e'\n",
      "try: 19/30\n",
      "try: 20/30\n",
      "try: 21/30\n",
      "try: 22/30\n",
      "try: 23/30\n",
      "try: 24/30\n",
      "try: 25/30\n",
      "try: 26/30\n",
      "try: 27/30\n",
      "try: 28/30\n",
      "Could not locate the image (highest confidence = 0.474)\n",
      "Staring step: 2\n",
      "found: 1\n",
      "Staring step: 0\n",
      "found: 1\n",
      "Added process with GUID: 5fdeb2b1-caf3-4aab-9774-d9227b95950e\n",
      "Processes in manager: OrderedDict({'b737c95a-76e0-486c-ba35-a69a188965ca': {'status': 'finished', 'command': 'odoo-onshape-draft', 'guid': 'b737c95a-76e0-486c-ba35-a69a188965ca', 'payload': None}, '438434da-7700-41a4-a41c-7f608b55c04d': {'status': 'finished', 'command': 'odoo-onshape-draft', 'guid': '438434da-7700-41a4-a41c-7f608b55c04d', 'payload': None}, 'a1088465-e4ee-44a2-a43c-c3a570140eb5': {'status': 'finished', 'command': 'odoo-onshape-draft', 'guid': 'a1088465-e4ee-44a2-a43c-c3a570140eb5', 'payload': None}, '8dfcb2d0-d285-4448-9edf-9ff9ea0c8613': {'status': 'finished', 'command': 'odoo-onshape-draft', 'guid': '8dfcb2d0-d285-4448-9edf-9ff9ea0c8613', 'payload': None}, '46f4f519-c7e1-42fd-91d7-e2efca2b405c': {'status': 'finished', 'command': 'odoo-onshape-draft', 'guid': '46f4f519-c7e1-42fd-91d7-e2efca2b405c', 'payload': None}, '5fdeb2b1-caf3-4aab-9774-d9227b95950e': {'status': 'finished', 'command': 'odoo-onshape-draft', 'guid': '5fdeb2b1-caf3-4aab-9774-d9227b95950e', 'payload': None}})\n",
      "Process 5fdeb2b1-caf3-4aab-9774-d9227b95950e completed with status: finished\n"
     ]
    },
    {
     "name": "stderr",
     "output_type": "stream",
     "text": [
      "192.168.2.177 - - [31/Jan/2025 11:44:04] \"POST /status HTTP/1.1\" 200 -\n"
     ]
    },
    {
     "name": "stdout",
     "output_type": "stream",
     "text": [
      "Looking up GUID: '5fdeb2b1-caf3-4aab-9774-d9227b95950e'\n"
     ]
    }
   ],
   "source": [
    "from flask import Flask, request, jsonify\n",
    "from pyperiscope import Pilot\n",
    "from collections import OrderedDict\n",
    "import uuid\n",
    "import threading\n",
    "import os\n",
    "from typing import Dict, Optional\n",
    "\n",
    "app = Flask(__name__)\n",
    "\n",
    "class ProcessManager:\n",
    "    def __init__(self, max_size: int = 50):\n",
    "        self.processes: OrderedDict[str, Dict] = OrderedDict()\n",
    "        self.max_size = max_size\n",
    "        self.lock = threading.Lock()\n",
    "        self.current_process: Optional[Dict] = None\n",
    "        \n",
    "    def add_process(self, guid: str, state: Dict) -> None:\n",
    "        with self.lock:\n",
    "            if len(self.processes) >= self.max_size:\n",
    "                self.processes.popitem(last=False)\n",
    "            self.processes[guid] = state\n",
    "            print(f\"Added process with GUID: {guid}\")  # Debugging\n",
    "            print(f\"Processes in manager: {self.processes}\")  # Debugging\n",
    "            \n",
    "    def get_process(self, guid: str) -> Optional[Dict]:\n",
    "        with self.lock:\n",
    "            return self.processes.get(guid)\n",
    "    \n",
    "    def set_current_process(self, process: Optional[Dict]) -> None:\n",
    "        with self.lock:\n",
    "            self.current_process = process\n",
    "            \n",
    "    def get_current_process(self) -> Optional[Dict]:\n",
    "        with self.lock:\n",
    "            return self.current_process\n",
    "\n",
    "process_manager = ProcessManager()\n",
    "\n",
    "@app.route('/run', methods=['POST'])\n",
    "def run_notebook():\n",
    "    current_process = process_manager.get_current_process()\n",
    "    if current_process:\n",
    "        return jsonify({\n",
    "            'status': 'busy',\n",
    "            'guid': current_process['guid']\n",
    "        }), 409\n",
    "\n",
    "    data = request.get_json()\n",
    "    command = data.get('command')\n",
    "    \n",
    "    if not command:\n",
    "        return jsonify({'error': 'No command provided'}), 400\n",
    "\n",
    "    process_guid = str(uuid.uuid4())\n",
    "    \n",
    "    try:\n",
    "        # Change to the command directory\n",
    "        original_dir = os.getcwd()\n",
    "        os.chdir(command)\n",
    "        \n",
    "        pilot = Pilot(\"run.ipynb\", step_timeout=2)\n",
    "        \n",
    "        process_info = {\n",
    "            'status': 'running',\n",
    "            'command': command,\n",
    "            'guid': process_guid,\n",
    "            'payload': None\n",
    "        }\n",
    "        \n",
    "        process_manager.set_current_process(process_info)\n",
    "        process_manager.add_process(process_guid, process_info)\n",
    "        \n",
    "        def run_notebook_task():\n",
    "            try:\n",
    "                result = pilot.run_workbook()\n",
    "                process_info.update({\n",
    "                    'status': 'finished',\n",
    "                    'payload': result\n",
    "                })\n",
    "            except Exception as e:\n",
    "                process_info.update({\n",
    "                    'status': 'error',\n",
    "                    'error': str(e)\n",
    "                })\n",
    "            finally:\n",
    "                # Revert to the original directory\n",
    "                os.chdir(original_dir)\n",
    "                process_manager.set_current_process(None)\n",
    "                process_manager.add_process(process_guid, process_info)\n",
    "                print(f\"Process {process_guid} completed with status: {process_info['status']}\")  # Debugging\n",
    "                \n",
    "        threading.Thread(target=run_notebook_task).start()\n",
    "        \n",
    "        return jsonify({\n",
    "            'status': 'running',\n",
    "            'guid': process_guid\n",
    "        })\n",
    "        \n",
    "    except Exception as e:\n",
    "        error_info = {\n",
    "            'status': 'error',\n",
    "            'command': command,\n",
    "            'guid': process_guid,\n",
    "            'error': str(e)\n",
    "        }\n",
    "        process_manager.add_process(process_guid, error_info)\n",
    "        return jsonify({'error': str(e)}), 500\n",
    "\n",
    "@app.route('/status', methods=['POST'])\n",
    "def get_status():\n",
    "    # Try to get GUID from different locations\n",
    "    guid = None\n",
    "    \n",
    "    # Check JSON body first\n",
    "    if request.is_json:\n",
    "        data = request.get_json()\n",
    "        guid = data.get('guid')\n",
    "    \n",
    "    # If no GUID in body, check query parameters\n",
    "    if not guid:\n",
    "        guid = request.args.get('guid')\n",
    "    \n",
    "    # If still no GUID, try form data\n",
    "    if not guid and request.form:\n",
    "        guid = request.form.get('guid')\n",
    "\n",
    "    if not guid:\n",
    "        return jsonify({\n",
    "            'error': 'No GUID provided. Send GUID either in request body or as query parameter',\n",
    "            'request_body': str(request.get_data()),\n",
    "            'query_params': dict(request.args),\n",
    "            'content_type': request.content_type\n",
    "        }), 400\n",
    "\n",
    "    # Trim whitespace from the GUID\n",
    "    guid = guid.strip()\n",
    "    print(f\"Looking up GUID: '{guid}'\")  # Debugging\n",
    "\n",
    "    process_info = process_manager.get_process(guid)\n",
    "    \n",
    "    if not process_info:\n",
    "        print(f\"GUID not found: '{guid}'\")  # Debugging\n",
    "        print(f\"Available GUIDs: {list(process_manager.processes.keys())}\")  # Debugging\n",
    "        return jsonify({'error': 'GUID unknown'}), 404\n",
    "        \n",
    "    return jsonify(process_info)\n",
    "\n",
    "if __name__ == '__main__':\n",
    "    app.run(host='0.0.0.0', port=5000)"
   ]
  },
  {
   "cell_type": "code",
   "execution_count": null,
   "id": "fb1e5c71-44eb-46a4-9a39-0c06e29deb0b",
   "metadata": {},
   "outputs": [],
   "source": []
  }
 ],
 "metadata": {
  "kernelspec": {
   "display_name": "Python 3 (ipykernel)",
   "language": "python",
   "name": "python3"
  },
  "language_info": {
   "codemirror_mode": {
    "name": "ipython",
    "version": 3
   },
   "file_extension": ".py",
   "mimetype": "text/x-python",
   "name": "python",
   "nbconvert_exporter": "python",
   "pygments_lexer": "ipython3",
   "version": "3.12.6"
  }
 },
 "nbformat": 4,
 "nbformat_minor": 5
}
