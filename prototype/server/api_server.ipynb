{
 "cells": [
  {
   "cell_type": "code",
   "execution_count": 1,
   "id": "e5663aa7-7ce0-43f3-ba8e-d6f7246fb7cb",
   "metadata": {},
   "outputs": [
    {
     "name": "stdout",
     "output_type": "stream",
     "text": [
      " * Serving Flask app '__main__'\n",
      " * Debug mode: off\n"
     ]
    },
    {
     "name": "stderr",
     "output_type": "stream",
     "text": [
      "WARNING: This is a development server. Do not use it in a production deployment. Use a production WSGI server instead.\n",
      " * Running on all addresses (0.0.0.0)\n",
      " * Running on http://127.0.0.1:5000\n",
      " * Running on http://192.168.2.177:5000\n",
      "Press CTRL+C to quit\n",
      "192.168.2.177 - - [31/Jan/2025 13:20:53] \"POST /run HTTP/1.1\" 200 -\n",
      "192.168.2.177 - - [31/Jan/2025 13:20:53] \"POST /status HTTP/1.1\" 200 -\n"
     ]
    },
    {
     "name": "stdout",
     "output_type": "stream",
     "text": [
      "Added process with GUID: 7c821e8a-f1aa-4726-8957-b92adeb8d489\n",
      "Processes in manager: OrderedDict({'7c821e8a-f1aa-4726-8957-b92adeb8d489': {'status': 'running', 'command': 'odoo-onshape-draft', 'guid': '7c821e8a-f1aa-4726-8957-b92adeb8d489', 'payload': None}})\n",
      "Staring step: 0\n",
      "Looking up GUID: '7c821e8a-f1aa-4726-8957-b92adeb8d489'\n",
      "found: 1\n",
      "Staring step: 0\n",
      "found: 1\n",
      "Staring step: 1\n",
      "Staring step: 2\n",
      "found: 1\n",
      "Staring step: 3\n",
      "Staring step: 4\n",
      "found: 1\n",
      "Staring step: 5\n",
      "found: 1\n",
      "Staring step: 1\n",
      "found: 1\n",
      "Staring step: 0\n",
      "found: 1\n"
     ]
    },
    {
     "name": "stderr",
     "output_type": "stream",
     "text": [
      "192.168.2.177 - - [31/Jan/2025 13:21:23] \"POST /status HTTP/1.1\" 200 -\n"
     ]
    },
    {
     "name": "stdout",
     "output_type": "stream",
     "text": [
      "Looking up GUID: '7c821e8a-f1aa-4726-8957-b92adeb8d489'\n",
      "Staring step: 1\n",
      "found: 1\n",
      "Staring step: 2\n",
      "found: 1\n",
      "Staring step: 3\n",
      "found: 1\n",
      "Staring step: 4\n",
      "found: 1\n",
      "Found product: test-base-30\n",
      "Staring step: 5\n",
      "found: 1\n",
      "Found dimensions: ['30', '30', '30']\n",
      "Staring step: 6\n",
      "found: 1\n",
      "Staring step: 7\n",
      "found: 1\n",
      "Staring step: 8\n",
      "found: 1\n"
     ]
    },
    {
     "name": "stderr",
     "output_type": "stream",
     "text": [
      "192.168.2.177 - - [31/Jan/2025 13:21:53] \"POST /status HTTP/1.1\" 200 -\n"
     ]
    },
    {
     "name": "stdout",
     "output_type": "stream",
     "text": [
      "Looking up GUID: '7c821e8a-f1aa-4726-8957-b92adeb8d489'\n",
      "Staring step: 9\n",
      "try: 0/30\n",
      "try: 1/30\n",
      "found: 1\n",
      "Staring step: 10\n",
      "found: 1\n",
      "Staring step: 11\n",
      "found: 1\n",
      "Staring step: 12\n",
      "found: 1\n",
      "Staring step: 13\n",
      "found: 1\n",
      "Staring step: 14\n",
      "found: 1\n",
      "Staring step: 15\n",
      "found: 1\n"
     ]
    },
    {
     "name": "stderr",
     "output_type": "stream",
     "text": [
      "192.168.2.177 - - [31/Jan/2025 13:22:23] \"POST /status HTTP/1.1\" 200 -\n"
     ]
    },
    {
     "name": "stdout",
     "output_type": "stream",
     "text": [
      "Looking up GUID: '7c821e8a-f1aa-4726-8957-b92adeb8d489'\n",
      "Staring step: 16\n",
      "found: 1\n",
      "Staring step: 17\n",
      "found: 1\n",
      "Staring step: 18\n",
      "found: 1\n",
      "Staring step: 19\n",
      "found: 1\n",
      "found product doc address: https://cad.onshape.com/documents/3f0abbf261890d8287af116a\n",
      "Staring step: 20\n",
      "found: 1\n",
      "Staring step: 21\n",
      "found: 1\n",
      "Staring step: 22\n",
      "found: 1\n",
      "Staring step: 23\n",
      "found: 1\n"
     ]
    },
    {
     "name": "stderr",
     "output_type": "stream",
     "text": [
      "192.168.2.177 - - [31/Jan/2025 13:22:53] \"POST /status HTTP/1.1\" 200 -\n"
     ]
    },
    {
     "name": "stdout",
     "output_type": "stream",
     "text": [
      "Looking up GUID: '7c821e8a-f1aa-4726-8957-b92adeb8d489'\n",
      "Staring step: 24\n",
      "found: 1\n",
      "Staring step: 25\n",
      "found: 1\n",
      "Staring step: 0\n",
      "found: 1\n",
      "Staring step: 1\n",
      "found: 1\n",
      "Staring step: 2\n",
      "found: 1\n",
      "Staring step: 3\n",
      "found: 1\n",
      "Staring step: 4\n",
      "found: 1\n",
      "Found product: test-base-40\n",
      "Staring step: 5\n",
      "found: 1\n",
      "Found dimensions: ['40', '40', '40']\n"
     ]
    },
    {
     "name": "stderr",
     "output_type": "stream",
     "text": [
      "192.168.2.177 - - [31/Jan/2025 13:23:23] \"POST /status HTTP/1.1\" 200 -\n"
     ]
    },
    {
     "name": "stdout",
     "output_type": "stream",
     "text": [
      "Looking up GUID: '7c821e8a-f1aa-4726-8957-b92adeb8d489'\n",
      "Staring step: 6\n",
      "found: 1\n",
      "Staring step: 7\n",
      "found: 1\n",
      "Staring step: 8\n",
      "found: 1\n",
      "Staring step: 9\n",
      "try: 0/30\n",
      "found: 1\n",
      "Staring step: 10\n",
      "found: 1\n",
      "Staring step: 11\n",
      "found: 1\n",
      "Staring step: 12\n",
      "found: 1\n",
      "Staring step: 13\n"
     ]
    },
    {
     "name": "stderr",
     "output_type": "stream",
     "text": [
      "192.168.2.177 - - [31/Jan/2025 13:23:53] \"POST /status HTTP/1.1\" 200 -\n"
     ]
    },
    {
     "name": "stdout",
     "output_type": "stream",
     "text": [
      "found: 1\n",
      "Looking up GUID: '7c821e8a-f1aa-4726-8957-b92adeb8d489'\n",
      "Staring step: 14\n",
      "found: 1\n",
      "Staring step: 15\n",
      "found: 1\n",
      "Staring step: 16\n",
      "found: 1\n",
      "Staring step: 17\n",
      "found: 1\n",
      "Staring step: 18\n",
      "found: 1\n",
      "Staring step: 19\n",
      "found: 1\n",
      "found product doc address: https://cad.onshape.com/documents/f80a1aab879bc75217d7ad34\n",
      "Staring step: 20\n"
     ]
    },
    {
     "name": "stderr",
     "output_type": "stream",
     "text": [
      "192.168.2.177 - - [31/Jan/2025 13:24:23] \"POST /status HTTP/1.1\" 200 -\n"
     ]
    },
    {
     "name": "stdout",
     "output_type": "stream",
     "text": [
      "Looking up GUID: '7c821e8a-f1aa-4726-8957-b92adeb8d489'\n",
      "found: 1\n",
      "Staring step: 21\n",
      "found: 1\n",
      "Staring step: 22\n",
      "found: 1\n",
      "Staring step: 23\n",
      "found: 1\n",
      "Staring step: 24\n",
      "found: 1\n",
      "Staring step: 25\n",
      "found: 1\n",
      "Staring step: 0\n",
      "found: 1\n",
      "Staring step: 1\n",
      "found: 1\n",
      "Staring step: 2\n",
      "found: 1\n"
     ]
    },
    {
     "name": "stderr",
     "output_type": "stream",
     "text": [
      "192.168.2.177 - - [31/Jan/2025 13:24:53] \"POST /status HTTP/1.1\" 200 -\n"
     ]
    },
    {
     "name": "stdout",
     "output_type": "stream",
     "text": [
      "Looking up GUID: '7c821e8a-f1aa-4726-8957-b92adeb8d489'\n",
      "Staring step: 3\n",
      "found: 1\n",
      "Staring step: 4\n",
      "found: 1\n",
      "Found product: test-base-50\n",
      "Staring step: 5\n",
      "found: 1\n",
      "Invalid value found - all elements must be numeric strings\n",
      "Staring step: 2\n",
      "The workflow did not finish as expected, user intervention needed\n",
      "Staring step: 0\n",
      "Staring step: 1\n",
      "found: 1\n",
      "Staring step: 2\n",
      "Staring step: 3\n",
      "found: 1\n"
     ]
    },
    {
     "name": "stderr",
     "output_type": "stream",
     "text": [
      "192.168.2.177 - - [31/Jan/2025 13:25:23] \"POST /status HTTP/1.1\" 200 -\n"
     ]
    },
    {
     "name": "stdout",
     "output_type": "stream",
     "text": [
      "Looking up GUID: '7c821e8a-f1aa-4726-8957-b92adeb8d489'\n",
      "Added process with GUID: 7c821e8a-f1aa-4726-8957-b92adeb8d489\n",
      "Processes in manager: OrderedDict({'7c821e8a-f1aa-4726-8957-b92adeb8d489': {'status': 'finished', 'command': 'odoo-onshape-draft', 'guid': '7c821e8a-f1aa-4726-8957-b92adeb8d489', 'payload': None}})\n",
      "Process 7c821e8a-f1aa-4726-8957-b92adeb8d489 completed with status: finished\n"
     ]
    },
    {
     "name": "stderr",
     "output_type": "stream",
     "text": [
      "192.168.2.177 - - [31/Jan/2025 13:25:53] \"POST /run HTTP/1.1\" 200 -\n",
      "192.168.2.177 - - [31/Jan/2025 13:25:53] \"POST /status HTTP/1.1\" 200 -\n"
     ]
    },
    {
     "name": "stdout",
     "output_type": "stream",
     "text": [
      "Added process with GUID: e3a5e4a5-8128-40df-ad0a-d1fb39aeb0de\n",
      "Processes in manager: OrderedDict({'7c821e8a-f1aa-4726-8957-b92adeb8d489': {'status': 'finished', 'command': 'odoo-onshape-draft', 'guid': '7c821e8a-f1aa-4726-8957-b92adeb8d489', 'payload': None}, 'e3a5e4a5-8128-40df-ad0a-d1fb39aeb0de': {'status': 'running', 'command': 'odoo-onshape-draft', 'guid': 'e3a5e4a5-8128-40df-ad0a-d1fb39aeb0de', 'payload': None}})\n",
      "Staring step: 0\n",
      "Looking up GUID: 'e3a5e4a5-8128-40df-ad0a-d1fb39aeb0de'\n"
     ]
    },
    {
     "name": "stderr",
     "output_type": "stream",
     "text": [
      "192.168.2.177 - - [31/Jan/2025 13:25:53] \"POST /status HTTP/1.1\" 200 -\n"
     ]
    },
    {
     "name": "stdout",
     "output_type": "stream",
     "text": [
      "Could not locate the image (highest confidence = 0.585)\n",
      "Looking up GUID: '7c821e8a-f1aa-4726-8957-b92adeb8d489'\n",
      "Added process with GUID: e3a5e4a5-8128-40df-ad0a-d1fb39aeb0de\n",
      "Processes in manager: OrderedDict({'7c821e8a-f1aa-4726-8957-b92adeb8d489': {'status': 'finished', 'command': 'odoo-onshape-draft', 'guid': '7c821e8a-f1aa-4726-8957-b92adeb8d489', 'payload': None}, 'e3a5e4a5-8128-40df-ad0a-d1fb39aeb0de': {'status': 'finished', 'command': 'odoo-onshape-draft', 'guid': 'e3a5e4a5-8128-40df-ad0a-d1fb39aeb0de', 'payload': None}})\n",
      "Process e3a5e4a5-8128-40df-ad0a-d1fb39aeb0de completed with status: finished\n"
     ]
    },
    {
     "name": "stderr",
     "output_type": "stream",
     "text": [
      "192.168.2.177 - - [31/Jan/2025 13:26:23] \"POST /status HTTP/1.1\" 200 -\n"
     ]
    },
    {
     "name": "stdout",
     "output_type": "stream",
     "text": [
      "Looking up GUID: 'e3a5e4a5-8128-40df-ad0a-d1fb39aeb0de'\n"
     ]
    },
    {
     "name": "stderr",
     "output_type": "stream",
     "text": [
      "192.168.2.177 - - [31/Jan/2025 13:27:24] \"POST /run HTTP/1.1\" 200 -\n",
      "192.168.2.177 - - [31/Jan/2025 13:27:24] \"POST /status HTTP/1.1\" 200 -\n"
     ]
    },
    {
     "name": "stdout",
     "output_type": "stream",
     "text": [
      "Added process with GUID: c33de746-88e8-4e4a-a1de-2d2542c4d076\n",
      "Processes in manager: OrderedDict({'7c821e8a-f1aa-4726-8957-b92adeb8d489': {'status': 'finished', 'command': 'odoo-onshape-draft', 'guid': '7c821e8a-f1aa-4726-8957-b92adeb8d489', 'payload': None}, 'e3a5e4a5-8128-40df-ad0a-d1fb39aeb0de': {'status': 'finished', 'command': 'odoo-onshape-draft', 'guid': 'e3a5e4a5-8128-40df-ad0a-d1fb39aeb0de', 'payload': None}, 'c33de746-88e8-4e4a-a1de-2d2542c4d076': {'status': 'running', 'command': 'odoo-onshape-draft', 'guid': 'c33de746-88e8-4e4a-a1de-2d2542c4d076', 'payload': None}})\n",
      "Staring step: 0\n",
      "Looking up GUID: 'c33de746-88e8-4e4a-a1de-2d2542c4d076'\n",
      "found: 1\n",
      "Staring step: 0\n",
      "found: 1\n",
      "Staring step: 1\n",
      "Staring step: 2\n",
      "found: 1\n",
      "Staring step: 3\n",
      "Staring step: 4\n",
      "found: 1\n",
      "Staring step: 5\n",
      "found: 1\n",
      "Staring step: 1\n",
      "found: 1\n",
      "Staring step: 0\n",
      "found: 1\n"
     ]
    },
    {
     "name": "stderr",
     "output_type": "stream",
     "text": [
      "192.168.2.177 - - [31/Jan/2025 13:27:54] \"POST /status HTTP/1.1\" 200 -\n"
     ]
    },
    {
     "name": "stdout",
     "output_type": "stream",
     "text": [
      "Looking up GUID: 'c33de746-88e8-4e4a-a1de-2d2542c4d076'\n",
      "Staring step: 1\n",
      "found: 1\n",
      "Staring step: 2\n",
      "found: 1\n",
      "Staring step: 3\n",
      "found: 1\n",
      "Staring step: 4\n",
      "found: 1\n",
      "Found product: test-base-50\n",
      "Staring step: 5\n",
      "found: 1\n",
      "Found dimensions: ['50', '50', '50']\n",
      "Staring step: 6\n",
      "found: 1\n",
      "Staring step: 7\n",
      "found: 1\n",
      "Staring step: 8\n",
      "found: 1\n"
     ]
    },
    {
     "name": "stderr",
     "output_type": "stream",
     "text": [
      "192.168.2.177 - - [31/Jan/2025 13:28:24] \"POST /status HTTP/1.1\" 200 -\n"
     ]
    },
    {
     "name": "stdout",
     "output_type": "stream",
     "text": [
      "Looking up GUID: 'c33de746-88e8-4e4a-a1de-2d2542c4d076'\n",
      "Staring step: 9\n",
      "try: 0/30\n",
      "found: 1\n",
      "Staring step: 10\n",
      "found: 1\n",
      "Staring step: 11\n",
      "found: 1\n",
      "Staring step: 12\n",
      "found: 1\n",
      "Staring step: 13\n",
      "found: 1\n",
      "Staring step: 14\n",
      "found: 1\n",
      "Staring step: 15\n",
      "found: 1\n"
     ]
    },
    {
     "name": "stderr",
     "output_type": "stream",
     "text": [
      "192.168.2.177 - - [31/Jan/2025 13:28:54] \"POST /status HTTP/1.1\" 200 -\n"
     ]
    },
    {
     "name": "stdout",
     "output_type": "stream",
     "text": [
      "Looking up GUID: 'c33de746-88e8-4e4a-a1de-2d2542c4d076'\n",
      "Staring step: 16\n",
      "found: 1\n",
      "Staring step: 17\n",
      "found: 1\n",
      "Staring step: 18\n",
      "found: 1\n",
      "Staring step: 19\n",
      "found: 1\n",
      "found product doc address: https://cad.onshape.com/documents/0130d2c1486839f2d20d279b\n",
      "Staring step: 20\n",
      "found: 1\n",
      "Staring step: 21\n",
      "found: 1\n",
      "Staring step: 22\n",
      "found: 1\n",
      "Staring step: 23\n",
      "found: 1\n"
     ]
    },
    {
     "name": "stderr",
     "output_type": "stream",
     "text": [
      "192.168.2.177 - - [31/Jan/2025 13:29:24] \"POST /status HTTP/1.1\" 200 -\n"
     ]
    },
    {
     "name": "stdout",
     "output_type": "stream",
     "text": [
      "Looking up GUID: 'c33de746-88e8-4e4a-a1de-2d2542c4d076'\n",
      "Staring step: 24\n",
      "found: 1\n",
      "Staring step: 25\n",
      "found: 1\n",
      "Staring step: 0\n",
      "found: 1\n",
      "Staring step: 1\n",
      "found: 1\n",
      "Staring step: 2\n",
      "found: 1\n",
      "Staring step: 3\n",
      "found: 1\n",
      "Staring step: 4\n",
      "found: 1\n",
      "Found product: test-base-60\n",
      "Staring step: 5\n",
      "found: 1\n",
      "Found dimensions: ['60', '60', '60']\n"
     ]
    },
    {
     "name": "stderr",
     "output_type": "stream",
     "text": [
      "192.168.2.177 - - [31/Jan/2025 13:29:54] \"POST /status HTTP/1.1\" 200 -\n"
     ]
    },
    {
     "name": "stdout",
     "output_type": "stream",
     "text": [
      "Looking up GUID: 'c33de746-88e8-4e4a-a1de-2d2542c4d076'\n",
      "Staring step: 6\n",
      "found: 1\n",
      "Staring step: 7\n",
      "found: 1\n",
      "Staring step: 8\n",
      "found: 1\n",
      "Staring step: 9\n",
      "try: 0/30\n",
      "try: 1/30\n",
      "found: 1\n",
      "Staring step: 10\n",
      "found: 1\n",
      "Staring step: 11\n",
      "found: 1\n",
      "Staring step: 12\n",
      "found: 1\n",
      "Staring step: 13\n",
      "found: 1\n"
     ]
    },
    {
     "name": "stderr",
     "output_type": "stream",
     "text": [
      "192.168.2.177 - - [31/Jan/2025 13:30:24] \"POST /status HTTP/1.1\" 200 -\n"
     ]
    },
    {
     "name": "stdout",
     "output_type": "stream",
     "text": [
      "Looking up GUID: 'c33de746-88e8-4e4a-a1de-2d2542c4d076'\n",
      "Staring step: 14\n",
      "found: 1\n",
      "Staring step: 15\n",
      "found: 1\n",
      "Staring step: 16\n",
      "found: 1\n",
      "Staring step: 17\n",
      "found: 1\n",
      "Staring step: 18\n",
      "found: 1\n",
      "Staring step: 19\n",
      "found: 1\n",
      "found product doc address: https://cad.onshape.com/documents/a6a33e5510c8dd22c1d62c34\n"
     ]
    },
    {
     "name": "stderr",
     "output_type": "stream",
     "text": [
      "192.168.2.177 - - [31/Jan/2025 13:30:53] \"POST /run HTTP/1.1\" 409 -\n"
     ]
    },
    {
     "name": "stdout",
     "output_type": "stream",
     "text": [
      "Staring step: 20\n"
     ]
    },
    {
     "name": "stderr",
     "output_type": "stream",
     "text": [
      "192.168.2.177 - - [31/Jan/2025 13:30:54] \"POST /status HTTP/1.1\" 200 -\n"
     ]
    },
    {
     "name": "stdout",
     "output_type": "stream",
     "text": [
      "Looking up GUID: 'c33de746-88e8-4e4a-a1de-2d2542c4d076'\n",
      "found: 1\n",
      "Staring step: 21\n",
      "found: 1\n",
      "Staring step: 22\n",
      "found: 1\n",
      "Staring step: 23\n",
      "found: 1\n",
      "Staring step: 24\n",
      "found: 1\n",
      "Staring step: 25\n",
      "found: 1\n",
      "Staring step: 0\n",
      "found: 1\n",
      "Staring step: 1\n",
      "found: 1\n",
      "Staring step: 2\n",
      "found: 1\n"
     ]
    },
    {
     "name": "stderr",
     "output_type": "stream",
     "text": [
      "192.168.2.177 - - [31/Jan/2025 13:31:24] \"POST /status HTTP/1.1\" 200 -\n"
     ]
    },
    {
     "name": "stdout",
     "output_type": "stream",
     "text": [
      "Looking up GUID: 'c33de746-88e8-4e4a-a1de-2d2542c4d076'\n",
      "Staring step: 3\n",
      "try: 0/10\n",
      "try: 1/10\n",
      "try: 2/10\n",
      "try: 3/10\n",
      "try: 4/10\n",
      "try: 5/10\n",
      "try: 6/10\n",
      "try: 7/10\n",
      "try: 8/10\n",
      "Could not locate the image (highest confidence = 0.479)\n",
      "Staring step: 2\n",
      "found: 1\n",
      "Staring step: 0\n",
      "found: 1\n",
      "Added process with GUID: c33de746-88e8-4e4a-a1de-2d2542c4d076\n",
      "Processes in manager: OrderedDict({'7c821e8a-f1aa-4726-8957-b92adeb8d489': {'status': 'finished', 'command': 'odoo-onshape-draft', 'guid': '7c821e8a-f1aa-4726-8957-b92adeb8d489', 'payload': None}, 'e3a5e4a5-8128-40df-ad0a-d1fb39aeb0de': {'status': 'finished', 'command': 'odoo-onshape-draft', 'guid': 'e3a5e4a5-8128-40df-ad0a-d1fb39aeb0de', 'payload': None}, 'c33de746-88e8-4e4a-a1de-2d2542c4d076': {'status': 'finished', 'command': 'odoo-onshape-draft', 'guid': 'c33de746-88e8-4e4a-a1de-2d2542c4d076', 'payload': None}})\n",
      "Process c33de746-88e8-4e4a-a1de-2d2542c4d076 completed with status: finished\n"
     ]
    },
    {
     "name": "stderr",
     "output_type": "stream",
     "text": [
      "192.168.2.177 - - [31/Jan/2025 13:31:54] \"POST /status HTTP/1.1\" 200 -\n"
     ]
    },
    {
     "name": "stdout",
     "output_type": "stream",
     "text": [
      "Looking up GUID: 'c33de746-88e8-4e4a-a1de-2d2542c4d076'\n"
     ]
    },
    {
     "name": "stderr",
     "output_type": "stream",
     "text": [
      "192.168.2.177 - - [31/Jan/2025 13:35:53] \"POST /run HTTP/1.1\" 200 -\n",
      "192.168.2.177 - - [31/Jan/2025 13:35:53] \"POST /status HTTP/1.1\" 200 -\n"
     ]
    },
    {
     "name": "stdout",
     "output_type": "stream",
     "text": [
      "Added process with GUID: cb6ea6a4-50ac-44e7-9a99-a8ae8c79ae86\n",
      "Processes in manager: OrderedDict({'7c821e8a-f1aa-4726-8957-b92adeb8d489': {'status': 'finished', 'command': 'odoo-onshape-draft', 'guid': '7c821e8a-f1aa-4726-8957-b92adeb8d489', 'payload': None}, 'e3a5e4a5-8128-40df-ad0a-d1fb39aeb0de': {'status': 'finished', 'command': 'odoo-onshape-draft', 'guid': 'e3a5e4a5-8128-40df-ad0a-d1fb39aeb0de', 'payload': None}, 'c33de746-88e8-4e4a-a1de-2d2542c4d076': {'status': 'finished', 'command': 'odoo-onshape-draft', 'guid': 'c33de746-88e8-4e4a-a1de-2d2542c4d076', 'payload': None}, 'cb6ea6a4-50ac-44e7-9a99-a8ae8c79ae86': {'status': 'running', 'command': 'odoo-onshape-draft', 'guid': 'cb6ea6a4-50ac-44e7-9a99-a8ae8c79ae86', 'payload': None}})\n",
      "Staring step: 0\n",
      "Looking up GUID: 'cb6ea6a4-50ac-44e7-9a99-a8ae8c79ae86'\n",
      "found: 1\n",
      "Staring step: 0\n",
      "found: 1\n",
      "Staring step: 1\n",
      "Staring step: 2\n",
      "try: 0/30\n",
      "try: 1/30\n",
      "try: 2/30\n",
      "try: 3/30\n",
      "try: 4/30\n",
      "try: 5/30\n",
      "try: 6/30\n",
      "try: 7/30\n",
      "try: 8/30\n",
      "try: 9/30\n",
      "try: 10/30\n",
      "try: 11/30\n",
      "try: 12/30\n",
      "try: 13/30\n",
      "try: 14/30\n",
      "Looking up GUID: 'cb6ea6a4-50ac-44e7-9a99-a8ae8c79ae86'\n"
     ]
    },
    {
     "name": "stderr",
     "output_type": "stream",
     "text": [
      "192.168.2.177 - - [31/Jan/2025 13:36:23] \"POST /status HTTP/1.1\" 200 -\n"
     ]
    },
    {
     "name": "stdout",
     "output_type": "stream",
     "text": [
      "try: 15/30\n",
      "try: 16/30\n",
      "try: 17/30\n",
      "try: 18/30\n",
      "found: 1\n",
      "Staring step: 3\n",
      "Staring step: 4\n",
      "found: 1\n",
      "Staring step: 5\n",
      "found: 1\n",
      "Staring step: 1\n",
      "found: 1\n",
      "Staring step: 0\n",
      "found: 1\n",
      "Staring step: 1\n",
      "found: 1\n",
      "Staring step: 2\n"
     ]
    },
    {
     "name": "stderr",
     "output_type": "stream",
     "text": [
      "192.168.2.177 - - [31/Jan/2025 13:36:53] \"POST /status HTTP/1.1\" 200 -\n"
     ]
    },
    {
     "name": "stdout",
     "output_type": "stream",
     "text": [
      "Looking up GUID: 'cb6ea6a4-50ac-44e7-9a99-a8ae8c79ae86'\n",
      "found: 1\n",
      "Staring step: 3\n",
      "try: 0/10\n",
      "try: 1/10\n",
      "try: 2/10\n",
      "try: 3/10\n",
      "try: 4/10\n",
      "try: 5/10\n",
      "try: 6/10\n",
      "try: 7/10\n",
      "try: 8/10\n",
      "Could not locate the image (highest confidence = 0.480)\n",
      "Staring step: 2\n",
      "found: 1\n",
      "Staring step: 0\n",
      "found: 1\n",
      "Added process with GUID: cb6ea6a4-50ac-44e7-9a99-a8ae8c79ae86\n",
      "Processes in manager: OrderedDict({'7c821e8a-f1aa-4726-8957-b92adeb8d489': {'status': 'finished', 'command': 'odoo-onshape-draft', 'guid': '7c821e8a-f1aa-4726-8957-b92adeb8d489', 'payload': None}, 'e3a5e4a5-8128-40df-ad0a-d1fb39aeb0de': {'status': 'finished', 'command': 'odoo-onshape-draft', 'guid': 'e3a5e4a5-8128-40df-ad0a-d1fb39aeb0de', 'payload': None}, 'c33de746-88e8-4e4a-a1de-2d2542c4d076': {'status': 'finished', 'command': 'odoo-onshape-draft', 'guid': 'c33de746-88e8-4e4a-a1de-2d2542c4d076', 'payload': None}, 'cb6ea6a4-50ac-44e7-9a99-a8ae8c79ae86': {'status': 'finished', 'command': 'odoo-onshape-draft', 'guid': 'cb6ea6a4-50ac-44e7-9a99-a8ae8c79ae86', 'payload': None}})\n",
      "Process cb6ea6a4-50ac-44e7-9a99-a8ae8c79ae86 completed with status: finished\n"
     ]
    },
    {
     "name": "stderr",
     "output_type": "stream",
     "text": [
      "192.168.2.177 - - [31/Jan/2025 13:37:23] \"POST /status HTTP/1.1\" 200 -\n"
     ]
    },
    {
     "name": "stdout",
     "output_type": "stream",
     "text": [
      "Looking up GUID: 'cb6ea6a4-50ac-44e7-9a99-a8ae8c79ae86'\n"
     ]
    },
    {
     "name": "stderr",
     "output_type": "stream",
     "text": [
      "192.168.2.177 - - [31/Jan/2025 13:40:53] \"POST /run HTTP/1.1\" 200 -\n",
      "192.168.2.177 - - [31/Jan/2025 13:40:53] \"POST /status HTTP/1.1\" 200 -\n"
     ]
    },
    {
     "name": "stdout",
     "output_type": "stream",
     "text": [
      "Added process with GUID: 0af3c0ba-577c-4971-930d-cd44d1b9d6ad\n",
      "Processes in manager: OrderedDict({'7c821e8a-f1aa-4726-8957-b92adeb8d489': {'status': 'finished', 'command': 'odoo-onshape-draft', 'guid': '7c821e8a-f1aa-4726-8957-b92adeb8d489', 'payload': None}, 'e3a5e4a5-8128-40df-ad0a-d1fb39aeb0de': {'status': 'finished', 'command': 'odoo-onshape-draft', 'guid': 'e3a5e4a5-8128-40df-ad0a-d1fb39aeb0de', 'payload': None}, 'c33de746-88e8-4e4a-a1de-2d2542c4d076': {'status': 'finished', 'command': 'odoo-onshape-draft', 'guid': 'c33de746-88e8-4e4a-a1de-2d2542c4d076', 'payload': None}, 'cb6ea6a4-50ac-44e7-9a99-a8ae8c79ae86': {'status': 'finished', 'command': 'odoo-onshape-draft', 'guid': 'cb6ea6a4-50ac-44e7-9a99-a8ae8c79ae86', 'payload': None}, '0af3c0ba-577c-4971-930d-cd44d1b9d6ad': {'status': 'running', 'command': 'odoo-onshape-draft', 'guid': '0af3c0ba-577c-4971-930d-cd44d1b9d6ad', 'payload': None}})\n",
      "Staring step: 0\n",
      "Looking up GUID: '0af3c0ba-577c-4971-930d-cd44d1b9d6ad'\n",
      "found: 1\n",
      "Staring step: 0\n",
      "found: 1\n",
      "Staring step: 1\n",
      "Staring step: 2\n",
      "found: 1\n",
      "Staring step: 3\n",
      "Staring step: 4\n",
      "found: 1\n",
      "Staring step: 5\n",
      "found: 1\n",
      "Staring step: 1\n",
      "found: 1\n",
      "Staring step: 0\n",
      "found: 1\n"
     ]
    },
    {
     "name": "stderr",
     "output_type": "stream",
     "text": [
      "192.168.2.177 - - [31/Jan/2025 13:41:23] \"POST /status HTTP/1.1\" 200 -\n"
     ]
    },
    {
     "name": "stdout",
     "output_type": "stream",
     "text": [
      "Looking up GUID: '0af3c0ba-577c-4971-930d-cd44d1b9d6ad'\n",
      "Staring step: 1\n",
      "found: 1\n",
      "Staring step: 2\n",
      "found: 1\n",
      "Staring step: 3\n",
      "try: 0/10\n",
      "try: 1/10\n",
      "try: 2/10\n",
      "try: 3/10\n",
      "try: 4/10\n",
      "try: 5/10\n",
      "try: 6/10\n",
      "try: 7/10\n",
      "try: 8/10\n",
      "Could not locate the image (highest confidence = 0.480)\n",
      "Staring step: 2\n",
      "found: 1\n",
      "Staring step: 0\n",
      "found: 1\n"
     ]
    },
    {
     "name": "stderr",
     "output_type": "stream",
     "text": [
      "192.168.2.177 - - [31/Jan/2025 13:41:53] \"POST /status HTTP/1.1\" 200 -\n"
     ]
    },
    {
     "name": "stdout",
     "output_type": "stream",
     "text": [
      "Looking up GUID: '0af3c0ba-577c-4971-930d-cd44d1b9d6ad'\n",
      "Added process with GUID: 0af3c0ba-577c-4971-930d-cd44d1b9d6ad\n",
      "Processes in manager: OrderedDict({'7c821e8a-f1aa-4726-8957-b92adeb8d489': {'status': 'finished', 'command': 'odoo-onshape-draft', 'guid': '7c821e8a-f1aa-4726-8957-b92adeb8d489', 'payload': None}, 'e3a5e4a5-8128-40df-ad0a-d1fb39aeb0de': {'status': 'finished', 'command': 'odoo-onshape-draft', 'guid': 'e3a5e4a5-8128-40df-ad0a-d1fb39aeb0de', 'payload': None}, 'c33de746-88e8-4e4a-a1de-2d2542c4d076': {'status': 'finished', 'command': 'odoo-onshape-draft', 'guid': 'c33de746-88e8-4e4a-a1de-2d2542c4d076', 'payload': None}, 'cb6ea6a4-50ac-44e7-9a99-a8ae8c79ae86': {'status': 'finished', 'command': 'odoo-onshape-draft', 'guid': 'cb6ea6a4-50ac-44e7-9a99-a8ae8c79ae86', 'payload': None}, '0af3c0ba-577c-4971-930d-cd44d1b9d6ad': {'status': 'finished', 'command': 'odoo-onshape-draft', 'guid': '0af3c0ba-577c-4971-930d-cd44d1b9d6ad', 'payload': None}})\n",
      "Process 0af3c0ba-577c-4971-930d-cd44d1b9d6ad completed with status: finished\n"
     ]
    },
    {
     "name": "stderr",
     "output_type": "stream",
     "text": [
      "192.168.2.177 - - [31/Jan/2025 13:42:23] \"POST /status HTTP/1.1\" 200 -\n"
     ]
    },
    {
     "name": "stdout",
     "output_type": "stream",
     "text": [
      "Looking up GUID: '0af3c0ba-577c-4971-930d-cd44d1b9d6ad'\n"
     ]
    },
    {
     "name": "stderr",
     "output_type": "stream",
     "text": [
      "192.168.2.177 - - [31/Jan/2025 13:45:53] \"POST /run HTTP/1.1\" 200 -\n",
      "192.168.2.177 - - [31/Jan/2025 13:45:53] \"POST /status HTTP/1.1\" 200 -\n"
     ]
    },
    {
     "name": "stdout",
     "output_type": "stream",
     "text": [
      "Added process with GUID: eec35384-7332-44b0-9204-9bd35c8da9da\n",
      "Processes in manager: OrderedDict({'7c821e8a-f1aa-4726-8957-b92adeb8d489': {'status': 'finished', 'command': 'odoo-onshape-draft', 'guid': '7c821e8a-f1aa-4726-8957-b92adeb8d489', 'payload': None}, 'e3a5e4a5-8128-40df-ad0a-d1fb39aeb0de': {'status': 'finished', 'command': 'odoo-onshape-draft', 'guid': 'e3a5e4a5-8128-40df-ad0a-d1fb39aeb0de', 'payload': None}, 'c33de746-88e8-4e4a-a1de-2d2542c4d076': {'status': 'finished', 'command': 'odoo-onshape-draft', 'guid': 'c33de746-88e8-4e4a-a1de-2d2542c4d076', 'payload': None}, 'cb6ea6a4-50ac-44e7-9a99-a8ae8c79ae86': {'status': 'finished', 'command': 'odoo-onshape-draft', 'guid': 'cb6ea6a4-50ac-44e7-9a99-a8ae8c79ae86', 'payload': None}, '0af3c0ba-577c-4971-930d-cd44d1b9d6ad': {'status': 'finished', 'command': 'odoo-onshape-draft', 'guid': '0af3c0ba-577c-4971-930d-cd44d1b9d6ad', 'payload': None}, 'eec35384-7332-44b0-9204-9bd35c8da9da': {'status': 'running', 'command': 'odoo-onshape-draft', 'guid': 'eec35384-7332-44b0-9204-9bd35c8da9da', 'payload': None}})\n",
      "Staring step: 0\n",
      "Looking up GUID: 'eec35384-7332-44b0-9204-9bd35c8da9da'\n",
      "found: 1\n",
      "Staring step: 0\n",
      "found: 1\n",
      "Staring step: 1\n",
      "Staring step: 2\n",
      "found: 1\n",
      "Staring step: 3\n",
      "Staring step: 4\n",
      "found: 1\n",
      "Staring step: 5\n",
      "found: 1\n",
      "Staring step: 1\n",
      "found: 1\n",
      "Staring step: 0\n",
      "found: 1\n"
     ]
    },
    {
     "name": "stderr",
     "output_type": "stream",
     "text": [
      "192.168.2.177 - - [31/Jan/2025 13:46:23] \"POST /status HTTP/1.1\" 200 -\n"
     ]
    },
    {
     "name": "stdout",
     "output_type": "stream",
     "text": [
      "Looking up GUID: 'eec35384-7332-44b0-9204-9bd35c8da9da'\n",
      "Staring step: 1\n",
      "found: 1\n",
      "Staring step: 2\n",
      "found: 1\n",
      "Staring step: 3\n",
      "try: 0/10\n",
      "try: 1/10\n",
      "try: 2/10\n",
      "try: 3/10\n",
      "try: 4/10\n",
      "try: 5/10\n",
      "try: 6/10\n",
      "try: 7/10\n",
      "try: 8/10\n",
      "Could not locate the image (highest confidence = 0.480)\n",
      "Staring step: 2\n",
      "found: 1\n",
      "Staring step: 0\n",
      "found: 1\n"
     ]
    },
    {
     "name": "stderr",
     "output_type": "stream",
     "text": [
      "192.168.2.177 - - [31/Jan/2025 13:46:53] \"POST /status HTTP/1.1\" 200 -\n"
     ]
    },
    {
     "name": "stdout",
     "output_type": "stream",
     "text": [
      "Looking up GUID: 'eec35384-7332-44b0-9204-9bd35c8da9da'\n",
      "Added process with GUID: eec35384-7332-44b0-9204-9bd35c8da9da\n",
      "Processes in manager: OrderedDict({'7c821e8a-f1aa-4726-8957-b92adeb8d489': {'status': 'finished', 'command': 'odoo-onshape-draft', 'guid': '7c821e8a-f1aa-4726-8957-b92adeb8d489', 'payload': None}, 'e3a5e4a5-8128-40df-ad0a-d1fb39aeb0de': {'status': 'finished', 'command': 'odoo-onshape-draft', 'guid': 'e3a5e4a5-8128-40df-ad0a-d1fb39aeb0de', 'payload': None}, 'c33de746-88e8-4e4a-a1de-2d2542c4d076': {'status': 'finished', 'command': 'odoo-onshape-draft', 'guid': 'c33de746-88e8-4e4a-a1de-2d2542c4d076', 'payload': None}, 'cb6ea6a4-50ac-44e7-9a99-a8ae8c79ae86': {'status': 'finished', 'command': 'odoo-onshape-draft', 'guid': 'cb6ea6a4-50ac-44e7-9a99-a8ae8c79ae86', 'payload': None}, '0af3c0ba-577c-4971-930d-cd44d1b9d6ad': {'status': 'finished', 'command': 'odoo-onshape-draft', 'guid': '0af3c0ba-577c-4971-930d-cd44d1b9d6ad', 'payload': None}, 'eec35384-7332-44b0-9204-9bd35c8da9da': {'status': 'finished', 'command': 'odoo-onshape-draft', 'guid': 'eec35384-7332-44b0-9204-9bd35c8da9da', 'payload': None}})\n",
      "Process eec35384-7332-44b0-9204-9bd35c8da9da completed with status: finished\n"
     ]
    },
    {
     "name": "stderr",
     "output_type": "stream",
     "text": [
      "192.168.2.177 - - [31/Jan/2025 13:47:23] \"POST /status HTTP/1.1\" 200 -\n"
     ]
    },
    {
     "name": "stdout",
     "output_type": "stream",
     "text": [
      "Looking up GUID: 'eec35384-7332-44b0-9204-9bd35c8da9da'\n"
     ]
    },
    {
     "name": "stderr",
     "output_type": "stream",
     "text": [
      "192.168.2.177 - - [31/Jan/2025 13:50:53] \"POST /run HTTP/1.1\" 200 -\n",
      "192.168.2.177 - - [31/Jan/2025 13:50:53] \"POST /status HTTP/1.1\" 200 -\n"
     ]
    },
    {
     "name": "stdout",
     "output_type": "stream",
     "text": [
      "Added process with GUID: ec5e5cd2-47af-450d-b558-e7faf32c325c\n",
      "Processes in manager: OrderedDict({'7c821e8a-f1aa-4726-8957-b92adeb8d489': {'status': 'finished', 'command': 'odoo-onshape-draft', 'guid': '7c821e8a-f1aa-4726-8957-b92adeb8d489', 'payload': None}, 'e3a5e4a5-8128-40df-ad0a-d1fb39aeb0de': {'status': 'finished', 'command': 'odoo-onshape-draft', 'guid': 'e3a5e4a5-8128-40df-ad0a-d1fb39aeb0de', 'payload': None}, 'c33de746-88e8-4e4a-a1de-2d2542c4d076': {'status': 'finished', 'command': 'odoo-onshape-draft', 'guid': 'c33de746-88e8-4e4a-a1de-2d2542c4d076', 'payload': None}, 'cb6ea6a4-50ac-44e7-9a99-a8ae8c79ae86': {'status': 'finished', 'command': 'odoo-onshape-draft', 'guid': 'cb6ea6a4-50ac-44e7-9a99-a8ae8c79ae86', 'payload': None}, '0af3c0ba-577c-4971-930d-cd44d1b9d6ad': {'status': 'finished', 'command': 'odoo-onshape-draft', 'guid': '0af3c0ba-577c-4971-930d-cd44d1b9d6ad', 'payload': None}, 'eec35384-7332-44b0-9204-9bd35c8da9da': {'status': 'finished', 'command': 'odoo-onshape-draft', 'guid': 'eec35384-7332-44b0-9204-9bd35c8da9da', 'payload': None}, 'ec5e5cd2-47af-450d-b558-e7faf32c325c': {'status': 'running', 'command': 'odoo-onshape-draft', 'guid': 'ec5e5cd2-47af-450d-b558-e7faf32c325c', 'payload': None}})\n",
      "Staring step: 0\n",
      "Looking up GUID: 'ec5e5cd2-47af-450d-b558-e7faf32c325c'\n",
      "found: 1\n",
      "Staring step: 0\n",
      "found: 1\n",
      "Staring step: 1\n",
      "Staring step: 2\n",
      "found: 1\n",
      "Staring step: 3\n",
      "Staring step: 4\n",
      "found: 1\n",
      "Staring step: 5\n",
      "found: 1\n",
      "Staring step: 1\n",
      "found: 1\n",
      "Staring step: 0\n",
      "found: 1\n"
     ]
    },
    {
     "name": "stderr",
     "output_type": "stream",
     "text": [
      "192.168.2.177 - - [31/Jan/2025 13:51:23] \"POST /status HTTP/1.1\" 200 -\n"
     ]
    },
    {
     "name": "stdout",
     "output_type": "stream",
     "text": [
      "Looking up GUID: 'ec5e5cd2-47af-450d-b558-e7faf32c325c'\n",
      "Staring step: 1\n",
      "found: 1\n",
      "Staring step: 2\n",
      "found: 1\n",
      "Staring step: 3\n",
      "try: 0/10\n",
      "try: 1/10\n",
      "try: 2/10\n",
      "try: 3/10\n",
      "try: 4/10\n",
      "try: 5/10\n",
      "try: 6/10\n",
      "try: 7/10\n",
      "try: 8/10\n",
      "Could not locate the image (highest confidence = 0.480)\n",
      "Staring step: 2\n",
      "found: 1\n",
      "Staring step: 0\n",
      "found: 1\n"
     ]
    },
    {
     "name": "stderr",
     "output_type": "stream",
     "text": [
      "192.168.2.177 - - [31/Jan/2025 13:51:53] \"POST /status HTTP/1.1\" 200 -\n"
     ]
    },
    {
     "name": "stdout",
     "output_type": "stream",
     "text": [
      "Looking up GUID: 'ec5e5cd2-47af-450d-b558-e7faf32c325c'\n",
      "Added process with GUID: ec5e5cd2-47af-450d-b558-e7faf32c325c\n",
      "Processes in manager: OrderedDict({'7c821e8a-f1aa-4726-8957-b92adeb8d489': {'status': 'finished', 'command': 'odoo-onshape-draft', 'guid': '7c821e8a-f1aa-4726-8957-b92adeb8d489', 'payload': None}, 'e3a5e4a5-8128-40df-ad0a-d1fb39aeb0de': {'status': 'finished', 'command': 'odoo-onshape-draft', 'guid': 'e3a5e4a5-8128-40df-ad0a-d1fb39aeb0de', 'payload': None}, 'c33de746-88e8-4e4a-a1de-2d2542c4d076': {'status': 'finished', 'command': 'odoo-onshape-draft', 'guid': 'c33de746-88e8-4e4a-a1de-2d2542c4d076', 'payload': None}, 'cb6ea6a4-50ac-44e7-9a99-a8ae8c79ae86': {'status': 'finished', 'command': 'odoo-onshape-draft', 'guid': 'cb6ea6a4-50ac-44e7-9a99-a8ae8c79ae86', 'payload': None}, '0af3c0ba-577c-4971-930d-cd44d1b9d6ad': {'status': 'finished', 'command': 'odoo-onshape-draft', 'guid': '0af3c0ba-577c-4971-930d-cd44d1b9d6ad', 'payload': None}, 'eec35384-7332-44b0-9204-9bd35c8da9da': {'status': 'finished', 'command': 'odoo-onshape-draft', 'guid': 'eec35384-7332-44b0-9204-9bd35c8da9da', 'payload': None}, 'ec5e5cd2-47af-450d-b558-e7faf32c325c': {'status': 'finished', 'command': 'odoo-onshape-draft', 'guid': 'ec5e5cd2-47af-450d-b558-e7faf32c325c', 'payload': None}})\n",
      "Process ec5e5cd2-47af-450d-b558-e7faf32c325c completed with status: finished\n"
     ]
    },
    {
     "name": "stderr",
     "output_type": "stream",
     "text": [
      "192.168.2.177 - - [31/Jan/2025 13:52:23] \"POST /status HTTP/1.1\" 200 -\n"
     ]
    },
    {
     "name": "stdout",
     "output_type": "stream",
     "text": [
      "Looking up GUID: 'ec5e5cd2-47af-450d-b558-e7faf32c325c'\n"
     ]
    },
    {
     "name": "stderr",
     "output_type": "stream",
     "text": [
      "192.168.2.177 - - [31/Jan/2025 13:55:53] \"POST /run HTTP/1.1\" 200 -\n",
      "192.168.2.177 - - [31/Jan/2025 13:55:53] \"POST /status HTTP/1.1\" 200 -\n"
     ]
    },
    {
     "name": "stdout",
     "output_type": "stream",
     "text": [
      "Added process with GUID: d00d91f2-1f94-4659-b6f4-57297d8fbc9b\n",
      "Processes in manager: OrderedDict({'7c821e8a-f1aa-4726-8957-b92adeb8d489': {'status': 'finished', 'command': 'odoo-onshape-draft', 'guid': '7c821e8a-f1aa-4726-8957-b92adeb8d489', 'payload': None}, 'e3a5e4a5-8128-40df-ad0a-d1fb39aeb0de': {'status': 'finished', 'command': 'odoo-onshape-draft', 'guid': 'e3a5e4a5-8128-40df-ad0a-d1fb39aeb0de', 'payload': None}, 'c33de746-88e8-4e4a-a1de-2d2542c4d076': {'status': 'finished', 'command': 'odoo-onshape-draft', 'guid': 'c33de746-88e8-4e4a-a1de-2d2542c4d076', 'payload': None}, 'cb6ea6a4-50ac-44e7-9a99-a8ae8c79ae86': {'status': 'finished', 'command': 'odoo-onshape-draft', 'guid': 'cb6ea6a4-50ac-44e7-9a99-a8ae8c79ae86', 'payload': None}, '0af3c0ba-577c-4971-930d-cd44d1b9d6ad': {'status': 'finished', 'command': 'odoo-onshape-draft', 'guid': '0af3c0ba-577c-4971-930d-cd44d1b9d6ad', 'payload': None}, 'eec35384-7332-44b0-9204-9bd35c8da9da': {'status': 'finished', 'command': 'odoo-onshape-draft', 'guid': 'eec35384-7332-44b0-9204-9bd35c8da9da', 'payload': None}, 'ec5e5cd2-47af-450d-b558-e7faf32c325c': {'status': 'finished', 'command': 'odoo-onshape-draft', 'guid': 'ec5e5cd2-47af-450d-b558-e7faf32c325c', 'payload': None}, 'd00d91f2-1f94-4659-b6f4-57297d8fbc9b': {'status': 'running', 'command': 'odoo-onshape-draft', 'guid': 'd00d91f2-1f94-4659-b6f4-57297d8fbc9b', 'payload': None}})\n",
      "Staring step: 0\n",
      "Looking up GUID: 'd00d91f2-1f94-4659-b6f4-57297d8fbc9b'\n",
      "found: 1\n",
      "Staring step: 0\n",
      "found: 1\n",
      "Staring step: 1\n",
      "Staring step: 2\n",
      "found: 1\n",
      "Staring step: 3\n",
      "Staring step: 4\n",
      "found: 1\n",
      "Staring step: 5\n",
      "found: 1\n",
      "Staring step: 1\n",
      "found: 1\n",
      "Staring step: 0\n",
      "found: 1\n"
     ]
    },
    {
     "name": "stderr",
     "output_type": "stream",
     "text": [
      "192.168.2.177 - - [31/Jan/2025 13:56:23] \"POST /status HTTP/1.1\" 200 -\n"
     ]
    },
    {
     "name": "stdout",
     "output_type": "stream",
     "text": [
      "Looking up GUID: 'd00d91f2-1f94-4659-b6f4-57297d8fbc9b'\n",
      "Staring step: 1\n",
      "found: 1\n",
      "Staring step: 2\n",
      "found: 1\n",
      "Staring step: 3\n",
      "try: 0/10\n",
      "try: 1/10\n",
      "try: 2/10\n",
      "try: 3/10\n",
      "try: 4/10\n",
      "try: 5/10\n",
      "try: 6/10\n",
      "try: 7/10\n",
      "try: 8/10\n",
      "Could not locate the image (highest confidence = 0.481)\n",
      "Staring step: 2\n",
      "found: 1\n",
      "Staring step: 0\n",
      "found: 1\n"
     ]
    },
    {
     "name": "stderr",
     "output_type": "stream",
     "text": [
      "192.168.2.177 - - [31/Jan/2025 13:56:53] \"POST /status HTTP/1.1\" 200 -\n"
     ]
    },
    {
     "name": "stdout",
     "output_type": "stream",
     "text": [
      "Looking up GUID: 'd00d91f2-1f94-4659-b6f4-57297d8fbc9b'\n",
      "Added process with GUID: d00d91f2-1f94-4659-b6f4-57297d8fbc9b\n",
      "Processes in manager: OrderedDict({'7c821e8a-f1aa-4726-8957-b92adeb8d489': {'status': 'finished', 'command': 'odoo-onshape-draft', 'guid': '7c821e8a-f1aa-4726-8957-b92adeb8d489', 'payload': None}, 'e3a5e4a5-8128-40df-ad0a-d1fb39aeb0de': {'status': 'finished', 'command': 'odoo-onshape-draft', 'guid': 'e3a5e4a5-8128-40df-ad0a-d1fb39aeb0de', 'payload': None}, 'c33de746-88e8-4e4a-a1de-2d2542c4d076': {'status': 'finished', 'command': 'odoo-onshape-draft', 'guid': 'c33de746-88e8-4e4a-a1de-2d2542c4d076', 'payload': None}, 'cb6ea6a4-50ac-44e7-9a99-a8ae8c79ae86': {'status': 'finished', 'command': 'odoo-onshape-draft', 'guid': 'cb6ea6a4-50ac-44e7-9a99-a8ae8c79ae86', 'payload': None}, '0af3c0ba-577c-4971-930d-cd44d1b9d6ad': {'status': 'finished', 'command': 'odoo-onshape-draft', 'guid': '0af3c0ba-577c-4971-930d-cd44d1b9d6ad', 'payload': None}, 'eec35384-7332-44b0-9204-9bd35c8da9da': {'status': 'finished', 'command': 'odoo-onshape-draft', 'guid': 'eec35384-7332-44b0-9204-9bd35c8da9da', 'payload': None}, 'ec5e5cd2-47af-450d-b558-e7faf32c325c': {'status': 'finished', 'command': 'odoo-onshape-draft', 'guid': 'ec5e5cd2-47af-450d-b558-e7faf32c325c', 'payload': None}, 'd00d91f2-1f94-4659-b6f4-57297d8fbc9b': {'status': 'finished', 'command': 'odoo-onshape-draft', 'guid': 'd00d91f2-1f94-4659-b6f4-57297d8fbc9b', 'payload': None}})\n",
      "Process d00d91f2-1f94-4659-b6f4-57297d8fbc9b completed with status: finished\n"
     ]
    },
    {
     "name": "stderr",
     "output_type": "stream",
     "text": [
      "192.168.2.177 - - [31/Jan/2025 13:57:23] \"POST /status HTTP/1.1\" 200 -\n"
     ]
    },
    {
     "name": "stdout",
     "output_type": "stream",
     "text": [
      "Looking up GUID: 'd00d91f2-1f94-4659-b6f4-57297d8fbc9b'\n"
     ]
    },
    {
     "name": "stderr",
     "output_type": "stream",
     "text": [
      "192.168.2.177 - - [31/Jan/2025 14:00:53] \"POST /run HTTP/1.1\" 200 -\n",
      "192.168.2.177 - - [31/Jan/2025 14:00:53] \"POST /status HTTP/1.1\" 200 -\n"
     ]
    },
    {
     "name": "stdout",
     "output_type": "stream",
     "text": [
      "Added process with GUID: 8e2fe7e0-c507-4c9b-9edd-c44214655679\n",
      "Processes in manager: OrderedDict({'7c821e8a-f1aa-4726-8957-b92adeb8d489': {'status': 'finished', 'command': 'odoo-onshape-draft', 'guid': '7c821e8a-f1aa-4726-8957-b92adeb8d489', 'payload': None}, 'e3a5e4a5-8128-40df-ad0a-d1fb39aeb0de': {'status': 'finished', 'command': 'odoo-onshape-draft', 'guid': 'e3a5e4a5-8128-40df-ad0a-d1fb39aeb0de', 'payload': None}, 'c33de746-88e8-4e4a-a1de-2d2542c4d076': {'status': 'finished', 'command': 'odoo-onshape-draft', 'guid': 'c33de746-88e8-4e4a-a1de-2d2542c4d076', 'payload': None}, 'cb6ea6a4-50ac-44e7-9a99-a8ae8c79ae86': {'status': 'finished', 'command': 'odoo-onshape-draft', 'guid': 'cb6ea6a4-50ac-44e7-9a99-a8ae8c79ae86', 'payload': None}, '0af3c0ba-577c-4971-930d-cd44d1b9d6ad': {'status': 'finished', 'command': 'odoo-onshape-draft', 'guid': '0af3c0ba-577c-4971-930d-cd44d1b9d6ad', 'payload': None}, 'eec35384-7332-44b0-9204-9bd35c8da9da': {'status': 'finished', 'command': 'odoo-onshape-draft', 'guid': 'eec35384-7332-44b0-9204-9bd35c8da9da', 'payload': None}, 'ec5e5cd2-47af-450d-b558-e7faf32c325c': {'status': 'finished', 'command': 'odoo-onshape-draft', 'guid': 'ec5e5cd2-47af-450d-b558-e7faf32c325c', 'payload': None}, 'd00d91f2-1f94-4659-b6f4-57297d8fbc9b': {'status': 'finished', 'command': 'odoo-onshape-draft', 'guid': 'd00d91f2-1f94-4659-b6f4-57297d8fbc9b', 'payload': None}, '8e2fe7e0-c507-4c9b-9edd-c44214655679': {'status': 'running', 'command': 'odoo-onshape-draft', 'guid': '8e2fe7e0-c507-4c9b-9edd-c44214655679', 'payload': None}})\n",
      "Staring step: 0\n",
      "Looking up GUID: '8e2fe7e0-c507-4c9b-9edd-c44214655679'\n",
      "found: 1\n",
      "Staring step: 0\n",
      "found: 1\n",
      "Staring step: 1\n",
      "Staring step: 2\n",
      "found: 1\n",
      "Staring step: 3\n",
      "Staring step: 4\n",
      "found: 1\n",
      "Staring step: 5\n",
      "found: 1\n",
      "Staring step: 1\n",
      "found: 1\n",
      "Staring step: 0\n",
      "found: 1\n"
     ]
    },
    {
     "name": "stderr",
     "output_type": "stream",
     "text": [
      "192.168.2.177 - - [31/Jan/2025 14:01:23] \"POST /status HTTP/1.1\" 200 -\n"
     ]
    },
    {
     "name": "stdout",
     "output_type": "stream",
     "text": [
      "Looking up GUID: '8e2fe7e0-c507-4c9b-9edd-c44214655679'\n",
      "Staring step: 1\n",
      "found: 1\n",
      "Staring step: 2\n",
      "found: 1\n",
      "Staring step: 3\n",
      "found: 1\n",
      "Staring step: 4\n",
      "found: 1\n",
      "Found product: Test-Stock-30\n",
      "Staring step: 5\n",
      "found: 1\n",
      "Found dimensions: ['30', '30', '30']\n",
      "Staring step: 6\n",
      "found: 1\n",
      "Staring step: 7\n",
      "found: 1\n",
      "Staring step: 8\n",
      "found: 1\n"
     ]
    },
    {
     "name": "stderr",
     "output_type": "stream",
     "text": [
      "192.168.2.177 - - [31/Jan/2025 14:01:53] \"POST /status HTTP/1.1\" 200 -\n"
     ]
    },
    {
     "name": "stdout",
     "output_type": "stream",
     "text": [
      "Looking up GUID: '8e2fe7e0-c507-4c9b-9edd-c44214655679'\n",
      "Staring step: 9\n",
      "try: 0/30\n",
      "found: 1\n",
      "Staring step: 10\n",
      "found: 1\n",
      "Staring step: 11\n",
      "found: 1\n",
      "Staring step: 12\n",
      "found: 1\n",
      "Staring step: 13\n",
      "found: 1\n",
      "Staring step: 14\n",
      "found: 1\n",
      "Staring step: 15\n",
      "found: 1\n",
      "Staring step: 16\n"
     ]
    },
    {
     "name": "stderr",
     "output_type": "stream",
     "text": [
      "192.168.2.177 - - [31/Jan/2025 14:02:23] \"POST /status HTTP/1.1\" 200 -\n"
     ]
    },
    {
     "name": "stdout",
     "output_type": "stream",
     "text": [
      "Looking up GUID: '8e2fe7e0-c507-4c9b-9edd-c44214655679'\n",
      "found: 1\n",
      "Staring step: 17\n",
      "found: 1\n",
      "Staring step: 18\n",
      "found: 1\n",
      "Staring step: 19\n",
      "found: 1\n",
      "found product doc address: https://cad.onshape.com/documents/c7e3fdf24657cd4828939339\n",
      "Staring step: 20\n",
      "found: 1\n",
      "Staring step: 21\n",
      "found: 1\n",
      "Staring step: 22\n",
      "found: 1\n",
      "Staring step: 23\n",
      "found: 1\n"
     ]
    },
    {
     "name": "stderr",
     "output_type": "stream",
     "text": [
      "192.168.2.177 - - [31/Jan/2025 14:02:53] \"POST /status HTTP/1.1\" 200 -\n"
     ]
    },
    {
     "name": "stdout",
     "output_type": "stream",
     "text": [
      "Looking up GUID: '8e2fe7e0-c507-4c9b-9edd-c44214655679'\n",
      "Staring step: 24\n",
      "found: 1\n",
      "Staring step: 25\n",
      "found: 1\n",
      "Staring step: 0\n",
      "found: 1\n",
      "Staring step: 1\n",
      "found: 1\n",
      "Staring step: 2\n",
      "found: 1\n",
      "Staring step: 3\n",
      "found: 1\n",
      "Staring step: 4\n",
      "found: 1\n",
      "Found product: Test-Stock-40\n",
      "Staring step: 5\n",
      "found: 1\n",
      "Found dimensions: ['40', '40', '40']\n",
      "Staring step: 6\n"
     ]
    },
    {
     "name": "stderr",
     "output_type": "stream",
     "text": [
      "192.168.2.177 - - [31/Jan/2025 14:03:23] \"POST /status HTTP/1.1\" 200 -\n"
     ]
    },
    {
     "name": "stdout",
     "output_type": "stream",
     "text": [
      "Looking up GUID: '8e2fe7e0-c507-4c9b-9edd-c44214655679'\n",
      "found: 1\n",
      "Staring step: 7\n",
      "found: 1\n",
      "Staring step: 8\n",
      "found: 1\n",
      "Staring step: 9\n",
      "try: 0/30\n",
      "try: 1/30\n",
      "found: 1\n",
      "Staring step: 10\n",
      "found: 1\n",
      "Staring step: 11\n",
      "found: 1\n",
      "Staring step: 12\n",
      "found: 1\n",
      "Staring step: 13\n",
      "found: 1\n"
     ]
    },
    {
     "name": "stderr",
     "output_type": "stream",
     "text": [
      "192.168.2.177 - - [31/Jan/2025 14:03:53] \"POST /status HTTP/1.1\" 200 -\n"
     ]
    },
    {
     "name": "stdout",
     "output_type": "stream",
     "text": [
      "Looking up GUID: '8e2fe7e0-c507-4c9b-9edd-c44214655679'\n",
      "Staring step: 14\n",
      "found: 1\n",
      "Staring step: 15\n",
      "found: 1\n",
      "Staring step: 16\n",
      "found: 1\n",
      "Staring step: 17\n",
      "found: 1\n",
      "Staring step: 18\n",
      "found: 1\n",
      "Staring step: 19\n",
      "found: 1\n",
      "found product doc address: https://cad.onshape.com/documents/01189b86ac8b15055894f01c\n",
      "Staring step: 20\n",
      "found: 1\n"
     ]
    },
    {
     "name": "stderr",
     "output_type": "stream",
     "text": [
      "192.168.2.177 - - [31/Jan/2025 14:04:23] \"POST /status HTTP/1.1\" 200 -\n"
     ]
    },
    {
     "name": "stdout",
     "output_type": "stream",
     "text": [
      "Looking up GUID: '8e2fe7e0-c507-4c9b-9edd-c44214655679'\n",
      "Staring step: 21\n",
      "found: 1\n",
      "Staring step: 22\n",
      "found: 1\n",
      "Staring step: 23\n",
      "found: 1\n",
      "Staring step: 24\n",
      "found: 1\n",
      "Staring step: 25\n",
      "found: 1\n",
      "Staring step: 0\n",
      "found: 1\n",
      "Staring step: 1\n",
      "found: 1\n",
      "Staring step: 2\n",
      "found: 1\n",
      "Staring step: 3\n"
     ]
    },
    {
     "name": "stderr",
     "output_type": "stream",
     "text": [
      "192.168.2.177 - - [31/Jan/2025 14:04:53] \"POST /status HTTP/1.1\" 200 -\n"
     ]
    },
    {
     "name": "stdout",
     "output_type": "stream",
     "text": [
      "Looking up GUID: '8e2fe7e0-c507-4c9b-9edd-c44214655679'\n",
      "found: 1\n",
      "Staring step: 4\n",
      "found: 1\n",
      "Found product: Test-Stock-50\n",
      "Staring step: 5\n",
      "found: 1\n",
      "dimensions must be in format 000x000x000\n",
      "Staring step: 2\n",
      "The workflow did not finish as expected, user intervention needed\n",
      "Staring step: 0\n",
      "Staring step: 1\n",
      "found: 1\n",
      "Staring step: 2\n",
      "Staring step: 3\n",
      "found: 1\n"
     ]
    },
    {
     "name": "stderr",
     "output_type": "stream",
     "text": [
      "192.168.2.177 - - [31/Jan/2025 14:05:23] \"POST /status HTTP/1.1\" 200 -\n"
     ]
    },
    {
     "name": "stdout",
     "output_type": "stream",
     "text": [
      "Looking up GUID: '8e2fe7e0-c507-4c9b-9edd-c44214655679'\n",
      "Added process with GUID: 8e2fe7e0-c507-4c9b-9edd-c44214655679\n",
      "Processes in manager: OrderedDict({'7c821e8a-f1aa-4726-8957-b92adeb8d489': {'status': 'finished', 'command': 'odoo-onshape-draft', 'guid': '7c821e8a-f1aa-4726-8957-b92adeb8d489', 'payload': None}, 'e3a5e4a5-8128-40df-ad0a-d1fb39aeb0de': {'status': 'finished', 'command': 'odoo-onshape-draft', 'guid': 'e3a5e4a5-8128-40df-ad0a-d1fb39aeb0de', 'payload': None}, 'c33de746-88e8-4e4a-a1de-2d2542c4d076': {'status': 'finished', 'command': 'odoo-onshape-draft', 'guid': 'c33de746-88e8-4e4a-a1de-2d2542c4d076', 'payload': None}, 'cb6ea6a4-50ac-44e7-9a99-a8ae8c79ae86': {'status': 'finished', 'command': 'odoo-onshape-draft', 'guid': 'cb6ea6a4-50ac-44e7-9a99-a8ae8c79ae86', 'payload': None}, '0af3c0ba-577c-4971-930d-cd44d1b9d6ad': {'status': 'finished', 'command': 'odoo-onshape-draft', 'guid': '0af3c0ba-577c-4971-930d-cd44d1b9d6ad', 'payload': None}, 'eec35384-7332-44b0-9204-9bd35c8da9da': {'status': 'finished', 'command': 'odoo-onshape-draft', 'guid': 'eec35384-7332-44b0-9204-9bd35c8da9da', 'payload': None}, 'ec5e5cd2-47af-450d-b558-e7faf32c325c': {'status': 'finished', 'command': 'odoo-onshape-draft', 'guid': 'ec5e5cd2-47af-450d-b558-e7faf32c325c', 'payload': None}, 'd00d91f2-1f94-4659-b6f4-57297d8fbc9b': {'status': 'finished', 'command': 'odoo-onshape-draft', 'guid': 'd00d91f2-1f94-4659-b6f4-57297d8fbc9b', 'payload': None}, '8e2fe7e0-c507-4c9b-9edd-c44214655679': {'status': 'finished', 'command': 'odoo-onshape-draft', 'guid': '8e2fe7e0-c507-4c9b-9edd-c44214655679', 'payload': None}})\n",
      "Process 8e2fe7e0-c507-4c9b-9edd-c44214655679 completed with status: finished\n"
     ]
    },
    {
     "name": "stderr",
     "output_type": "stream",
     "text": [
      "192.168.2.177 - - [31/Jan/2025 14:05:53] \"POST /run HTTP/1.1\" 200 -\n",
      "192.168.2.177 - - [31/Jan/2025 14:05:53] \"POST /status HTTP/1.1\" 200 -\n"
     ]
    },
    {
     "name": "stdout",
     "output_type": "stream",
     "text": [
      "Added process with GUID: a4dc6a3b-9a83-469d-8580-0acb2e830b41\n",
      "Processes in manager: OrderedDict({'7c821e8a-f1aa-4726-8957-b92adeb8d489': {'status': 'finished', 'command': 'odoo-onshape-draft', 'guid': '7c821e8a-f1aa-4726-8957-b92adeb8d489', 'payload': None}, 'e3a5e4a5-8128-40df-ad0a-d1fb39aeb0de': {'status': 'finished', 'command': 'odoo-onshape-draft', 'guid': 'e3a5e4a5-8128-40df-ad0a-d1fb39aeb0de', 'payload': None}, 'c33de746-88e8-4e4a-a1de-2d2542c4d076': {'status': 'finished', 'command': 'odoo-onshape-draft', 'guid': 'c33de746-88e8-4e4a-a1de-2d2542c4d076', 'payload': None}, 'cb6ea6a4-50ac-44e7-9a99-a8ae8c79ae86': {'status': 'finished', 'command': 'odoo-onshape-draft', 'guid': 'cb6ea6a4-50ac-44e7-9a99-a8ae8c79ae86', 'payload': None}, '0af3c0ba-577c-4971-930d-cd44d1b9d6ad': {'status': 'finished', 'command': 'odoo-onshape-draft', 'guid': '0af3c0ba-577c-4971-930d-cd44d1b9d6ad', 'payload': None}, 'eec35384-7332-44b0-9204-9bd35c8da9da': {'status': 'finished', 'command': 'odoo-onshape-draft', 'guid': 'eec35384-7332-44b0-9204-9bd35c8da9da', 'payload': None}, 'ec5e5cd2-47af-450d-b558-e7faf32c325c': {'status': 'finished', 'command': 'odoo-onshape-draft', 'guid': 'ec5e5cd2-47af-450d-b558-e7faf32c325c', 'payload': None}, 'd00d91f2-1f94-4659-b6f4-57297d8fbc9b': {'status': 'finished', 'command': 'odoo-onshape-draft', 'guid': 'd00d91f2-1f94-4659-b6f4-57297d8fbc9b', 'payload': None}, '8e2fe7e0-c507-4c9b-9edd-c44214655679': {'status': 'finished', 'command': 'odoo-onshape-draft', 'guid': '8e2fe7e0-c507-4c9b-9edd-c44214655679', 'payload': None}, 'a4dc6a3b-9a83-469d-8580-0acb2e830b41': {'status': 'running', 'command': 'odoo-onshape-draft', 'guid': 'a4dc6a3b-9a83-469d-8580-0acb2e830b41', 'payload': None}})\n",
      "Staring step: 0\n",
      "Looking up GUID: 'a4dc6a3b-9a83-469d-8580-0acb2e830b41'\n"
     ]
    },
    {
     "name": "stderr",
     "output_type": "stream",
     "text": [
      "192.168.2.177 - - [31/Jan/2025 14:05:53] \"POST /status HTTP/1.1\" 200 -\n"
     ]
    },
    {
     "name": "stdout",
     "output_type": "stream",
     "text": [
      "Could not locate the image (highest confidence = 0.583)\n",
      "Looking up GUID: '8e2fe7e0-c507-4c9b-9edd-c44214655679'\n",
      "Added process with GUID: a4dc6a3b-9a83-469d-8580-0acb2e830b41\n",
      "Processes in manager: OrderedDict({'7c821e8a-f1aa-4726-8957-b92adeb8d489': {'status': 'finished', 'command': 'odoo-onshape-draft', 'guid': '7c821e8a-f1aa-4726-8957-b92adeb8d489', 'payload': None}, 'e3a5e4a5-8128-40df-ad0a-d1fb39aeb0de': {'status': 'finished', 'command': 'odoo-onshape-draft', 'guid': 'e3a5e4a5-8128-40df-ad0a-d1fb39aeb0de', 'payload': None}, 'c33de746-88e8-4e4a-a1de-2d2542c4d076': {'status': 'finished', 'command': 'odoo-onshape-draft', 'guid': 'c33de746-88e8-4e4a-a1de-2d2542c4d076', 'payload': None}, 'cb6ea6a4-50ac-44e7-9a99-a8ae8c79ae86': {'status': 'finished', 'command': 'odoo-onshape-draft', 'guid': 'cb6ea6a4-50ac-44e7-9a99-a8ae8c79ae86', 'payload': None}, '0af3c0ba-577c-4971-930d-cd44d1b9d6ad': {'status': 'finished', 'command': 'odoo-onshape-draft', 'guid': '0af3c0ba-577c-4971-930d-cd44d1b9d6ad', 'payload': None}, 'eec35384-7332-44b0-9204-9bd35c8da9da': {'status': 'finished', 'command': 'odoo-onshape-draft', 'guid': 'eec35384-7332-44b0-9204-9bd35c8da9da', 'payload': None}, 'ec5e5cd2-47af-450d-b558-e7faf32c325c': {'status': 'finished', 'command': 'odoo-onshape-draft', 'guid': 'ec5e5cd2-47af-450d-b558-e7faf32c325c', 'payload': None}, 'd00d91f2-1f94-4659-b6f4-57297d8fbc9b': {'status': 'finished', 'command': 'odoo-onshape-draft', 'guid': 'd00d91f2-1f94-4659-b6f4-57297d8fbc9b', 'payload': None}, '8e2fe7e0-c507-4c9b-9edd-c44214655679': {'status': 'finished', 'command': 'odoo-onshape-draft', 'guid': '8e2fe7e0-c507-4c9b-9edd-c44214655679', 'payload': None}, 'a4dc6a3b-9a83-469d-8580-0acb2e830b41': {'status': 'finished', 'command': 'odoo-onshape-draft', 'guid': 'a4dc6a3b-9a83-469d-8580-0acb2e830b41', 'payload': None}})\n",
      "Process a4dc6a3b-9a83-469d-8580-0acb2e830b41 completed with status: finished\n"
     ]
    },
    {
     "name": "stderr",
     "output_type": "stream",
     "text": [
      "192.168.2.177 - - [31/Jan/2025 14:06:23] \"POST /status HTTP/1.1\" 200 -\n"
     ]
    },
    {
     "name": "stdout",
     "output_type": "stream",
     "text": [
      "Looking up GUID: 'a4dc6a3b-9a83-469d-8580-0acb2e830b41'\n"
     ]
    },
    {
     "name": "stderr",
     "output_type": "stream",
     "text": [
      "192.168.2.177 - - [31/Jan/2025 14:07:08] \"POST /run HTTP/1.1\" 200 -\n",
      "192.168.2.177 - - [31/Jan/2025 14:07:08] \"POST /status HTTP/1.1\" 200 -\n"
     ]
    },
    {
     "name": "stdout",
     "output_type": "stream",
     "text": [
      "Added process with GUID: 58982215-a9a4-4568-beca-61762da6e7fd\n",
      "Processes in manager: OrderedDict({'7c821e8a-f1aa-4726-8957-b92adeb8d489': {'status': 'finished', 'command': 'odoo-onshape-draft', 'guid': '7c821e8a-f1aa-4726-8957-b92adeb8d489', 'payload': None}, 'e3a5e4a5-8128-40df-ad0a-d1fb39aeb0de': {'status': 'finished', 'command': 'odoo-onshape-draft', 'guid': 'e3a5e4a5-8128-40df-ad0a-d1fb39aeb0de', 'payload': None}, 'c33de746-88e8-4e4a-a1de-2d2542c4d076': {'status': 'finished', 'command': 'odoo-onshape-draft', 'guid': 'c33de746-88e8-4e4a-a1de-2d2542c4d076', 'payload': None}, 'cb6ea6a4-50ac-44e7-9a99-a8ae8c79ae86': {'status': 'finished', 'command': 'odoo-onshape-draft', 'guid': 'cb6ea6a4-50ac-44e7-9a99-a8ae8c79ae86', 'payload': None}, '0af3c0ba-577c-4971-930d-cd44d1b9d6ad': {'status': 'finished', 'command': 'odoo-onshape-draft', 'guid': '0af3c0ba-577c-4971-930d-cd44d1b9d6ad', 'payload': None}, 'eec35384-7332-44b0-9204-9bd35c8da9da': {'status': 'finished', 'command': 'odoo-onshape-draft', 'guid': 'eec35384-7332-44b0-9204-9bd35c8da9da', 'payload': None}, 'ec5e5cd2-47af-450d-b558-e7faf32c325c': {'status': 'finished', 'command': 'odoo-onshape-draft', 'guid': 'ec5e5cd2-47af-450d-b558-e7faf32c325c', 'payload': None}, 'd00d91f2-1f94-4659-b6f4-57297d8fbc9b': {'status': 'finished', 'command': 'odoo-onshape-draft', 'guid': 'd00d91f2-1f94-4659-b6f4-57297d8fbc9b', 'payload': None}, '8e2fe7e0-c507-4c9b-9edd-c44214655679': {'status': 'finished', 'command': 'odoo-onshape-draft', 'guid': '8e2fe7e0-c507-4c9b-9edd-c44214655679', 'payload': None}, 'a4dc6a3b-9a83-469d-8580-0acb2e830b41': {'status': 'finished', 'command': 'odoo-onshape-draft', 'guid': 'a4dc6a3b-9a83-469d-8580-0acb2e830b41', 'payload': None}, '58982215-a9a4-4568-beca-61762da6e7fd': {'status': 'running', 'command': 'odoo-onshape-draft', 'guid': '58982215-a9a4-4568-beca-61762da6e7fd', 'payload': None}})\n",
      "Staring step: 0\n",
      "Looking up GUID: '58982215-a9a4-4568-beca-61762da6e7fd'\n",
      "found: 1\n",
      "Staring step: 0\n",
      "found: 1\n",
      "Staring step: 1\n",
      "Staring step: 2\n",
      "found: 1\n",
      "Staring step: 3\n",
      "Staring step: 4\n",
      "found: 1\n",
      "Staring step: 5\n",
      "found: 1\n",
      "Staring step: 1\n",
      "found: 1\n",
      "Staring step: 0\n",
      "found: 1\n"
     ]
    },
    {
     "name": "stderr",
     "output_type": "stream",
     "text": [
      "192.168.2.177 - - [31/Jan/2025 14:07:38] \"POST /status HTTP/1.1\" 200 -\n"
     ]
    },
    {
     "name": "stdout",
     "output_type": "stream",
     "text": [
      "Looking up GUID: '58982215-a9a4-4568-beca-61762da6e7fd'\n",
      "Staring step: 1\n",
      "found: 1\n",
      "Staring step: 2\n",
      "found: 1\n",
      "Staring step: 3\n",
      "found: 1\n",
      "Staring step: 4\n",
      "found: 1\n",
      "Found product: Test-Stock-50\n",
      "Staring step: 5\n",
      "found: 1\n",
      "Found dimensions: ['50', '50', '50']\n",
      "Staring step: 6\n",
      "found: 1\n",
      "Staring step: 7\n",
      "found: 1\n",
      "Staring step: 8\n",
      "found: 1\n"
     ]
    },
    {
     "name": "stderr",
     "output_type": "stream",
     "text": [
      "192.168.2.177 - - [31/Jan/2025 14:08:08] \"POST /status HTTP/1.1\" 200 -\n"
     ]
    },
    {
     "name": "stdout",
     "output_type": "stream",
     "text": [
      "Looking up GUID: '58982215-a9a4-4568-beca-61762da6e7fd'\n",
      "Staring step: 9\n",
      "try: 0/30\n",
      "found: 1\n",
      "Staring step: 10\n",
      "found: 1\n",
      "Staring step: 11\n",
      "found: 1\n",
      "Staring step: 12\n",
      "found: 1\n",
      "Staring step: 13\n",
      "found: 1\n",
      "Staring step: 14\n",
      "found: 1\n",
      "Staring step: 15\n",
      "found: 1\n"
     ]
    },
    {
     "name": "stderr",
     "output_type": "stream",
     "text": [
      "192.168.2.177 - - [31/Jan/2025 14:08:39] \"POST /status HTTP/1.1\" 200 -\n"
     ]
    },
    {
     "name": "stdout",
     "output_type": "stream",
     "text": [
      "Staring step: 16\n",
      "Looking up GUID: '58982215-a9a4-4568-beca-61762da6e7fd'\n",
      "found: 1\n",
      "Staring step: 17\n",
      "found: 1\n",
      "Staring step: 18\n",
      "found: 1\n",
      "Staring step: 19\n",
      "found: 1\n",
      "found product doc address: https://cad.onshape.com/documents/bc632c9e35b80b9478e40f5f\n",
      "Staring step: 20\n",
      "found: 1\n",
      "Staring step: 21\n",
      "found: 1\n",
      "Staring step: 22\n",
      "found: 1\n",
      "Staring step: 23\n",
      "found: 1\n"
     ]
    },
    {
     "name": "stderr",
     "output_type": "stream",
     "text": [
      "192.168.2.177 - - [31/Jan/2025 14:09:09] \"POST /status HTTP/1.1\" 200 -\n"
     ]
    },
    {
     "name": "stdout",
     "output_type": "stream",
     "text": [
      "Looking up GUID: '58982215-a9a4-4568-beca-61762da6e7fd'\n",
      "Staring step: 24\n",
      "found: 1\n",
      "Staring step: 25\n",
      "found: 1\n",
      "Staring step: 0\n",
      "found: 1\n",
      "Staring step: 1\n",
      "found: 1\n",
      "Staring step: 2\n",
      "found: 1\n",
      "Staring step: 3\n",
      "found: 1\n",
      "Staring step: 4\n",
      "found: 1\n",
      "Found product: Test-Stock-60\n",
      "Staring step: 5\n",
      "found: 1\n",
      "Found dimensions: ['60', '60', '60']\n"
     ]
    },
    {
     "name": "stderr",
     "output_type": "stream",
     "text": [
      "192.168.2.177 - - [31/Jan/2025 14:09:39] \"POST /status HTTP/1.1\" 200 -\n"
     ]
    },
    {
     "name": "stdout",
     "output_type": "stream",
     "text": [
      "Staring step: 6\n",
      "Looking up GUID: '58982215-a9a4-4568-beca-61762da6e7fd'\n",
      "found: 1\n",
      "Staring step: 7\n",
      "found: 1\n",
      "Staring step: 8\n",
      "found: 1\n",
      "Staring step: 9\n",
      "try: 0/30\n",
      "try: 1/30\n",
      "found: 1\n",
      "Staring step: 10\n",
      "found: 1\n",
      "Staring step: 11\n",
      "found: 1\n",
      "Staring step: 12\n",
      "found: 1\n",
      "Staring step: 13\n",
      "found: 1\n"
     ]
    },
    {
     "name": "stderr",
     "output_type": "stream",
     "text": [
      "192.168.2.177 - - [31/Jan/2025 14:10:09] \"POST /status HTTP/1.1\" 200 -\n"
     ]
    },
    {
     "name": "stdout",
     "output_type": "stream",
     "text": [
      "Looking up GUID: '58982215-a9a4-4568-beca-61762da6e7fd'\n",
      "Staring step: 14\n",
      "found: 1\n",
      "Staring step: 15\n",
      "found: 1\n",
      "Staring step: 16\n",
      "found: 1\n",
      "Staring step: 17\n",
      "found: 1\n",
      "Staring step: 18\n",
      "found: 1\n",
      "Staring step: 19\n",
      "found: 1\n",
      "found product doc address: https://cad.onshape.com/documents/0885871106291b078c026193\n",
      "Staring step: 20\n",
      "found: 1\n"
     ]
    },
    {
     "name": "stderr",
     "output_type": "stream",
     "text": [
      "192.168.2.177 - - [31/Jan/2025 14:10:39] \"POST /status HTTP/1.1\" 200 -\n"
     ]
    },
    {
     "name": "stdout",
     "output_type": "stream",
     "text": [
      "Looking up GUID: '58982215-a9a4-4568-beca-61762da6e7fd'\n",
      "Staring step: 21\n",
      "found: 1\n",
      "Staring step: 22\n",
      "found: 1\n",
      "Staring step: 23\n",
      "found: 1\n",
      "Staring step: 24\n",
      "found: 1\n"
     ]
    },
    {
     "name": "stderr",
     "output_type": "stream",
     "text": [
      "192.168.2.177 - - [31/Jan/2025 14:10:53] \"POST /run HTTP/1.1\" 409 -\n"
     ]
    },
    {
     "name": "stdout",
     "output_type": "stream",
     "text": [
      "Staring step: 25\n",
      "found: 1\n",
      "Staring step: 0\n",
      "found: 1\n",
      "Staring step: 1\n",
      "found: 1\n",
      "Staring step: 2\n",
      "found: 1\n",
      "Staring step: 3\n"
     ]
    },
    {
     "name": "stderr",
     "output_type": "stream",
     "text": [
      "192.168.2.177 - - [31/Jan/2025 14:11:09] \"POST /status HTTP/1.1\" 200 -\n"
     ]
    },
    {
     "name": "stdout",
     "output_type": "stream",
     "text": [
      "Looking up GUID: '58982215-a9a4-4568-beca-61762da6e7fd'\n",
      "try: 0/10\n",
      "try: 1/10\n",
      "try: 2/10\n",
      "try: 3/10\n",
      "try: 4/10\n",
      "try: 5/10\n",
      "try: 6/10\n",
      "try: 7/10\n",
      "try: 8/10\n",
      "Could not locate the image (highest confidence = 0.480)\n",
      "Staring step: 2\n",
      "found: 1\n",
      "Staring step: 0\n",
      "found: 1\n",
      "Added process with GUID: 58982215-a9a4-4568-beca-61762da6e7fd\n",
      "Processes in manager: OrderedDict({'7c821e8a-f1aa-4726-8957-b92adeb8d489': {'status': 'finished', 'command': 'odoo-onshape-draft', 'guid': '7c821e8a-f1aa-4726-8957-b92adeb8d489', 'payload': None}, 'e3a5e4a5-8128-40df-ad0a-d1fb39aeb0de': {'status': 'finished', 'command': 'odoo-onshape-draft', 'guid': 'e3a5e4a5-8128-40df-ad0a-d1fb39aeb0de', 'payload': None}, 'c33de746-88e8-4e4a-a1de-2d2542c4d076': {'status': 'finished', 'command': 'odoo-onshape-draft', 'guid': 'c33de746-88e8-4e4a-a1de-2d2542c4d076', 'payload': None}, 'cb6ea6a4-50ac-44e7-9a99-a8ae8c79ae86': {'status': 'finished', 'command': 'odoo-onshape-draft', 'guid': 'cb6ea6a4-50ac-44e7-9a99-a8ae8c79ae86', 'payload': None}, '0af3c0ba-577c-4971-930d-cd44d1b9d6ad': {'status': 'finished', 'command': 'odoo-onshape-draft', 'guid': '0af3c0ba-577c-4971-930d-cd44d1b9d6ad', 'payload': None}, 'eec35384-7332-44b0-9204-9bd35c8da9da': {'status': 'finished', 'command': 'odoo-onshape-draft', 'guid': 'eec35384-7332-44b0-9204-9bd35c8da9da', 'payload': None}, 'ec5e5cd2-47af-450d-b558-e7faf32c325c': {'status': 'finished', 'command': 'odoo-onshape-draft', 'guid': 'ec5e5cd2-47af-450d-b558-e7faf32c325c', 'payload': None}, 'd00d91f2-1f94-4659-b6f4-57297d8fbc9b': {'status': 'finished', 'command': 'odoo-onshape-draft', 'guid': 'd00d91f2-1f94-4659-b6f4-57297d8fbc9b', 'payload': None}, '8e2fe7e0-c507-4c9b-9edd-c44214655679': {'status': 'finished', 'command': 'odoo-onshape-draft', 'guid': '8e2fe7e0-c507-4c9b-9edd-c44214655679', 'payload': None}, 'a4dc6a3b-9a83-469d-8580-0acb2e830b41': {'status': 'finished', 'command': 'odoo-onshape-draft', 'guid': 'a4dc6a3b-9a83-469d-8580-0acb2e830b41', 'payload': None}, '58982215-a9a4-4568-beca-61762da6e7fd': {'status': 'finished', 'command': 'odoo-onshape-draft', 'guid': '58982215-a9a4-4568-beca-61762da6e7fd', 'payload': None}})\n",
      "Process 58982215-a9a4-4568-beca-61762da6e7fd completed with status: finished\n"
     ]
    },
    {
     "name": "stderr",
     "output_type": "stream",
     "text": [
      "192.168.2.177 - - [31/Jan/2025 14:11:39] \"POST /status HTTP/1.1\" 200 -\n"
     ]
    },
    {
     "name": "stdout",
     "output_type": "stream",
     "text": [
      "Looking up GUID: '58982215-a9a4-4568-beca-61762da6e7fd'\n"
     ]
    },
    {
     "name": "stderr",
     "output_type": "stream",
     "text": [
      "192.168.2.177 - - [31/Jan/2025 14:15:53] \"POST /run HTTP/1.1\" 200 -\n",
      "192.168.2.177 - - [31/Jan/2025 14:15:53] \"POST /status HTTP/1.1\" 200 -\n"
     ]
    },
    {
     "name": "stdout",
     "output_type": "stream",
     "text": [
      "Added process with GUID: 781043db-1ce2-4118-969a-b421368c7d05\n",
      "Processes in manager: OrderedDict({'7c821e8a-f1aa-4726-8957-b92adeb8d489': {'status': 'finished', 'command': 'odoo-onshape-draft', 'guid': '7c821e8a-f1aa-4726-8957-b92adeb8d489', 'payload': None}, 'e3a5e4a5-8128-40df-ad0a-d1fb39aeb0de': {'status': 'finished', 'command': 'odoo-onshape-draft', 'guid': 'e3a5e4a5-8128-40df-ad0a-d1fb39aeb0de', 'payload': None}, 'c33de746-88e8-4e4a-a1de-2d2542c4d076': {'status': 'finished', 'command': 'odoo-onshape-draft', 'guid': 'c33de746-88e8-4e4a-a1de-2d2542c4d076', 'payload': None}, 'cb6ea6a4-50ac-44e7-9a99-a8ae8c79ae86': {'status': 'finished', 'command': 'odoo-onshape-draft', 'guid': 'cb6ea6a4-50ac-44e7-9a99-a8ae8c79ae86', 'payload': None}, '0af3c0ba-577c-4971-930d-cd44d1b9d6ad': {'status': 'finished', 'command': 'odoo-onshape-draft', 'guid': '0af3c0ba-577c-4971-930d-cd44d1b9d6ad', 'payload': None}, 'eec35384-7332-44b0-9204-9bd35c8da9da': {'status': 'finished', 'command': 'odoo-onshape-draft', 'guid': 'eec35384-7332-44b0-9204-9bd35c8da9da', 'payload': None}, 'ec5e5cd2-47af-450d-b558-e7faf32c325c': {'status': 'finished', 'command': 'odoo-onshape-draft', 'guid': 'ec5e5cd2-47af-450d-b558-e7faf32c325c', 'payload': None}, 'd00d91f2-1f94-4659-b6f4-57297d8fbc9b': {'status': 'finished', 'command': 'odoo-onshape-draft', 'guid': 'd00d91f2-1f94-4659-b6f4-57297d8fbc9b', 'payload': None}, '8e2fe7e0-c507-4c9b-9edd-c44214655679': {'status': 'finished', 'command': 'odoo-onshape-draft', 'guid': '8e2fe7e0-c507-4c9b-9edd-c44214655679', 'payload': None}, 'a4dc6a3b-9a83-469d-8580-0acb2e830b41': {'status': 'finished', 'command': 'odoo-onshape-draft', 'guid': 'a4dc6a3b-9a83-469d-8580-0acb2e830b41', 'payload': None}, '58982215-a9a4-4568-beca-61762da6e7fd': {'status': 'finished', 'command': 'odoo-onshape-draft', 'guid': '58982215-a9a4-4568-beca-61762da6e7fd', 'payload': None}, '781043db-1ce2-4118-969a-b421368c7d05': {'status': 'running', 'command': 'odoo-onshape-draft', 'guid': '781043db-1ce2-4118-969a-b421368c7d05', 'payload': None}})\n",
      "Staring step: 0\n",
      "Looking up GUID: '781043db-1ce2-4118-969a-b421368c7d05'\n",
      "Could not locate the image (highest confidence = 0.586)\n",
      "Added process with GUID: 781043db-1ce2-4118-969a-b421368c7d05\n",
      "Processes in manager: OrderedDict({'7c821e8a-f1aa-4726-8957-b92adeb8d489': {'status': 'finished', 'command': 'odoo-onshape-draft', 'guid': '7c821e8a-f1aa-4726-8957-b92adeb8d489', 'payload': None}, 'e3a5e4a5-8128-40df-ad0a-d1fb39aeb0de': {'status': 'finished', 'command': 'odoo-onshape-draft', 'guid': 'e3a5e4a5-8128-40df-ad0a-d1fb39aeb0de', 'payload': None}, 'c33de746-88e8-4e4a-a1de-2d2542c4d076': {'status': 'finished', 'command': 'odoo-onshape-draft', 'guid': 'c33de746-88e8-4e4a-a1de-2d2542c4d076', 'payload': None}, 'cb6ea6a4-50ac-44e7-9a99-a8ae8c79ae86': {'status': 'finished', 'command': 'odoo-onshape-draft', 'guid': 'cb6ea6a4-50ac-44e7-9a99-a8ae8c79ae86', 'payload': None}, '0af3c0ba-577c-4971-930d-cd44d1b9d6ad': {'status': 'finished', 'command': 'odoo-onshape-draft', 'guid': '0af3c0ba-577c-4971-930d-cd44d1b9d6ad', 'payload': None}, 'eec35384-7332-44b0-9204-9bd35c8da9da': {'status': 'finished', 'command': 'odoo-onshape-draft', 'guid': 'eec35384-7332-44b0-9204-9bd35c8da9da', 'payload': None}, 'ec5e5cd2-47af-450d-b558-e7faf32c325c': {'status': 'finished', 'command': 'odoo-onshape-draft', 'guid': 'ec5e5cd2-47af-450d-b558-e7faf32c325c', 'payload': None}, 'd00d91f2-1f94-4659-b6f4-57297d8fbc9b': {'status': 'finished', 'command': 'odoo-onshape-draft', 'guid': 'd00d91f2-1f94-4659-b6f4-57297d8fbc9b', 'payload': None}, '8e2fe7e0-c507-4c9b-9edd-c44214655679': {'status': 'finished', 'command': 'odoo-onshape-draft', 'guid': '8e2fe7e0-c507-4c9b-9edd-c44214655679', 'payload': None}, 'a4dc6a3b-9a83-469d-8580-0acb2e830b41': {'status': 'finished', 'command': 'odoo-onshape-draft', 'guid': 'a4dc6a3b-9a83-469d-8580-0acb2e830b41', 'payload': None}, '58982215-a9a4-4568-beca-61762da6e7fd': {'status': 'finished', 'command': 'odoo-onshape-draft', 'guid': '58982215-a9a4-4568-beca-61762da6e7fd', 'payload': None}, '781043db-1ce2-4118-969a-b421368c7d05': {'status': 'finished', 'command': 'odoo-onshape-draft', 'guid': '781043db-1ce2-4118-969a-b421368c7d05', 'payload': None}})\n",
      "Process 781043db-1ce2-4118-969a-b421368c7d05 completed with status: finished\n"
     ]
    },
    {
     "name": "stderr",
     "output_type": "stream",
     "text": [
      "192.168.2.177 - - [31/Jan/2025 14:16:23] \"POST /status HTTP/1.1\" 200 -\n"
     ]
    },
    {
     "name": "stdout",
     "output_type": "stream",
     "text": [
      "Looking up GUID: '781043db-1ce2-4118-969a-b421368c7d05'\n"
     ]
    },
    {
     "name": "stderr",
     "output_type": "stream",
     "text": [
      "192.168.2.177 - - [31/Jan/2025 14:20:53] \"POST /run HTTP/1.1\" 200 -\n",
      "192.168.2.177 - - [31/Jan/2025 14:20:53] \"POST /status HTTP/1.1\" 200 -\n"
     ]
    },
    {
     "name": "stdout",
     "output_type": "stream",
     "text": [
      "Added process with GUID: 49d203a7-cd13-41b4-b5e9-5fa4efe3167f\n",
      "Processes in manager: OrderedDict({'7c821e8a-f1aa-4726-8957-b92adeb8d489': {'status': 'finished', 'command': 'odoo-onshape-draft', 'guid': '7c821e8a-f1aa-4726-8957-b92adeb8d489', 'payload': None}, 'e3a5e4a5-8128-40df-ad0a-d1fb39aeb0de': {'status': 'finished', 'command': 'odoo-onshape-draft', 'guid': 'e3a5e4a5-8128-40df-ad0a-d1fb39aeb0de', 'payload': None}, 'c33de746-88e8-4e4a-a1de-2d2542c4d076': {'status': 'finished', 'command': 'odoo-onshape-draft', 'guid': 'c33de746-88e8-4e4a-a1de-2d2542c4d076', 'payload': None}, 'cb6ea6a4-50ac-44e7-9a99-a8ae8c79ae86': {'status': 'finished', 'command': 'odoo-onshape-draft', 'guid': 'cb6ea6a4-50ac-44e7-9a99-a8ae8c79ae86', 'payload': None}, '0af3c0ba-577c-4971-930d-cd44d1b9d6ad': {'status': 'finished', 'command': 'odoo-onshape-draft', 'guid': '0af3c0ba-577c-4971-930d-cd44d1b9d6ad', 'payload': None}, 'eec35384-7332-44b0-9204-9bd35c8da9da': {'status': 'finished', 'command': 'odoo-onshape-draft', 'guid': 'eec35384-7332-44b0-9204-9bd35c8da9da', 'payload': None}, 'ec5e5cd2-47af-450d-b558-e7faf32c325c': {'status': 'finished', 'command': 'odoo-onshape-draft', 'guid': 'ec5e5cd2-47af-450d-b558-e7faf32c325c', 'payload': None}, 'd00d91f2-1f94-4659-b6f4-57297d8fbc9b': {'status': 'finished', 'command': 'odoo-onshape-draft', 'guid': 'd00d91f2-1f94-4659-b6f4-57297d8fbc9b', 'payload': None}, '8e2fe7e0-c507-4c9b-9edd-c44214655679': {'status': 'finished', 'command': 'odoo-onshape-draft', 'guid': '8e2fe7e0-c507-4c9b-9edd-c44214655679', 'payload': None}, 'a4dc6a3b-9a83-469d-8580-0acb2e830b41': {'status': 'finished', 'command': 'odoo-onshape-draft', 'guid': 'a4dc6a3b-9a83-469d-8580-0acb2e830b41', 'payload': None}, '58982215-a9a4-4568-beca-61762da6e7fd': {'status': 'finished', 'command': 'odoo-onshape-draft', 'guid': '58982215-a9a4-4568-beca-61762da6e7fd', 'payload': None}, '781043db-1ce2-4118-969a-b421368c7d05': {'status': 'finished', 'command': 'odoo-onshape-draft', 'guid': '781043db-1ce2-4118-969a-b421368c7d05', 'payload': None}, '49d203a7-cd13-41b4-b5e9-5fa4efe3167f': {'status': 'running', 'command': 'odoo-onshape-draft', 'guid': '49d203a7-cd13-41b4-b5e9-5fa4efe3167f', 'payload': None}})\n",
      "Staring step: 0\n",
      "Looking up GUID: '49d203a7-cd13-41b4-b5e9-5fa4efe3167f'\n",
      "found: 1\n",
      "Staring step: 0\n",
      "found: 1\n",
      "Staring step: 1\n",
      "Staring step: 2\n",
      "found: 1\n",
      "Staring step: 3\n",
      "Staring step: 4\n",
      "found: 1\n",
      "Staring step: 5\n",
      "found: 1\n",
      "Staring step: 1\n",
      "found: 1\n",
      "Staring step: 0\n",
      "found: 1\n"
     ]
    },
    {
     "name": "stderr",
     "output_type": "stream",
     "text": [
      "192.168.2.177 - - [31/Jan/2025 14:21:23] \"POST /status HTTP/1.1\" 200 -\n"
     ]
    },
    {
     "name": "stdout",
     "output_type": "stream",
     "text": [
      "Staring step: 1\n",
      "Looking up GUID: '49d203a7-cd13-41b4-b5e9-5fa4efe3167f'\n",
      "found: 1\n",
      "Staring step: 2\n",
      "found: 1\n",
      "Staring step: 3\n",
      "found: 1\n",
      "Staring step: 4\n",
      "found: 1\n",
      "Found product: Test-Stock-30\n",
      "Staring step: 5\n",
      "found: 1\n",
      "Found dimensions: ['30', '30', '30']\n",
      "Staring step: 6\n",
      "found: 1\n",
      "Staring step: 7\n",
      "found: 1\n",
      "Staring step: 8\n",
      "found: 1\n"
     ]
    },
    {
     "name": "stderr",
     "output_type": "stream",
     "text": [
      "192.168.2.177 - - [31/Jan/2025 14:21:53] \"POST /status HTTP/1.1\" 200 -\n"
     ]
    },
    {
     "name": "stdout",
     "output_type": "stream",
     "text": [
      "Looking up GUID: '49d203a7-cd13-41b4-b5e9-5fa4efe3167f'\n",
      "Staring step: 9\n",
      "try: 0/30\n",
      "try: 1/30\n",
      "found: 1\n",
      "Staring step: 10\n",
      "found: 1\n",
      "Staring step: 11\n",
      "found: 1\n",
      "Staring step: 12\n",
      "found: 1\n",
      "Staring step: 13\n",
      "found: 1\n",
      "Staring step: 14\n",
      "found: 1\n",
      "Staring step: 15\n",
      "found: 1\n"
     ]
    },
    {
     "name": "stderr",
     "output_type": "stream",
     "text": [
      "192.168.2.177 - - [31/Jan/2025 14:22:23] \"POST /status HTTP/1.1\" 200 -\n"
     ]
    },
    {
     "name": "stdout",
     "output_type": "stream",
     "text": [
      "Looking up GUID: '49d203a7-cd13-41b4-b5e9-5fa4efe3167f'\n",
      "Staring step: 16\n",
      "found: 1\n",
      "Staring step: 17\n",
      "found: 1\n",
      "Staring step: 18\n",
      "found: 1\n",
      "Staring step: 19\n",
      "found: 1\n",
      "found product doc address: https://cad.onshape.com/documents/bfeb25289e9faf8ef7d9724f\n",
      "Staring step: 20\n",
      "found: 1\n",
      "Staring step: 21\n",
      "found: 1\n",
      "Staring step: 22\n",
      "found: 1\n",
      "Staring step: 23\n",
      "found: 1\n"
     ]
    },
    {
     "name": "stderr",
     "output_type": "stream",
     "text": [
      "192.168.2.177 - - [31/Jan/2025 14:22:53] \"POST /status HTTP/1.1\" 200 -\n"
     ]
    },
    {
     "name": "stdout",
     "output_type": "stream",
     "text": [
      "Looking up GUID: '49d203a7-cd13-41b4-b5e9-5fa4efe3167f'\n",
      "Staring step: 24\n",
      "found: 1\n",
      "Staring step: 25\n",
      "found: 1\n",
      "Staring step: 0\n",
      "found: 1\n",
      "Staring step: 1\n",
      "found: 1\n",
      "Staring step: 2\n",
      "found: 1\n",
      "Staring step: 3\n",
      "found: 1\n",
      "Staring step: 4\n",
      "found: 1\n",
      "Found product: Test-Stock-40\n",
      "Staring step: 5\n",
      "found: 1\n",
      "Found dimensions: ['40', '40', '40']\n",
      "Staring step: 6\n"
     ]
    },
    {
     "name": "stderr",
     "output_type": "stream",
     "text": [
      "192.168.2.177 - - [31/Jan/2025 14:23:23] \"POST /status HTTP/1.1\" 200 -\n"
     ]
    },
    {
     "name": "stdout",
     "output_type": "stream",
     "text": [
      "Looking up GUID: '49d203a7-cd13-41b4-b5e9-5fa4efe3167f'\n",
      "found: 1\n",
      "Staring step: 7\n",
      "found: 1\n",
      "Staring step: 8\n",
      "found: 1\n",
      "Staring step: 9\n",
      "try: 0/30\n",
      "try: 1/30\n",
      "found: 1\n",
      "Staring step: 10\n",
      "found: 1\n",
      "Staring step: 11\n",
      "found: 1\n",
      "Staring step: 12\n",
      "found: 1\n",
      "Staring step: 13\n",
      "found: 1\n"
     ]
    },
    {
     "name": "stderr",
     "output_type": "stream",
     "text": [
      "192.168.2.177 - - [31/Jan/2025 14:23:53] \"POST /status HTTP/1.1\" 200 -\n"
     ]
    },
    {
     "name": "stdout",
     "output_type": "stream",
     "text": [
      "Looking up GUID: '49d203a7-cd13-41b4-b5e9-5fa4efe3167f'\n",
      "Staring step: 14\n",
      "found: 1\n",
      "Staring step: 15\n",
      "found: 1\n",
      "Staring step: 16\n",
      "found: 1\n",
      "Staring step: 17\n",
      "found: 1\n",
      "Staring step: 18\n",
      "found: 1\n",
      "Staring step: 19\n",
      "found: 1\n",
      "found product doc address: https://cad.onshape.com/documents/1074c969dd84bb45d3b62f9f\n",
      "Staring step: 20\n",
      "found: 1\n"
     ]
    },
    {
     "name": "stderr",
     "output_type": "stream",
     "text": [
      "192.168.2.177 - - [31/Jan/2025 14:24:23] \"POST /status HTTP/1.1\" 200 -\n"
     ]
    },
    {
     "name": "stdout",
     "output_type": "stream",
     "text": [
      "Looking up GUID: '49d203a7-cd13-41b4-b5e9-5fa4efe3167f'\n",
      "Staring step: 21\n",
      "found: 1\n",
      "Staring step: 22\n",
      "found: 1\n",
      "Staring step: 23\n",
      "found: 1\n",
      "Staring step: 24\n",
      "found: 1\n",
      "Staring step: 25\n",
      "found: 1\n",
      "Staring step: 0\n",
      "found: 1\n",
      "Staring step: 1\n",
      "found: 1\n",
      "Staring step: 2\n",
      "found: 1\n",
      "Staring step: 3\n",
      "found: 1\n"
     ]
    },
    {
     "name": "stderr",
     "output_type": "stream",
     "text": [
      "192.168.2.177 - - [31/Jan/2025 14:24:53] \"POST /status HTTP/1.1\" 200 -\n"
     ]
    },
    {
     "name": "stdout",
     "output_type": "stream",
     "text": [
      "Looking up GUID: '49d203a7-cd13-41b4-b5e9-5fa4efe3167f'\n",
      "Staring step: 4\n",
      "found: 1\n",
      "Found product: Test-Stock-50\n",
      "Staring step: 5\n",
      "found: 1\n",
      "dimensions must be in format 000x000x000\n",
      "Staring step: 2\n",
      "The workflow did not finish as expected, user intervention needed\n",
      "Staring step: 0\n",
      "Staring step: 1\n",
      "found: 1\n",
      "Staring step: 2\n",
      "Staring step: 3\n",
      "found: 1\n"
     ]
    },
    {
     "name": "stderr",
     "output_type": "stream",
     "text": [
      "192.168.2.177 - - [31/Jan/2025 14:25:23] \"POST /status HTTP/1.1\" 200 -\n"
     ]
    },
    {
     "name": "stdout",
     "output_type": "stream",
     "text": [
      "Looking up GUID: '49d203a7-cd13-41b4-b5e9-5fa4efe3167f'\n",
      "Added process with GUID: 49d203a7-cd13-41b4-b5e9-5fa4efe3167f\n",
      "Processes in manager: OrderedDict({'7c821e8a-f1aa-4726-8957-b92adeb8d489': {'status': 'finished', 'command': 'odoo-onshape-draft', 'guid': '7c821e8a-f1aa-4726-8957-b92adeb8d489', 'payload': None}, 'e3a5e4a5-8128-40df-ad0a-d1fb39aeb0de': {'status': 'finished', 'command': 'odoo-onshape-draft', 'guid': 'e3a5e4a5-8128-40df-ad0a-d1fb39aeb0de', 'payload': None}, 'c33de746-88e8-4e4a-a1de-2d2542c4d076': {'status': 'finished', 'command': 'odoo-onshape-draft', 'guid': 'c33de746-88e8-4e4a-a1de-2d2542c4d076', 'payload': None}, 'cb6ea6a4-50ac-44e7-9a99-a8ae8c79ae86': {'status': 'finished', 'command': 'odoo-onshape-draft', 'guid': 'cb6ea6a4-50ac-44e7-9a99-a8ae8c79ae86', 'payload': None}, '0af3c0ba-577c-4971-930d-cd44d1b9d6ad': {'status': 'finished', 'command': 'odoo-onshape-draft', 'guid': '0af3c0ba-577c-4971-930d-cd44d1b9d6ad', 'payload': None}, 'eec35384-7332-44b0-9204-9bd35c8da9da': {'status': 'finished', 'command': 'odoo-onshape-draft', 'guid': 'eec35384-7332-44b0-9204-9bd35c8da9da', 'payload': None}, 'ec5e5cd2-47af-450d-b558-e7faf32c325c': {'status': 'finished', 'command': 'odoo-onshape-draft', 'guid': 'ec5e5cd2-47af-450d-b558-e7faf32c325c', 'payload': None}, 'd00d91f2-1f94-4659-b6f4-57297d8fbc9b': {'status': 'finished', 'command': 'odoo-onshape-draft', 'guid': 'd00d91f2-1f94-4659-b6f4-57297d8fbc9b', 'payload': None}, '8e2fe7e0-c507-4c9b-9edd-c44214655679': {'status': 'finished', 'command': 'odoo-onshape-draft', 'guid': '8e2fe7e0-c507-4c9b-9edd-c44214655679', 'payload': None}, 'a4dc6a3b-9a83-469d-8580-0acb2e830b41': {'status': 'finished', 'command': 'odoo-onshape-draft', 'guid': 'a4dc6a3b-9a83-469d-8580-0acb2e830b41', 'payload': None}, '58982215-a9a4-4568-beca-61762da6e7fd': {'status': 'finished', 'command': 'odoo-onshape-draft', 'guid': '58982215-a9a4-4568-beca-61762da6e7fd', 'payload': None}, '781043db-1ce2-4118-969a-b421368c7d05': {'status': 'finished', 'command': 'odoo-onshape-draft', 'guid': '781043db-1ce2-4118-969a-b421368c7d05', 'payload': None}, '49d203a7-cd13-41b4-b5e9-5fa4efe3167f': {'status': 'finished', 'command': 'odoo-onshape-draft', 'guid': '49d203a7-cd13-41b4-b5e9-5fa4efe3167f', 'payload': None}})\n",
      "Process 49d203a7-cd13-41b4-b5e9-5fa4efe3167f completed with status: finished\n"
     ]
    },
    {
     "name": "stderr",
     "output_type": "stream",
     "text": [
      "192.168.2.177 - - [31/Jan/2025 14:25:53] \"POST /run HTTP/1.1\" 200 -\n",
      "192.168.2.177 - - [31/Jan/2025 14:25:53] \"POST /status HTTP/1.1\" 200 -\n"
     ]
    },
    {
     "name": "stdout",
     "output_type": "stream",
     "text": [
      "Added process with GUID: 019d273d-249f-4d8e-b8b9-4972efb8ee9a\n",
      "Processes in manager: OrderedDict({'7c821e8a-f1aa-4726-8957-b92adeb8d489': {'status': 'finished', 'command': 'odoo-onshape-draft', 'guid': '7c821e8a-f1aa-4726-8957-b92adeb8d489', 'payload': None}, 'e3a5e4a5-8128-40df-ad0a-d1fb39aeb0de': {'status': 'finished', 'command': 'odoo-onshape-draft', 'guid': 'e3a5e4a5-8128-40df-ad0a-d1fb39aeb0de', 'payload': None}, 'c33de746-88e8-4e4a-a1de-2d2542c4d076': {'status': 'finished', 'command': 'odoo-onshape-draft', 'guid': 'c33de746-88e8-4e4a-a1de-2d2542c4d076', 'payload': None}, 'cb6ea6a4-50ac-44e7-9a99-a8ae8c79ae86': {'status': 'finished', 'command': 'odoo-onshape-draft', 'guid': 'cb6ea6a4-50ac-44e7-9a99-a8ae8c79ae86', 'payload': None}, '0af3c0ba-577c-4971-930d-cd44d1b9d6ad': {'status': 'finished', 'command': 'odoo-onshape-draft', 'guid': '0af3c0ba-577c-4971-930d-cd44d1b9d6ad', 'payload': None}, 'eec35384-7332-44b0-9204-9bd35c8da9da': {'status': 'finished', 'command': 'odoo-onshape-draft', 'guid': 'eec35384-7332-44b0-9204-9bd35c8da9da', 'payload': None}, 'ec5e5cd2-47af-450d-b558-e7faf32c325c': {'status': 'finished', 'command': 'odoo-onshape-draft', 'guid': 'ec5e5cd2-47af-450d-b558-e7faf32c325c', 'payload': None}, 'd00d91f2-1f94-4659-b6f4-57297d8fbc9b': {'status': 'finished', 'command': 'odoo-onshape-draft', 'guid': 'd00d91f2-1f94-4659-b6f4-57297d8fbc9b', 'payload': None}, '8e2fe7e0-c507-4c9b-9edd-c44214655679': {'status': 'finished', 'command': 'odoo-onshape-draft', 'guid': '8e2fe7e0-c507-4c9b-9edd-c44214655679', 'payload': None}, 'a4dc6a3b-9a83-469d-8580-0acb2e830b41': {'status': 'finished', 'command': 'odoo-onshape-draft', 'guid': 'a4dc6a3b-9a83-469d-8580-0acb2e830b41', 'payload': None}, '58982215-a9a4-4568-beca-61762da6e7fd': {'status': 'finished', 'command': 'odoo-onshape-draft', 'guid': '58982215-a9a4-4568-beca-61762da6e7fd', 'payload': None}, '781043db-1ce2-4118-969a-b421368c7d05': {'status': 'finished', 'command': 'odoo-onshape-draft', 'guid': '781043db-1ce2-4118-969a-b421368c7d05', 'payload': None}, '49d203a7-cd13-41b4-b5e9-5fa4efe3167f': {'status': 'finished', 'command': 'odoo-onshape-draft', 'guid': '49d203a7-cd13-41b4-b5e9-5fa4efe3167f', 'payload': None}, '019d273d-249f-4d8e-b8b9-4972efb8ee9a': {'status': 'running', 'command': 'odoo-onshape-draft', 'guid': '019d273d-249f-4d8e-b8b9-4972efb8ee9a', 'payload': None}})\n",
      "Staring step: 0\n",
      "Looking up GUID: '019d273d-249f-4d8e-b8b9-4972efb8ee9a'\n"
     ]
    },
    {
     "name": "stderr",
     "output_type": "stream",
     "text": [
      "192.168.2.177 - - [31/Jan/2025 14:25:53] \"POST /status HTTP/1.1\" 200 -\n"
     ]
    },
    {
     "name": "stdout",
     "output_type": "stream",
     "text": [
      "Could not locate the image (highest confidence = 0.583)\n",
      "Looking up GUID: '49d203a7-cd13-41b4-b5e9-5fa4efe3167f'\n",
      "Added process with GUID: 019d273d-249f-4d8e-b8b9-4972efb8ee9a\n",
      "Processes in manager: OrderedDict({'7c821e8a-f1aa-4726-8957-b92adeb8d489': {'status': 'finished', 'command': 'odoo-onshape-draft', 'guid': '7c821e8a-f1aa-4726-8957-b92adeb8d489', 'payload': None}, 'e3a5e4a5-8128-40df-ad0a-d1fb39aeb0de': {'status': 'finished', 'command': 'odoo-onshape-draft', 'guid': 'e3a5e4a5-8128-40df-ad0a-d1fb39aeb0de', 'payload': None}, 'c33de746-88e8-4e4a-a1de-2d2542c4d076': {'status': 'finished', 'command': 'odoo-onshape-draft', 'guid': 'c33de746-88e8-4e4a-a1de-2d2542c4d076', 'payload': None}, 'cb6ea6a4-50ac-44e7-9a99-a8ae8c79ae86': {'status': 'finished', 'command': 'odoo-onshape-draft', 'guid': 'cb6ea6a4-50ac-44e7-9a99-a8ae8c79ae86', 'payload': None}, '0af3c0ba-577c-4971-930d-cd44d1b9d6ad': {'status': 'finished', 'command': 'odoo-onshape-draft', 'guid': '0af3c0ba-577c-4971-930d-cd44d1b9d6ad', 'payload': None}, 'eec35384-7332-44b0-9204-9bd35c8da9da': {'status': 'finished', 'command': 'odoo-onshape-draft', 'guid': 'eec35384-7332-44b0-9204-9bd35c8da9da', 'payload': None}, 'ec5e5cd2-47af-450d-b558-e7faf32c325c': {'status': 'finished', 'command': 'odoo-onshape-draft', 'guid': 'ec5e5cd2-47af-450d-b558-e7faf32c325c', 'payload': None}, 'd00d91f2-1f94-4659-b6f4-57297d8fbc9b': {'status': 'finished', 'command': 'odoo-onshape-draft', 'guid': 'd00d91f2-1f94-4659-b6f4-57297d8fbc9b', 'payload': None}, '8e2fe7e0-c507-4c9b-9edd-c44214655679': {'status': 'finished', 'command': 'odoo-onshape-draft', 'guid': '8e2fe7e0-c507-4c9b-9edd-c44214655679', 'payload': None}, 'a4dc6a3b-9a83-469d-8580-0acb2e830b41': {'status': 'finished', 'command': 'odoo-onshape-draft', 'guid': 'a4dc6a3b-9a83-469d-8580-0acb2e830b41', 'payload': None}, '58982215-a9a4-4568-beca-61762da6e7fd': {'status': 'finished', 'command': 'odoo-onshape-draft', 'guid': '58982215-a9a4-4568-beca-61762da6e7fd', 'payload': None}, '781043db-1ce2-4118-969a-b421368c7d05': {'status': 'finished', 'command': 'odoo-onshape-draft', 'guid': '781043db-1ce2-4118-969a-b421368c7d05', 'payload': None}, '49d203a7-cd13-41b4-b5e9-5fa4efe3167f': {'status': 'finished', 'command': 'odoo-onshape-draft', 'guid': '49d203a7-cd13-41b4-b5e9-5fa4efe3167f', 'payload': None}, '019d273d-249f-4d8e-b8b9-4972efb8ee9a': {'status': 'finished', 'command': 'odoo-onshape-draft', 'guid': '019d273d-249f-4d8e-b8b9-4972efb8ee9a', 'payload': None}})\n",
      "Process 019d273d-249f-4d8e-b8b9-4972efb8ee9a completed with status: finished\n"
     ]
    },
    {
     "name": "stderr",
     "output_type": "stream",
     "text": [
      "192.168.2.177 - - [31/Jan/2025 14:26:23] \"POST /status HTTP/1.1\" 200 -\n"
     ]
    },
    {
     "name": "stdout",
     "output_type": "stream",
     "text": [
      "Looking up GUID: '019d273d-249f-4d8e-b8b9-4972efb8ee9a'\n"
     ]
    },
    {
     "name": "stderr",
     "output_type": "stream",
     "text": [
      "192.168.2.177 - - [31/Jan/2025 14:26:25] \"POST /run HTTP/1.1\" 200 -\n",
      "192.168.2.177 - - [31/Jan/2025 14:26:25] \"POST /status HTTP/1.1\" 200 -\n"
     ]
    },
    {
     "name": "stdout",
     "output_type": "stream",
     "text": [
      "Added process with GUID: 683c44ca-654e-4250-8801-622585bb68ea\n",
      "Processes in manager: OrderedDict({'7c821e8a-f1aa-4726-8957-b92adeb8d489': {'status': 'finished', 'command': 'odoo-onshape-draft', 'guid': '7c821e8a-f1aa-4726-8957-b92adeb8d489', 'payload': None}, 'e3a5e4a5-8128-40df-ad0a-d1fb39aeb0de': {'status': 'finished', 'command': 'odoo-onshape-draft', 'guid': 'e3a5e4a5-8128-40df-ad0a-d1fb39aeb0de', 'payload': None}, 'c33de746-88e8-4e4a-a1de-2d2542c4d076': {'status': 'finished', 'command': 'odoo-onshape-draft', 'guid': 'c33de746-88e8-4e4a-a1de-2d2542c4d076', 'payload': None}, 'cb6ea6a4-50ac-44e7-9a99-a8ae8c79ae86': {'status': 'finished', 'command': 'odoo-onshape-draft', 'guid': 'cb6ea6a4-50ac-44e7-9a99-a8ae8c79ae86', 'payload': None}, '0af3c0ba-577c-4971-930d-cd44d1b9d6ad': {'status': 'finished', 'command': 'odoo-onshape-draft', 'guid': '0af3c0ba-577c-4971-930d-cd44d1b9d6ad', 'payload': None}, 'eec35384-7332-44b0-9204-9bd35c8da9da': {'status': 'finished', 'command': 'odoo-onshape-draft', 'guid': 'eec35384-7332-44b0-9204-9bd35c8da9da', 'payload': None}, 'ec5e5cd2-47af-450d-b558-e7faf32c325c': {'status': 'finished', 'command': 'odoo-onshape-draft', 'guid': 'ec5e5cd2-47af-450d-b558-e7faf32c325c', 'payload': None}, 'd00d91f2-1f94-4659-b6f4-57297d8fbc9b': {'status': 'finished', 'command': 'odoo-onshape-draft', 'guid': 'd00d91f2-1f94-4659-b6f4-57297d8fbc9b', 'payload': None}, '8e2fe7e0-c507-4c9b-9edd-c44214655679': {'status': 'finished', 'command': 'odoo-onshape-draft', 'guid': '8e2fe7e0-c507-4c9b-9edd-c44214655679', 'payload': None}, 'a4dc6a3b-9a83-469d-8580-0acb2e830b41': {'status': 'finished', 'command': 'odoo-onshape-draft', 'guid': 'a4dc6a3b-9a83-469d-8580-0acb2e830b41', 'payload': None}, '58982215-a9a4-4568-beca-61762da6e7fd': {'status': 'finished', 'command': 'odoo-onshape-draft', 'guid': '58982215-a9a4-4568-beca-61762da6e7fd', 'payload': None}, '781043db-1ce2-4118-969a-b421368c7d05': {'status': 'finished', 'command': 'odoo-onshape-draft', 'guid': '781043db-1ce2-4118-969a-b421368c7d05', 'payload': None}, '49d203a7-cd13-41b4-b5e9-5fa4efe3167f': {'status': 'finished', 'command': 'odoo-onshape-draft', 'guid': '49d203a7-cd13-41b4-b5e9-5fa4efe3167f', 'payload': None}, '019d273d-249f-4d8e-b8b9-4972efb8ee9a': {'status': 'finished', 'command': 'odoo-onshape-draft', 'guid': '019d273d-249f-4d8e-b8b9-4972efb8ee9a', 'payload': None}, '683c44ca-654e-4250-8801-622585bb68ea': {'status': 'running', 'command': 'odoo-onshape-draft', 'guid': '683c44ca-654e-4250-8801-622585bb68ea', 'payload': None}})\n",
      "Staring step: 0\n",
      "Looking up GUID: '683c44ca-654e-4250-8801-622585bb68ea'\n",
      "found: 1\n",
      "Staring step: 0\n",
      "found: 1\n",
      "Staring step: 1\n",
      "Staring step: 2\n",
      "found: 1\n",
      "Staring step: 3\n",
      "Staring step: 4\n",
      "found: 1\n",
      "Staring step: 5\n",
      "found: 1\n",
      "Staring step: 1\n",
      "found: 1\n",
      "Staring step: 0\n",
      "found: 1\n"
     ]
    },
    {
     "name": "stderr",
     "output_type": "stream",
     "text": [
      "192.168.2.177 - - [31/Jan/2025 14:26:55] \"POST /status HTTP/1.1\" 200 -\n"
     ]
    },
    {
     "name": "stdout",
     "output_type": "stream",
     "text": [
      "Looking up GUID: '683c44ca-654e-4250-8801-622585bb68ea'\n",
      "Staring step: 1\n",
      "found: 1\n",
      "Staring step: 2\n",
      "found: 1\n",
      "Staring step: 3\n",
      "found: 1\n",
      "Staring step: 4\n",
      "found: 1\n",
      "Found product: Test-Stock-50\n",
      "Staring step: 5\n",
      "found: 1\n",
      "Found dimensions: ['50', '50', '50']\n",
      "Staring step: 6\n",
      "found: 1\n",
      "Staring step: 7\n",
      "found: 1\n",
      "Staring step: 8\n",
      "found: 1\n"
     ]
    },
    {
     "name": "stderr",
     "output_type": "stream",
     "text": [
      "192.168.2.177 - - [31/Jan/2025 14:27:25] \"POST /status HTTP/1.1\" 200 -\n"
     ]
    },
    {
     "name": "stdout",
     "output_type": "stream",
     "text": [
      "Looking up GUID: '683c44ca-654e-4250-8801-622585bb68ea'\n",
      "Staring step: 9\n",
      "try: 0/30\n",
      "try: 1/30\n",
      "found: 1\n",
      "Staring step: 10\n",
      "found: 1\n",
      "Staring step: 11\n",
      "found: 1\n",
      "Staring step: 12\n",
      "found: 1\n",
      "Staring step: 13\n",
      "found: 1\n",
      "Staring step: 14\n",
      "found: 1\n",
      "Staring step: 15\n",
      "found: 1\n"
     ]
    },
    {
     "name": "stderr",
     "output_type": "stream",
     "text": [
      "192.168.2.177 - - [31/Jan/2025 14:27:55] \"POST /status HTTP/1.1\" 200 -\n"
     ]
    },
    {
     "name": "stdout",
     "output_type": "stream",
     "text": [
      "Looking up GUID: '683c44ca-654e-4250-8801-622585bb68ea'\n",
      "Staring step: 16\n",
      "found: 1\n",
      "Staring step: 17\n",
      "found: 1\n",
      "Staring step: 18\n",
      "found: 1\n",
      "Staring step: 19\n",
      "found: 1\n",
      "found product doc address: https://cad.onshape.com/documents/7951f42535791023a58e3fe8\n",
      "Staring step: 20\n",
      "found: 1\n",
      "Staring step: 21\n",
      "found: 1\n",
      "Staring step: 22\n",
      "found: 1\n",
      "Staring step: 23\n",
      "found: 1\n"
     ]
    },
    {
     "name": "stderr",
     "output_type": "stream",
     "text": [
      "192.168.2.177 - - [31/Jan/2025 14:28:25] \"POST /status HTTP/1.1\" 200 -\n"
     ]
    },
    {
     "name": "stdout",
     "output_type": "stream",
     "text": [
      "Looking up GUID: '683c44ca-654e-4250-8801-622585bb68ea'\n",
      "Staring step: 24\n",
      "found: 1\n",
      "Staring step: 25\n",
      "found: 1\n",
      "Staring step: 0\n",
      "found: 1\n",
      "Staring step: 1\n",
      "found: 1\n",
      "Staring step: 2\n",
      "found: 1\n",
      "Staring step: 3\n",
      "found: 1\n",
      "Staring step: 4\n",
      "found: 1\n",
      "Found product: Test-Stock-60\n",
      "Staring step: 5\n",
      "found: 1\n",
      "Found dimensions: ['60', '60', '60']\n"
     ]
    },
    {
     "name": "stderr",
     "output_type": "stream",
     "text": [
      "192.168.2.177 - - [31/Jan/2025 14:28:55] \"POST /status HTTP/1.1\" 200 -\n"
     ]
    },
    {
     "name": "stdout",
     "output_type": "stream",
     "text": [
      "Staring step: 6\n",
      "Looking up GUID: '683c44ca-654e-4250-8801-622585bb68ea'\n",
      "found: 1\n",
      "Staring step: 7\n",
      "found: 1\n",
      "Staring step: 8\n",
      "found: 1\n",
      "Staring step: 9\n",
      "try: 0/30\n",
      "try: 1/30\n",
      "found: 1\n",
      "Staring step: 10\n",
      "found: 1\n",
      "Staring step: 11\n",
      "found: 1\n",
      "Staring step: 12\n",
      "found: 1\n",
      "Staring step: 13\n",
      "found: 1\n"
     ]
    },
    {
     "name": "stderr",
     "output_type": "stream",
     "text": [
      "192.168.2.177 - - [31/Jan/2025 14:29:25] \"POST /status HTTP/1.1\" 200 -\n"
     ]
    },
    {
     "name": "stdout",
     "output_type": "stream",
     "text": [
      "Looking up GUID: '683c44ca-654e-4250-8801-622585bb68ea'\n",
      "Staring step: 14\n",
      "found: 1\n",
      "Staring step: 15\n",
      "found: 1\n",
      "Staring step: 16\n",
      "found: 1\n",
      "Staring step: 17\n",
      "found: 1\n",
      "Staring step: 18\n",
      "found: 1\n",
      "Staring step: 19\n",
      "found: 1\n",
      "found product doc address: https://cad.onshape.com/documents/0444f3dd8f68d7b308b4d0c3\n",
      "Staring step: 20\n",
      "found: 1\n"
     ]
    },
    {
     "name": "stderr",
     "output_type": "stream",
     "text": [
      "192.168.2.177 - - [31/Jan/2025 14:29:55] \"POST /status HTTP/1.1\" 200 -\n"
     ]
    },
    {
     "name": "stdout",
     "output_type": "stream",
     "text": [
      "Looking up GUID: '683c44ca-654e-4250-8801-622585bb68ea'\n",
      "Staring step: 21\n",
      "found: 1\n",
      "Staring step: 22\n",
      "found: 1\n",
      "Staring step: 23\n",
      "found: 1\n",
      "Staring step: 24\n",
      "found: 1\n",
      "Staring step: 25\n",
      "found: 1\n",
      "Staring step: 0\n",
      "found: 1\n",
      "Staring step: 1\n",
      "found: 1\n",
      "Staring step: 2\n",
      "found: 1\n",
      "Staring step: 3\n"
     ]
    },
    {
     "name": "stderr",
     "output_type": "stream",
     "text": [
      "192.168.2.177 - - [31/Jan/2025 14:30:25] \"POST /status HTTP/1.1\" 200 -\n"
     ]
    },
    {
     "name": "stdout",
     "output_type": "stream",
     "text": [
      "Looking up GUID: '683c44ca-654e-4250-8801-622585bb68ea'\n",
      "try: 0/10\n",
      "try: 1/10\n",
      "try: 2/10\n",
      "try: 3/10\n",
      "try: 4/10\n",
      "try: 5/10\n",
      "try: 6/10\n",
      "try: 7/10\n",
      "try: 8/10\n",
      "Could not locate the image (highest confidence = 0.480)\n",
      "Staring step: 2\n",
      "found: 1\n",
      "Staring step: 0\n",
      "found: 1\n",
      "Added process with GUID: 683c44ca-654e-4250-8801-622585bb68ea\n",
      "Processes in manager: OrderedDict({'7c821e8a-f1aa-4726-8957-b92adeb8d489': {'status': 'finished', 'command': 'odoo-onshape-draft', 'guid': '7c821e8a-f1aa-4726-8957-b92adeb8d489', 'payload': None}, 'e3a5e4a5-8128-40df-ad0a-d1fb39aeb0de': {'status': 'finished', 'command': 'odoo-onshape-draft', 'guid': 'e3a5e4a5-8128-40df-ad0a-d1fb39aeb0de', 'payload': None}, 'c33de746-88e8-4e4a-a1de-2d2542c4d076': {'status': 'finished', 'command': 'odoo-onshape-draft', 'guid': 'c33de746-88e8-4e4a-a1de-2d2542c4d076', 'payload': None}, 'cb6ea6a4-50ac-44e7-9a99-a8ae8c79ae86': {'status': 'finished', 'command': 'odoo-onshape-draft', 'guid': 'cb6ea6a4-50ac-44e7-9a99-a8ae8c79ae86', 'payload': None}, '0af3c0ba-577c-4971-930d-cd44d1b9d6ad': {'status': 'finished', 'command': 'odoo-onshape-draft', 'guid': '0af3c0ba-577c-4971-930d-cd44d1b9d6ad', 'payload': None}, 'eec35384-7332-44b0-9204-9bd35c8da9da': {'status': 'finished', 'command': 'odoo-onshape-draft', 'guid': 'eec35384-7332-44b0-9204-9bd35c8da9da', 'payload': None}, 'ec5e5cd2-47af-450d-b558-e7faf32c325c': {'status': 'finished', 'command': 'odoo-onshape-draft', 'guid': 'ec5e5cd2-47af-450d-b558-e7faf32c325c', 'payload': None}, 'd00d91f2-1f94-4659-b6f4-57297d8fbc9b': {'status': 'finished', 'command': 'odoo-onshape-draft', 'guid': 'd00d91f2-1f94-4659-b6f4-57297d8fbc9b', 'payload': None}, '8e2fe7e0-c507-4c9b-9edd-c44214655679': {'status': 'finished', 'command': 'odoo-onshape-draft', 'guid': '8e2fe7e0-c507-4c9b-9edd-c44214655679', 'payload': None}, 'a4dc6a3b-9a83-469d-8580-0acb2e830b41': {'status': 'finished', 'command': 'odoo-onshape-draft', 'guid': 'a4dc6a3b-9a83-469d-8580-0acb2e830b41', 'payload': None}, '58982215-a9a4-4568-beca-61762da6e7fd': {'status': 'finished', 'command': 'odoo-onshape-draft', 'guid': '58982215-a9a4-4568-beca-61762da6e7fd', 'payload': None}, '781043db-1ce2-4118-969a-b421368c7d05': {'status': 'finished', 'command': 'odoo-onshape-draft', 'guid': '781043db-1ce2-4118-969a-b421368c7d05', 'payload': None}, '49d203a7-cd13-41b4-b5e9-5fa4efe3167f': {'status': 'finished', 'command': 'odoo-onshape-draft', 'guid': '49d203a7-cd13-41b4-b5e9-5fa4efe3167f', 'payload': None}, '019d273d-249f-4d8e-b8b9-4972efb8ee9a': {'status': 'finished', 'command': 'odoo-onshape-draft', 'guid': '019d273d-249f-4d8e-b8b9-4972efb8ee9a', 'payload': None}, '683c44ca-654e-4250-8801-622585bb68ea': {'status': 'finished', 'command': 'odoo-onshape-draft', 'guid': '683c44ca-654e-4250-8801-622585bb68ea', 'payload': None}})\n",
      "Process 683c44ca-654e-4250-8801-622585bb68ea completed with status: finished\n"
     ]
    },
    {
     "name": "stderr",
     "output_type": "stream",
     "text": [
      "192.168.2.177 - - [31/Jan/2025 14:30:53] \"POST /run HTTP/1.1\" 200 -\n",
      "192.168.2.177 - - [31/Jan/2025 14:30:53] \"POST /status HTTP/1.1\" 200 -\n"
     ]
    },
    {
     "name": "stdout",
     "output_type": "stream",
     "text": [
      "Added process with GUID: 47f78e0a-f862-4b28-b9f7-7f2b87d2c1cf\n",
      "Processes in manager: OrderedDict({'7c821e8a-f1aa-4726-8957-b92adeb8d489': {'status': 'finished', 'command': 'odoo-onshape-draft', 'guid': '7c821e8a-f1aa-4726-8957-b92adeb8d489', 'payload': None}, 'e3a5e4a5-8128-40df-ad0a-d1fb39aeb0de': {'status': 'finished', 'command': 'odoo-onshape-draft', 'guid': 'e3a5e4a5-8128-40df-ad0a-d1fb39aeb0de', 'payload': None}, 'c33de746-88e8-4e4a-a1de-2d2542c4d076': {'status': 'finished', 'command': 'odoo-onshape-draft', 'guid': 'c33de746-88e8-4e4a-a1de-2d2542c4d076', 'payload': None}, 'cb6ea6a4-50ac-44e7-9a99-a8ae8c79ae86': {'status': 'finished', 'command': 'odoo-onshape-draft', 'guid': 'cb6ea6a4-50ac-44e7-9a99-a8ae8c79ae86', 'payload': None}, '0af3c0ba-577c-4971-930d-cd44d1b9d6ad': {'status': 'finished', 'command': 'odoo-onshape-draft', 'guid': '0af3c0ba-577c-4971-930d-cd44d1b9d6ad', 'payload': None}, 'eec35384-7332-44b0-9204-9bd35c8da9da': {'status': 'finished', 'command': 'odoo-onshape-draft', 'guid': 'eec35384-7332-44b0-9204-9bd35c8da9da', 'payload': None}, 'ec5e5cd2-47af-450d-b558-e7faf32c325c': {'status': 'finished', 'command': 'odoo-onshape-draft', 'guid': 'ec5e5cd2-47af-450d-b558-e7faf32c325c', 'payload': None}, 'd00d91f2-1f94-4659-b6f4-57297d8fbc9b': {'status': 'finished', 'command': 'odoo-onshape-draft', 'guid': 'd00d91f2-1f94-4659-b6f4-57297d8fbc9b', 'payload': None}, '8e2fe7e0-c507-4c9b-9edd-c44214655679': {'status': 'finished', 'command': 'odoo-onshape-draft', 'guid': '8e2fe7e0-c507-4c9b-9edd-c44214655679', 'payload': None}, 'a4dc6a3b-9a83-469d-8580-0acb2e830b41': {'status': 'finished', 'command': 'odoo-onshape-draft', 'guid': 'a4dc6a3b-9a83-469d-8580-0acb2e830b41', 'payload': None}, '58982215-a9a4-4568-beca-61762da6e7fd': {'status': 'finished', 'command': 'odoo-onshape-draft', 'guid': '58982215-a9a4-4568-beca-61762da6e7fd', 'payload': None}, '781043db-1ce2-4118-969a-b421368c7d05': {'status': 'finished', 'command': 'odoo-onshape-draft', 'guid': '781043db-1ce2-4118-969a-b421368c7d05', 'payload': None}, '49d203a7-cd13-41b4-b5e9-5fa4efe3167f': {'status': 'finished', 'command': 'odoo-onshape-draft', 'guid': '49d203a7-cd13-41b4-b5e9-5fa4efe3167f', 'payload': None}, '019d273d-249f-4d8e-b8b9-4972efb8ee9a': {'status': 'finished', 'command': 'odoo-onshape-draft', 'guid': '019d273d-249f-4d8e-b8b9-4972efb8ee9a', 'payload': None}, '683c44ca-654e-4250-8801-622585bb68ea': {'status': 'finished', 'command': 'odoo-onshape-draft', 'guid': '683c44ca-654e-4250-8801-622585bb68ea', 'payload': None}, '47f78e0a-f862-4b28-b9f7-7f2b87d2c1cf': {'status': 'running', 'command': 'odoo-onshape-draft', 'guid': '47f78e0a-f862-4b28-b9f7-7f2b87d2c1cf', 'payload': None}})\n",
      "Staring step: 0\n",
      "Looking up GUID: '47f78e0a-f862-4b28-b9f7-7f2b87d2c1cf'\n",
      "found: 1\n",
      "Staring step: 0\n",
      "found: 1\n"
     ]
    },
    {
     "name": "stderr",
     "output_type": "stream",
     "text": [
      "192.168.2.177 - - [31/Jan/2025 14:30:55] \"POST /status HTTP/1.1\" 200 -\n"
     ]
    },
    {
     "name": "stdout",
     "output_type": "stream",
     "text": [
      "Looking up GUID: '683c44ca-654e-4250-8801-622585bb68ea'\n",
      "Staring step: 1\n",
      "Staring step: 2\n",
      "found: 1\n",
      "Staring step: 3\n",
      "Staring step: 4\n",
      "found: 1\n",
      "Staring step: 5\n",
      "found: 1\n",
      "Staring step: 1\n",
      "found: 1\n",
      "Staring step: 0\n",
      "found: 1\n"
     ]
    },
    {
     "name": "stderr",
     "output_type": "stream",
     "text": [
      "192.168.2.177 - - [31/Jan/2025 14:31:23] \"POST /status HTTP/1.1\" 200 -\n"
     ]
    },
    {
     "name": "stdout",
     "output_type": "stream",
     "text": [
      "Looking up GUID: '47f78e0a-f862-4b28-b9f7-7f2b87d2c1cf'\n",
      "Staring step: 1\n",
      "found: 1\n",
      "Staring step: 2\n",
      "found: 1\n",
      "Staring step: 3\n",
      "try: 0/10\n",
      "try: 1/10\n",
      "try: 2/10\n",
      "try: 3/10\n",
      "try: 4/10\n",
      "try: 5/10\n",
      "try: 6/10\n",
      "try: 7/10\n",
      "try: 8/10\n",
      "Could not locate the image (highest confidence = 0.480)\n",
      "Staring step: 2\n",
      "found: 1\n",
      "Staring step: 0\n",
      "found: 1\n"
     ]
    },
    {
     "name": "stderr",
     "output_type": "stream",
     "text": [
      "192.168.2.177 - - [31/Jan/2025 14:31:53] \"POST /status HTTP/1.1\" 200 -\n"
     ]
    },
    {
     "name": "stdout",
     "output_type": "stream",
     "text": [
      "Looking up GUID: '47f78e0a-f862-4b28-b9f7-7f2b87d2c1cf'\n",
      "Added process with GUID: 47f78e0a-f862-4b28-b9f7-7f2b87d2c1cf\n",
      "Processes in manager: OrderedDict({'7c821e8a-f1aa-4726-8957-b92adeb8d489': {'status': 'finished', 'command': 'odoo-onshape-draft', 'guid': '7c821e8a-f1aa-4726-8957-b92adeb8d489', 'payload': None}, 'e3a5e4a5-8128-40df-ad0a-d1fb39aeb0de': {'status': 'finished', 'command': 'odoo-onshape-draft', 'guid': 'e3a5e4a5-8128-40df-ad0a-d1fb39aeb0de', 'payload': None}, 'c33de746-88e8-4e4a-a1de-2d2542c4d076': {'status': 'finished', 'command': 'odoo-onshape-draft', 'guid': 'c33de746-88e8-4e4a-a1de-2d2542c4d076', 'payload': None}, 'cb6ea6a4-50ac-44e7-9a99-a8ae8c79ae86': {'status': 'finished', 'command': 'odoo-onshape-draft', 'guid': 'cb6ea6a4-50ac-44e7-9a99-a8ae8c79ae86', 'payload': None}, '0af3c0ba-577c-4971-930d-cd44d1b9d6ad': {'status': 'finished', 'command': 'odoo-onshape-draft', 'guid': '0af3c0ba-577c-4971-930d-cd44d1b9d6ad', 'payload': None}, 'eec35384-7332-44b0-9204-9bd35c8da9da': {'status': 'finished', 'command': 'odoo-onshape-draft', 'guid': 'eec35384-7332-44b0-9204-9bd35c8da9da', 'payload': None}, 'ec5e5cd2-47af-450d-b558-e7faf32c325c': {'status': 'finished', 'command': 'odoo-onshape-draft', 'guid': 'ec5e5cd2-47af-450d-b558-e7faf32c325c', 'payload': None}, 'd00d91f2-1f94-4659-b6f4-57297d8fbc9b': {'status': 'finished', 'command': 'odoo-onshape-draft', 'guid': 'd00d91f2-1f94-4659-b6f4-57297d8fbc9b', 'payload': None}, '8e2fe7e0-c507-4c9b-9edd-c44214655679': {'status': 'finished', 'command': 'odoo-onshape-draft', 'guid': '8e2fe7e0-c507-4c9b-9edd-c44214655679', 'payload': None}, 'a4dc6a3b-9a83-469d-8580-0acb2e830b41': {'status': 'finished', 'command': 'odoo-onshape-draft', 'guid': 'a4dc6a3b-9a83-469d-8580-0acb2e830b41', 'payload': None}, '58982215-a9a4-4568-beca-61762da6e7fd': {'status': 'finished', 'command': 'odoo-onshape-draft', 'guid': '58982215-a9a4-4568-beca-61762da6e7fd', 'payload': None}, '781043db-1ce2-4118-969a-b421368c7d05': {'status': 'finished', 'command': 'odoo-onshape-draft', 'guid': '781043db-1ce2-4118-969a-b421368c7d05', 'payload': None}, '49d203a7-cd13-41b4-b5e9-5fa4efe3167f': {'status': 'finished', 'command': 'odoo-onshape-draft', 'guid': '49d203a7-cd13-41b4-b5e9-5fa4efe3167f', 'payload': None}, '019d273d-249f-4d8e-b8b9-4972efb8ee9a': {'status': 'finished', 'command': 'odoo-onshape-draft', 'guid': '019d273d-249f-4d8e-b8b9-4972efb8ee9a', 'payload': None}, '683c44ca-654e-4250-8801-622585bb68ea': {'status': 'finished', 'command': 'odoo-onshape-draft', 'guid': '683c44ca-654e-4250-8801-622585bb68ea', 'payload': None}, '47f78e0a-f862-4b28-b9f7-7f2b87d2c1cf': {'status': 'finished', 'command': 'odoo-onshape-draft', 'guid': '47f78e0a-f862-4b28-b9f7-7f2b87d2c1cf', 'payload': None}})\n",
      "Process 47f78e0a-f862-4b28-b9f7-7f2b87d2c1cf completed with status: finished\n"
     ]
    },
    {
     "name": "stderr",
     "output_type": "stream",
     "text": [
      "192.168.2.177 - - [31/Jan/2025 14:32:23] \"POST /status HTTP/1.1\" 200 -\n"
     ]
    },
    {
     "name": "stdout",
     "output_type": "stream",
     "text": [
      "Looking up GUID: '47f78e0a-f862-4b28-b9f7-7f2b87d2c1cf'\n"
     ]
    }
   ],
   "source": [
    "from flask import Flask, request, jsonify\n",
    "from pyperiscope import Pilot\n",
    "from collections import OrderedDict\n",
    "import uuid\n",
    "import threading\n",
    "import os\n",
    "from typing import Dict, Optional\n",
    "\n",
    "app = Flask(__name__)\n",
    "\n",
    "class ProcessManager:\n",
    "    def __init__(self, max_size: int = 50):\n",
    "        self.processes: OrderedDict[str, Dict] = OrderedDict()\n",
    "        self.max_size = max_size\n",
    "        self.lock = threading.Lock()\n",
    "        self.current_process: Optional[Dict] = None\n",
    "        \n",
    "    def add_process(self, guid: str, state: Dict) -> None:\n",
    "        with self.lock:\n",
    "            if len(self.processes) >= self.max_size:\n",
    "                self.processes.popitem(last=False)\n",
    "            self.processes[guid] = state\n",
    "            print(f\"Added process with GUID: {guid}\")  # Debugging\n",
    "            print(f\"Processes in manager: {self.processes}\")  # Debugging\n",
    "            \n",
    "    def get_process(self, guid: str) -> Optional[Dict]:\n",
    "        with self.lock:\n",
    "            return self.processes.get(guid)\n",
    "    \n",
    "    def set_current_process(self, process: Optional[Dict]) -> None:\n",
    "        with self.lock:\n",
    "            self.current_process = process\n",
    "            \n",
    "    def get_current_process(self) -> Optional[Dict]:\n",
    "        with self.lock:\n",
    "            return self.current_process\n",
    "\n",
    "process_manager = ProcessManager()\n",
    "\n",
    "@app.route('/run', methods=['POST'])\n",
    "def run_notebook():\n",
    "    current_process = process_manager.get_current_process()\n",
    "    if current_process:\n",
    "        return jsonify({\n",
    "            'status': 'busy',\n",
    "            'guid': current_process['guid']\n",
    "        }), 409\n",
    "\n",
    "    data = request.get_json()\n",
    "    command = data.get('command')\n",
    "    \n",
    "    if not command:\n",
    "        return jsonify({'error': 'No command provided'}), 400\n",
    "\n",
    "    process_guid = str(uuid.uuid4())\n",
    "    \n",
    "    try:\n",
    "        # Change to the command directory\n",
    "        original_dir = os.getcwd()\n",
    "        os.chdir(command)\n",
    "        \n",
    "        pilot = Pilot(\"run.ipynb\", step_timeout=2)\n",
    "        \n",
    "        process_info = {\n",
    "            'status': 'running',\n",
    "            'command': command,\n",
    "            'guid': process_guid,\n",
    "            'payload': None\n",
    "        }\n",
    "        \n",
    "        process_manager.set_current_process(process_info)\n",
    "        process_manager.add_process(process_guid, process_info)\n",
    "        \n",
    "        def run_notebook_task():\n",
    "            try:\n",
    "                result = pilot.run_workbook()\n",
    "                process_info.update({\n",
    "                    'status': 'finished',\n",
    "                    'payload': result\n",
    "                })\n",
    "            except Exception as e:\n",
    "                process_info.update({\n",
    "                    'status': 'error',\n",
    "                    'error': str(e)\n",
    "                })\n",
    "            finally:\n",
    "                # Revert to the original directory\n",
    "                os.chdir(original_dir)\n",
    "                process_manager.set_current_process(None)\n",
    "                process_manager.add_process(process_guid, process_info)\n",
    "                print(f\"Process {process_guid} completed with status: {process_info['status']}\")  # Debugging\n",
    "                \n",
    "        threading.Thread(target=run_notebook_task).start()\n",
    "        \n",
    "        return jsonify({\n",
    "            'status': 'running',\n",
    "            'guid': process_guid\n",
    "        })\n",
    "        \n",
    "    except Exception as e:\n",
    "        error_info = {\n",
    "            'status': 'error',\n",
    "            'command': command,\n",
    "            'guid': process_guid,\n",
    "            'error': str(e)\n",
    "        }\n",
    "        process_manager.add_process(process_guid, error_info)\n",
    "        return jsonify({'error': str(e)}), 500\n",
    "\n",
    "@app.route('/status', methods=['POST'])\n",
    "def get_status():\n",
    "    # Try to get GUID from different locations\n",
    "    guid = None\n",
    "    \n",
    "    # Check JSON body first\n",
    "    if request.is_json:\n",
    "        data = request.get_json()\n",
    "        guid = data.get('guid')\n",
    "    \n",
    "    # If no GUID in body, check query parameters\n",
    "    if not guid:\n",
    "        guid = request.args.get('guid')\n",
    "    \n",
    "    # If still no GUID, try form data\n",
    "    if not guid and request.form:\n",
    "        guid = request.form.get('guid')\n",
    "\n",
    "    if not guid:\n",
    "        return jsonify({\n",
    "            'error': 'No GUID provided. Send GUID either in request body or as query parameter',\n",
    "            'request_body': str(request.get_data()),\n",
    "            'query_params': dict(request.args),\n",
    "            'content_type': request.content_type\n",
    "        }), 400\n",
    "\n",
    "    # Trim whitespace from the GUID\n",
    "    guid = guid.strip()\n",
    "    print(f\"Looking up GUID: '{guid}'\")  # Debugging\n",
    "\n",
    "    process_info = process_manager.get_process(guid)\n",
    "    \n",
    "    if not process_info:\n",
    "        print(f\"GUID not found: '{guid}'\")  # Debugging\n",
    "        print(f\"Available GUIDs: {list(process_manager.processes.keys())}\")  # Debugging\n",
    "        return jsonify({'error': 'GUID unknown'}), 404\n",
    "        \n",
    "    return jsonify(process_info)\n",
    "\n",
    "if __name__ == '__main__':\n",
    "    app.run(host='0.0.0.0', port=5000)"
   ]
  },
  {
   "cell_type": "code",
   "execution_count": null,
   "id": "fb1e5c71-44eb-46a4-9a39-0c06e29deb0b",
   "metadata": {},
   "outputs": [],
   "source": []
  }
 ],
 "metadata": {
  "kernelspec": {
   "display_name": "Python 3 (ipykernel)",
   "language": "python",
   "name": "python3"
  },
  "language_info": {
   "codemirror_mode": {
    "name": "ipython",
    "version": 3
   },
   "file_extension": ".py",
   "mimetype": "text/x-python",
   "name": "python",
   "nbconvert_exporter": "python",
   "pygments_lexer": "ipython3",
   "version": "3.12.6"
  }
 },
 "nbformat": 4,
 "nbformat_minor": 5
}
