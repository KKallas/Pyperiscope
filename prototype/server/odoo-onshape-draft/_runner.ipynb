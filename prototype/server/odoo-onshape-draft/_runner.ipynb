{
 "cells": [
  {
   "cell_type": "code",
   "execution_count": 10,
   "id": "fd46a6b0-92c4-4ff7-a0c0-bcfefc0943d2",
   "metadata": {},
   "outputs": [],
   "source": [
    "from pyperiscope import Pilot\n",
    "from pyperiscope import Binoculars"
   ]
  },
  {
   "cell_type": "markdown",
   "id": "f6044add-44b6-4348-8bfa-62a635d4da42",
   "metadata": {},
   "source": [
    "# 1. Debug\n",
    "* replace the screenshot with last screenshot avaiable\n",
    "* check and use the payload"
   ]
  },
  {
   "cell_type": "code",
   "execution_count": 11,
   "id": "f8ee175e-485e-4659-af97-76aa76995bb1",
   "metadata": {},
   "outputs": [
    {
     "data": {
      "application/vnd.jupyter.widget-view+json": {
       "model_id": "dba11c72233546d4ad03dfe60d7356ed",
       "version_major": 2,
       "version_minor": 0
      },
      "text/plain": [
       "VBox(children=(HTML(value='', placeholder='Description'), VBox(children=(Image(value=b'', width='400'), Image(…"
      ]
     },
     "metadata": {},
     "output_type": "display_data"
    }
   ],
   "source": [
    "b = Binoculars()\n",
    "step, automation_payload = b.debug_screenshot(\"_2-odoo-onshape-5.png\")"
   ]
  },
  {
   "cell_type": "code",
   "execution_count": 6,
   "id": "e0026c17-4564-4933-a6a1-5b9577b3c15f",
   "metadata": {},
   "outputs": [
    {
     "data": {
      "text/plain": [
       "{}"
      ]
     },
     "execution_count": 6,
     "metadata": {},
     "output_type": "execute_result"
    }
   ],
   "source": [
    "automation_payload"
   ]
  },
  {
   "cell_type": "markdown",
   "id": "cae94c75-3b5f-486d-a297-28c99352ef4a",
   "metadata": {},
   "source": [
    "# 2. Update step\n",
    "* change the step by the current screenshot\n",
    "* update the workflow if applicaple"
   ]
  },
  {
   "cell_type": "code",
   "execution_count": null,
   "id": "5a22d799-83d2-4212-8c4c-94c514b88508",
   "metadata": {},
   "outputs": [],
   "source": [
    "step.generate_scope_string()"
   ]
  },
  {
   "cell_type": "code",
   "execution_count": null,
   "id": "614fa090-b890-4526-9b32-fd55c7bb2a8e",
   "metadata": {},
   "outputs": [],
   "source": [
    "# update step functionality"
   ]
  },
  {
   "cell_type": "markdown",
   "id": "b4fb3d51-53d4-422c-882f-139ba867e11e",
   "metadata": {},
   "source": [
    "or use [factory](_factory.ipynb) to make some click and run from the steps"
   ]
  },
  {
   "cell_type": "code",
   "execution_count": null,
   "id": "9526dd79-1f2b-4fec-8d31-84d1ad9af528",
   "metadata": {},
   "outputs": [],
   "source": [
    "runner = Pilot(\"2-odoo-onshape.ipynb\")"
   ]
  },
  {
   "cell_type": "code",
   "execution_count": null,
   "id": "5e066ee6-2a7a-4ccb-aeab-e45ed8823a03",
   "metadata": {},
   "outputs": [],
   "source": [
    "runner.run_workbook(firstStep=3) # step number is the png name"
   ]
  },
  {
   "cell_type": "code",
   "execution_count": null,
   "id": "a8f666b4-ef3c-4fd7-b1a8-af4b4d2737bd",
   "metadata": {},
   "outputs": [],
   "source": [
    "# or excecute single step\n",
    "runner.run_step(2)"
   ]
  },
  {
   "cell_type": "markdown",
   "id": "e98b7b30-e96f-4598-860f-01304eb57b20",
   "metadata": {},
   "source": [
    "as a last step run the cleanup so the next flow can start from begining"
   ]
  },
  {
   "cell_type": "code",
   "execution_count": 12,
   "id": "b02a2916-0309-4f39-9891-d8c19bfeb360",
   "metadata": {},
   "outputs": [
    {
     "name": "stdout",
     "output_type": "stream",
     "text": [
      "Staring step: 0\n",
      "found: 1\n"
     ]
    }
   ],
   "source": [
    "cleanup = Pilot(\"3-close_tabs.ipynb\")\n",
    "cleanup.run_workbook()"
   ]
  },
  {
   "cell_type": "markdown",
   "id": "2b5e7507-751b-426c-b7b4-b099373e2bc6",
   "metadata": {},
   "source": [
    "# 3. Cleanup\n",
    "delete all the log png files"
   ]
  },
  {
   "cell_type": "code",
   "execution_count": null,
   "id": "0b2ce97c-b703-4199-b2a5-157d2a30d9b6",
   "metadata": {},
   "outputs": [],
   "source": [
    "import os\n",
    "    if os.path.exists(\"_automation-0.png\"):\n",
    "        os.unlink(\"_automation-0.png\")"
   ]
  },
  {
   "cell_type": "code",
   "execution_count": 13,
   "id": "2d2c7162-b763-4048-a0a3-9a362e648717",
   "metadata": {},
   "outputs": [],
   "source": [
    "import os\n",
    "\n",
    "# delete all png files\n",
    "for file in os.listdir('.'):\n",
    "    if file.lower().endswith('.png'):\n",
    "        os.remove(file)"
   ]
  },
  {
   "cell_type": "code",
   "execution_count": null,
   "id": "9f7fe0d7-452f-48da-8035-de8fa8b87549",
   "metadata": {},
   "outputs": [],
   "source": [
    "b.start_monitoring(\"_automation\")\n",
    "autorunner_pilot.run_step(0)"
   ]
  }
 ],
 "metadata": {
  "kernelspec": {
   "display_name": "Python 3 (ipykernel)",
   "language": "python",
   "name": "python3"
  },
  "language_info": {
   "codemirror_mode": {
    "name": "ipython",
    "version": 3
   },
   "file_extension": ".py",
   "mimetype": "text/x-python",
   "name": "python",
   "nbconvert_exporter": "python",
   "pygments_lexer": "ipython3",
   "version": "3.12.6"
  }
 },
 "nbformat": 4,
 "nbformat_minor": 5
}
