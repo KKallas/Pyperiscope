{
 "cells": [
  {
   "cell_type": "code",
   "execution_count": 2,
   "id": "fd46a6b0-92c4-4ff7-a0c0-bcfefc0943d2",
   "metadata": {},
   "outputs": [],
   "source": [
    "from pyperiscope import Pilot\n",
    "from pyperiscope import Binoculars"
   ]
  },
  {
   "cell_type": "markdown",
   "id": "f6044add-44b6-4348-8bfa-62a635d4da42",
   "metadata": {},
   "source": [
    "# 1. Debug\n",
    "* replace the screenshot with last screenshot avaiable\n",
    "* check and use the payload"
   ]
  },
  {
   "cell_type": "code",
   "execution_count": 3,
   "id": "f8ee175e-485e-4659-af97-76aa76995bb1",
   "metadata": {},
   "outputs": [
    {
     "data": {
      "application/vnd.jupyter.widget-view+json": {
       "model_id": "d33736d0aec944d98b56f1c0dd6e7235",
       "version_major": 2,
       "version_minor": 0
      },
      "text/plain": [
       "VBox(children=(HTML(value='', placeholder='Description'), VBox(children=(Image(value=b'', width='400'), Image(…"
      ]
     },
     "metadata": {},
     "output_type": "display_data"
    }
   ],
   "source": [
    "b = Binoculars()\n",
    "step, automation_payload = b.debug_screenshot(\"_2-odoo-onshape-2.png\")"
   ]
  },
  {
   "cell_type": "code",
   "execution_count": 6,
   "id": "e0026c17-4564-4933-a6a1-5b9577b3c15f",
   "metadata": {},
   "outputs": [
    {
     "data": {
      "text/plain": [
       "{}"
      ]
     },
     "execution_count": 6,
     "metadata": {},
     "output_type": "execute_result"
    }
   ],
   "source": [
    "automation_payload"
   ]
  },
  {
   "cell_type": "markdown",
   "id": "cae94c75-3b5f-486d-a297-28c99352ef4a",
   "metadata": {},
   "source": [
    "# 2. Update step\n",
    "Find the next product that requires the onshape document, if none is found proceede to Shutdown\n",
    "if found get name and dimensions\n",
    "create new document with product name and extruded sketch\n",
    "insert the weblink into odoo and change product category to all"
   ]
  },
  {
   "cell_type": "markdown",
   "id": "2b5e7507-751b-426c-b7b4-b099373e2bc6",
   "metadata": {},
   "source": [
    "# 3. Cleanup\n",
    "Close the windows so the system knows it can start next automation"
   ]
  },
  {
   "cell_type": "code",
   "execution_count": null,
   "id": "0b2ce97c-b703-4199-b2a5-157d2a30d9b6",
   "metadata": {},
   "outputs": [],
   "source": [
    "import os\n",
    "    if os.path.exists(\"_automation-0.png\"):\n",
    "        os.unlink(\"_automation-0.png\")"
   ]
  },
  {
   "cell_type": "code",
   "execution_count": null,
   "id": "2d2c7162-b763-4048-a0a3-9a362e648717",
   "metadata": {},
   "outputs": [],
   "source": [
    "# delete all png files\n",
    "for file in os.listdir('.'):\n",
    "    if file.lower().endswith('.png'):\n",
    "        os.remove(file)"
   ]
  },
  {
   "cell_type": "code",
   "execution_count": null,
   "id": "9f7fe0d7-452f-48da-8035-de8fa8b87549",
   "metadata": {},
   "outputs": [],
   "source": [
    "b.start_monitoring(\"_automation\")\n",
    "autorunner_pilot.run_step(0)"
   ]
  }
 ],
 "metadata": {
  "kernelspec": {
   "display_name": "Python 3 (ipykernel)",
   "language": "python",
   "name": "python3"
  },
  "language_info": {
   "codemirror_mode": {
    "name": "ipython",
    "version": 3
   },
   "file_extension": ".py",
   "mimetype": "text/x-python",
   "name": "python",
   "nbconvert_exporter": "python",
   "pygments_lexer": "ipython3",
   "version": "3.12.6"
  }
 },
 "nbformat": 4,
 "nbformat_minor": 5
}
