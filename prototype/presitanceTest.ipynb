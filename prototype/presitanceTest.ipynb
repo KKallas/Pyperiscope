{
 "cells": [
  {
   "cell_type": "code",
   "execution_count": null,
   "id": "3482ae16-5020-47d5-8d17-bcb2e1f90583",
   "metadata": {},
   "outputs": [],
   "source": [
    "from IPython.display import display, clear_output\n",
    "import asyncio\n",
    "from datetime import datetime\n",
    "\n",
    "async def print_time():\n",
    "    while True:\n",
    "        clear_output(wait=True)\n",
    "        display(datetime.now().strftime(\"%Y-%m-%d %H:%M:%S\"))\n",
    "        await asyncio.sleep(10)\n",
    "\n",
    "await print_time()"
   ]
  },
  {
   "cell_type": "code",
   "execution_count": null,
   "id": "bb30c176-aea9-4aaa-a45e-08599b564b3c",
   "metadata": {},
   "outputs": [],
   "source": []
  }
 ],
 "metadata": {
  "kernelspec": {
   "display_name": "Python 3 (ipykernel)",
   "language": "python",
   "name": "python3"
  },
  "language_info": {
   "codemirror_mode": {
    "name": "ipython",
    "version": 3
   },
   "file_extension": ".py",
   "mimetype": "text/x-python",
   "name": "python",
   "nbconvert_exporter": "python",
   "pygments_lexer": "ipython3",
   "version": "3.12.6"
  }
 },
 "nbformat": 4,
 "nbformat_minor": 5
}
