{
 "cells": [
  {
   "cell_type": "markdown",
   "id": "06414d7e-dea9-4ad6-9fde-ad7e818db943",
   "metadata": {},
   "source": [
    "binoculars take temp.png as input, and takes out from there the last doc, img1, img2 and error"
   ]
  },
  {
   "cell_type": "code",
   "execution_count": 28,
   "id": "d528ea2b-ef02-4052-a429-5db9fb227681",
   "metadata": {},
   "outputs": [],
   "source": [
    "from ipywidgets import widgets\n",
    "from IPython.display import display as ipython_display\n",
    "from pyperiscope import Scope\n",
    "from PIL import Image\n",
    "import io\n",
    "import markdown\n",
    "import pickle\n",
    "import dill\n",
    "import pyautogui\n",
    "import time\n",
    "import pyperclip\n",
    "\n",
    "class Binoculars:\n",
    "    def __init__(self, width=400):\n",
    "        self.width = width\n",
    "        self.image1 = None\n",
    "        self.image2 = None\n",
    "        self.box = None\n",
    "        self._create_widgets()\n",
    "\n",
    "    def load_screenshot_with_data(self, filepath):\n",
    "        global step\n",
    "        image = Image.open(filepath)\n",
    "        \n",
    "        try:\n",
    "            # Extract serialized data from metadata\n",
    "            serialized_data = bytes.fromhex(image.info.get(\"custom_data\", \"\"))\n",
    "            data_dict = pickle.loads(serialized_data)\n",
    "        except (KeyError, pickle.UnpicklingError):\n",
    "            data_dict = {}  # Return empty dict if no valid data found\n",
    "\n",
    "        if not data_dict == {}:\n",
    "            step = Scope(saved_dict=data_dict['step'])\n",
    "            self.current_step = data_dict['current_step']\n",
    "            self.last_error = data_dict['last_error']\n",
    "            self.scope_cell_id = data_dict['scope_cell_id']\n",
    "            self.current_doc = data_dict['current_doc']\n",
    "        \n",
    "    def _create_widgets(self):\n",
    "        \"\"\"Initialize all widgets including text areas\"\"\"\n",
    "        # Create description text widget (Markdown)\n",
    "        self.description = widgets.HTML(\n",
    "            value='',\n",
    "            placeholder='Description',\n",
    "            description='',\n",
    "        )\n",
    "        \n",
    "        # Create image widgets\n",
    "        self.widget1 = widgets.Image(format='png', width=self.width)\n",
    "        self.widget2 = widgets.Image(format='png', width=self.width)\n",
    "        self.image_box = widgets.HBox([self.widget1, self.widget2])\n",
    "        \n",
    "        # Create error text widget (Markdown)\n",
    "        self.error_text = widgets.HTML(\n",
    "            value='',\n",
    "            placeholder='Error messages',\n",
    "            description='',\n",
    "        )\n",
    "        \n",
    "        # Stack all widgets vertically\n",
    "        self.box = widgets.VBox([\n",
    "            self.description,\n",
    "            self.image_box,\n",
    "            self.error_text\n",
    "        ])\n",
    "        \n",
    "        ipython_display(self.box)\n",
    "        \n",
    "    def _convert_to_bytes(self, pil_image):\n",
    "        \"\"\"Convert PIL image to bytes\"\"\"\n",
    "        buf = io.BytesIO()\n",
    "        pil_image.save(buf, format='PNG')\n",
    "        return buf.getvalue()\n",
    "    \n",
    "    def update_image(self, image, position=1):\n",
    "        \"\"\"Update either the first or second image\"\"\"\n",
    "        if not isinstance(image, Image.Image):\n",
    "            raise TypeError(\"Input must be a PIL Image\")\n",
    "            \n",
    "        image_bytes = self._convert_to_bytes(image)\n",
    "        if position == 1:\n",
    "            self.image1 = image\n",
    "            self.widget1.value = image_bytes\n",
    "        elif position == 2:\n",
    "            self.image2 = image\n",
    "            self.widget2.value = image_bytes\n",
    "        else:\n",
    "            raise ValueError(\"Position must be 1 or 2\")\n",
    "    \n",
    "    def update_both(self, image1, image2):\n",
    "        \"\"\"Update both images at once\"\"\"\n",
    "        self.update_image(image1, 1)\n",
    "        self.update_image(image2, 2)\n",
    "    \n",
    "    def set_description(self, text):\n",
    "        \"\"\"Update description text with markdown formatting\"\"\"\n",
    "        # Convert markdown to HTML\n",
    "        md = markdown.Markdown()\n",
    "        self.description.value = md.convert(text)\n",
    "    \n",
    "    def set_error(self, text):\n",
    "        \"\"\"Update error text with markdown formatting\"\"\"\n",
    "        # Convert markdown to HTML with red color for errors\n",
    "        md = markdown.Markdown()\n",
    "        self.error_text.value = md.convert(text)\n",
    "    \n",
    "    def clear_texts(self):\n",
    "        \"\"\"Clear both description and error texts\"\"\"\n",
    "        self.description.value = ''\n",
    "        self.error_text.value = ''\n",
    "    \n",
    "    def get_current_images(self):\n",
    "        \"\"\"Return current PIL images\"\"\"\n",
    "        return self.image1, self.image2\n",
    "\n",
    "    def update_from_screenshot(self, filepath):\n",
    "        global step, current_doc, image\n",
    "        image = Image.open(filepath)\n",
    "        \n",
    "        try:\n",
    "            # Extract serialized data from metadata\n",
    "            serialized_data = bytes.fromhex(image.info.get(\"custom_data\", \"\"))\n",
    "            data_dict = pickle.loads(serialized_data)\n",
    "        except (KeyError, pickle.UnpicklingError):\n",
    "            data_dict = {}  # Return empty dict if no valid data found\n",
    "    \n",
    "        if not data_dict == {}:\n",
    "            step = Scope(saved_dict=data_dict['step'])\n",
    "            step.found_locations = data_dict['last_found']\n",
    "            #self.current_step = data_dict['current_step']\n",
    "            last_error = data_dict['last_error']\n",
    "            #self.scope_cell_id = data_dict['scope_cell_id']\n",
    "            current_doc = data_dict['current_doc']\n",
    "            current = Scope(mouse_offset=step.found_locations[0]['mouse_offset'], area_offset=step.area_offset, area_size=step.area_size, saved_image=image)\n",
    "    \n",
    "            # update UI\n",
    "            self.update_both(step.render_preview(), current.render_preview())\n",
    "            if current_doc:\n",
    "                self.set_description(current_doc)\n",
    "            if last_error:\n",
    "                self.set_error(last_error)"
   ]
  },
  {
   "cell_type": "code",
   "execution_count": 33,
   "id": "c017e082-a600-4353-b876-52bed26e1273",
   "metadata": {},
   "outputs": [
    {
     "name": "stdout",
     "output_type": "stream",
     "text": [
      "Your specific file .\\_dav_subtitle2.png was modified\n",
      "Your specific file .\\_dav_subtitle2.png was modified\n"
     ]
    },
    {
     "name": "stderr",
     "output_type": "stream",
     "text": [
      "Exception in thread Thread-8:\n",
      "Traceback (most recent call last):\n",
      "  File \"C:\\Python312\\Lib\\threading.py\", line 1075, in _bootstrap_inner\n",
      "    self.run()\n",
      "  File \"C:\\Users\\Virtual Production 2\\AppData\\Roaming\\Python\\Python312\\site-packages\\watchdog\\observers\\api.py\", line 213, in run\n",
      "    self.dispatch_events(self.event_queue)\n",
      "  File \"C:\\Users\\Virtual Production 2\\AppData\\Roaming\\Python\\Python312\\site-packages\\watchdog\\observers\\api.py\", line 391, in dispatch_events\n",
      "    handler.dispatch(event)\n",
      "  File \"C:\\Users\\Virtual Production 2\\AppData\\Roaming\\Python\\Python312\\site-packages\\watchdog\\events.py\", line 217, in dispatch\n",
      "    getattr(self, f\"on_{event.event_type}\")(event)\n",
      "  File \"C:\\Users\\Virtual Production 2\\AppData\\Local\\Temp\\ipykernel_47900\\948814975.py\", line 15, in on_modified\n",
      "  File \"C:\\Users\\Virtual Production 2\\AppData\\Local\\Temp\\ipykernel_47900\\1878171005.py\", line 134, in update_from_screenshot\n",
      "IndexError: list index out of range\n"
     ]
    }
   ],
   "source": [
    "from watchdog.observers import Observer\n",
    "from watchdog.events import FileSystemEventHandler\n",
    "from pathlib import Path\n",
    "\n",
    "class automation_observer(FileSystemEventHandler):\n",
    "    def __init__(self, target_file):\n",
    "        self.target_file = Path(target_file).resolve()\n",
    "    \n",
    "    def on_modified(self, event):\n",
    "        if event.is_directory:\n",
    "            return\n",
    "        if Path(event.src_path).resolve() == self.target_file:\n",
    "            print(f\"Your specific file {event.src_path} was modified\")\n",
    "            time.sleep(1)\n",
    "            b.update_from_screenshot(\"_dav_subtitle2.png\")\n",
    "            # Add your reaction code here\n",
    "            \n",
    "# Usage\n",
    "target = \"_dav_subtitle2.png\"  # Replace with your filename\n",
    "event_handler = automation_observer(target)\n",
    "observer = Observer()\n",
    "observer.schedule(event_handler, path=\".\", recursive=False)\n",
    "observer.start()"
   ]
  },
  {
   "cell_type": "code",
   "execution_count": 29,
   "id": "223f1ba0-734b-4fd1-82d9-4f6f2ee49b83",
   "metadata": {},
   "outputs": [
    {
     "data": {
      "application/vnd.jupyter.widget-view+json": {
       "model_id": "09cc5d72fe304097b2e5b8e6d38bfb68",
       "version_major": 2,
       "version_minor": 0
      },
      "text/plain": [
       "VBox(children=(HTML(value='', placeholder='Description'), HBox(children=(Image(value=b'', width='400'), Image(…"
      ]
     },
     "metadata": {},
     "output_type": "display_data"
    }
   ],
   "source": [
    "b = Binoculars()"
   ]
  },
  {
   "cell_type": "code",
   "execution_count": 27,
   "id": "98b2d20e-96ff-48bc-9679-ac812faa9dd2",
   "metadata": {},
   "outputs": [],
   "source": [
    "b.update_from_screenshot(\"_dav_subtitle2.png\")"
   ]
  },
  {
   "cell_type": "code",
   "execution_count": 31,
   "id": "7c3a5014-3101-4bed-8e5e-91cef96cc9f2",
   "metadata": {},
   "outputs": [
    {
     "name": "stdout",
     "output_type": "stream",
     "text": [
      "Defaulting to user installation because normal site-packages is not writeable\n",
      "Collecting watchdog\n",
      "  Downloading watchdog-6.0.0-py3-none-win_amd64.whl.metadata (44 kB)\n",
      "Downloading watchdog-6.0.0-py3-none-win_amd64.whl (79 kB)\n",
      "Installing collected packages: watchdog\n",
      "Successfully installed watchdog-6.0.0\n",
      "Note: you may need to restart the kernel to use updated packages.\n"
     ]
    },
    {
     "name": "stderr",
     "output_type": "stream",
     "text": [
      "  WARNING: The script watchmedo.exe is installed in 'C:\\Users\\Virtual Production 2\\AppData\\Roaming\\Python\\Python312\\Scripts' which is not on PATH.\n",
      "  Consider adding this directory to PATH or, if you prefer to suppress this warning, use --no-warn-script-location.\n",
      "\n",
      "[notice] A new release of pip is available: 24.2 -> 24.3.1\n",
      "[notice] To update, run: python.exe -m pip install --upgrade pip\n"
     ]
    }
   ],
   "source": [
    "%pip install watchdog"
   ]
  },
  {
   "cell_type": "code",
   "execution_count": null,
   "id": "e47b5ddd-37de-47cf-becd-3644f42e6e45",
   "metadata": {},
   "outputs": [],
   "source": []
  }
 ],
 "metadata": {
  "kernelspec": {
   "display_name": "Python 3 (ipykernel)",
   "language": "python",
   "name": "python3"
  },
  "language_info": {
   "codemirror_mode": {
    "name": "ipython",
    "version": 3
   },
   "file_extension": ".py",
   "mimetype": "text/x-python",
   "name": "python",
   "nbconvert_exporter": "python",
   "pygments_lexer": "ipython3",
   "version": "3.12.6"
  }
 },
 "nbformat": 4,
 "nbformat_minor": 5
}
