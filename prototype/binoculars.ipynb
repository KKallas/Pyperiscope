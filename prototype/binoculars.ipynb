{
 "cells": [
  {
   "cell_type": "markdown",
   "id": "06414d7e-dea9-4ad6-9fde-ad7e818db943",
   "metadata": {},
   "source": [
    "binoculars take temp.png as input, and takes out from there the last doc, img1, img2 and error"
   ]
  },
  {
   "cell_type": "code",
   "execution_count": 3,
   "id": "d528ea2b-ef02-4052-a429-5db9fb227681",
   "metadata": {},
   "outputs": [],
   "source": [
    "from ipywidgets import widgets\n",
    "from IPython.display import display as ipython_display\n",
    "from pyperiscope import Scope\n",
    "from PIL import Image\n",
    "import io\n",
    "import markdown\n",
    "import pickle\n",
    "import dill\n",
    "import pyautogui\n",
    "import time\n",
    "import pyperclip\n",
    "\n",
    "class Binoculars:\n",
    "    def __init__(self, width=400):\n",
    "        self.width = width\n",
    "        self.image1 = None\n",
    "        self.image2 = None\n",
    "        self.box = None\n",
    "        self._create_widgets()\n",
    "\n",
    "    def load_screenshot_with_data(self, filepath):\n",
    "        global step\n",
    "        image = Image.open(filepath)\n",
    "        \n",
    "        try:\n",
    "            # Extract serialized data from metadata\n",
    "            serialized_data = bytes.fromhex(image.info.get(\"custom_data\", \"\"))\n",
    "            data_dict = pickle.loads(serialized_data)\n",
    "        except (KeyError, pickle.UnpicklingError):\n",
    "            data_dict = {}  # Return empty dict if no valid data found\n",
    "\n",
    "        if not data_dict == {}:\n",
    "            step = Scope(saved_dict=data_dict['step'])\n",
    "            self.current_step = data_dict['current_step']\n",
    "            self.last_error = data_dict['last_error']\n",
    "            self.scope_cell_id = data_dict['scope_cell_id']\n",
    "            self.current_doc = data_dict['current_doc']\n",
    "        \n",
    "    def _create_widgets(self):\n",
    "        \"\"\"Initialize all widgets including text areas\"\"\"\n",
    "        # Create description text widget (Markdown)\n",
    "        self.description = widgets.HTML(\n",
    "            value='',\n",
    "            placeholder='Description',\n",
    "            description='',\n",
    "        )\n",
    "        \n",
    "        # Create image widgets\n",
    "        self.widget1 = widgets.Image(format='png', width=self.width)\n",
    "        self.widget2 = widgets.Image(format='png', width=self.width)\n",
    "        self.image_box = widgets.HBox([self.widget1, self.widget2])\n",
    "        \n",
    "        # Create error text widget (Markdown)\n",
    "        self.error_text = widgets.HTML(\n",
    "            value='',\n",
    "            placeholder='Error messages',\n",
    "            description='',\n",
    "        )\n",
    "        \n",
    "        # Stack all widgets vertically\n",
    "        self.box = widgets.VBox([\n",
    "            self.description,\n",
    "            self.image_box,\n",
    "            self.error_text\n",
    "        ])\n",
    "        \n",
    "        ipython_display(self.box)\n",
    "        \n",
    "    def _convert_to_bytes(self, pil_image):\n",
    "        \"\"\"Convert PIL image to bytes\"\"\"\n",
    "        buf = io.BytesIO()\n",
    "        pil_image.save(buf, format='PNG')\n",
    "        return buf.getvalue()\n",
    "    \n",
    "    def update_image(self, image, position=1):\n",
    "        \"\"\"Update either the first or second image\"\"\"\n",
    "        if not isinstance(image, Image.Image):\n",
    "            raise TypeError(\"Input must be a PIL Image\")\n",
    "            \n",
    "        image_bytes = self._convert_to_bytes(image)\n",
    "        if position == 1:\n",
    "            self.image1 = image\n",
    "            self.widget1.value = image_bytes\n",
    "        elif position == 2:\n",
    "            self.image2 = image\n",
    "            self.widget2.value = image_bytes\n",
    "        else:\n",
    "            raise ValueError(\"Position must be 1 or 2\")\n",
    "    \n",
    "    def update_both(self, image1, image2):\n",
    "        \"\"\"Update both images at once\"\"\"\n",
    "        self.update_image(image1, 1)\n",
    "        self.update_image(image2, 2)\n",
    "    \n",
    "    def set_description(self, text):\n",
    "        \"\"\"Update description text with markdown formatting\"\"\"\n",
    "        # Convert markdown to HTML\n",
    "        md = markdown.Markdown()\n",
    "        self.description.value = md.convert(text)\n",
    "    \n",
    "    def set_error(self, text):\n",
    "        \"\"\"Update error text with markdown formatting\"\"\"\n",
    "        # Convert markdown to HTML with red color for errors\n",
    "        md = markdown.Markdown()\n",
    "        self.error_text.value = md.convert(text)\n",
    "    \n",
    "    def clear_texts(self):\n",
    "        \"\"\"Clear both description and error texts\"\"\"\n",
    "        self.description.value = ''\n",
    "        self.error_text.value = ''\n",
    "    \n",
    "    def get_current_images(self):\n",
    "        \"\"\"Return current PIL images\"\"\"\n",
    "        return self.image1, self.image2\n",
    "\n",
    "    def update_from_screenshot(self, filepath):\n",
    "        global step, current_doc, image\n",
    "        image = Image.open(filepath)\n",
    "        \n",
    "        try:\n",
    "            # Extract serialized data from metadata\n",
    "            serialized_data = bytes.fromhex(image.info.get(\"custom_data\", \"\"))\n",
    "            data_dict = pickle.loads(serialized_data)\n",
    "        except (KeyError, pickle.UnpicklingError):\n",
    "            data_dict = {}  # Return empty dict if no valid data found\n",
    "    \n",
    "        if not data_dict == {}:\n",
    "            step = Scope(saved_dict=data_dict['step'])\n",
    "            step.found_locations = data_dict['last_found']\n",
    "            #self.current_step = data_dict['current_step']\n",
    "            last_error = data_dict['last_error']\n",
    "            #self.scope_cell_id = data_dict['scope_cell_id']\n",
    "            current_doc = data_dict['current_doc']\n",
    "            current = Scope(mouse_offset=step.found_locations[0]['mouse_offset'], area_offset=step.area_offset, area_size=step.area_size, saved_image=image)\n",
    "    \n",
    "            # update UI\n",
    "            self.update_both(step.render_preview(), current.render_preview())\n",
    "            if current_doc:\n",
    "                self.set_description(current_doc)\n",
    "            if last_error:\n",
    "                self.set_error(last_error)"
   ]
  },
  {
   "cell_type": "code",
   "execution_count": 4,
   "id": "223f1ba0-734b-4fd1-82d9-4f6f2ee49b83",
   "metadata": {},
   "outputs": [
    {
     "data": {
      "application/vnd.jupyter.widget-view+json": {
       "model_id": "bb86955908fb4c96baa39d7d0f193da6",
       "version_major": 2,
       "version_minor": 0
      },
      "text/plain": [
       "VBox(children=(HTML(value='', placeholder='Description'), HBox(children=(Image(value=b'', width='400'), Image(…"
      ]
     },
     "metadata": {},
     "output_type": "display_data"
    }
   ],
   "source": [
    "b = Binoculars()"
   ]
  },
  {
   "cell_type": "code",
   "execution_count": 5,
   "id": "98b2d20e-96ff-48bc-9679-ac812faa9dd2",
   "metadata": {},
   "outputs": [],
   "source": [
    "b.update_from_screenshot(\"_dav_subtitle2.png\")"
   ]
  },
  {
   "cell_type": "code",
   "execution_count": 2,
   "id": "7c3a5014-3101-4bed-8e5e-91cef96cc9f2",
   "metadata": {},
   "outputs": [
    {
     "name": "stdout",
     "output_type": "stream",
     "text": [
      "Collecting markdown\n",
      "  Downloading Markdown-3.7-py3-none-any.whl.metadata (7.0 kB)\n",
      "Downloading Markdown-3.7-py3-none-any.whl (106 kB)\n",
      "Installing collected packages: markdown\n",
      "Successfully installed markdown-3.7\n",
      "Note: you may need to restart the kernel to use updated packages.\n"
     ]
    }
   ],
   "source": [
    "%pip install markdown"
   ]
  },
  {
   "cell_type": "code",
   "execution_count": null,
   "id": "e47b5ddd-37de-47cf-becd-3644f42e6e45",
   "metadata": {},
   "outputs": [],
   "source": []
  }
 ],
 "metadata": {
  "kernelspec": {
   "display_name": "Python 3 (ipykernel)",
   "language": "python",
   "name": "python3"
  },
  "language_info": {
   "codemirror_mode": {
    "name": "ipython",
    "version": 3
   },
   "file_extension": ".py",
   "mimetype": "text/x-python",
   "name": "python",
   "nbconvert_exporter": "python",
   "pygments_lexer": "ipython3",
   "version": "3.12.8"
  }
 },
 "nbformat": 4,
 "nbformat_minor": 5
}
