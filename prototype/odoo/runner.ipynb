{
 "cells": [
  {
   "cell_type": "code",
   "execution_count": 1,
   "id": "fd46a6b0-92c4-4ff7-a0c0-bcfefc0943d2",
   "metadata": {},
   "outputs": [],
   "source": [
    "from pyperiscope import Pilot\n",
    "from pyperiscope import Binoculars"
   ]
  },
  {
   "cell_type": "code",
   "execution_count": 5,
   "id": "da431566-512e-4e28-9b15-28a1abbb8aec",
   "metadata": {},
   "outputs": [],
   "source": [
    "autorunner_pilot = Pilot(\"odoo-onshape.ipynb\", step_timeout=2)"
   ]
  },
  {
   "cell_type": "code",
   "execution_count": null,
   "id": "d77b2a48-8f1a-44e7-80a7-3b750d22be8d",
   "metadata": {
    "scrolled": true
   },
   "outputs": [],
   "source": [
    "b.start_monitoring(\"_odoo-onshape\")\n",
    "autorunner_pilot.run_workbook()"
   ]
  },
  {
   "cell_type": "code",
   "execution_count": 6,
   "id": "9f7fe0d7-452f-48da-8035-de8fa8b87549",
   "metadata": {},
   "outputs": [
    {
     "name": "stdout",
     "output_type": "stream",
     "text": [
      "to stop the monitoring use Bincoulars_instance.watcher.stop()\n",
      "Staring step: 0\n",
      "found: 1\n"
     ]
    }
   ],
   "source": [
    "b.start_monitoring(\"_odoo-onshape\")\n",
    "autorunner_pilot.run_step(0)"
   ]
  },
  {
   "cell_type": "code",
   "execution_count": 7,
   "id": "22f16ca1-5ef0-4e9d-aa1e-4b252e2b41c1",
   "metadata": {},
   "outputs": [],
   "source": [
    "b.debug_screenshot(\"_odoo-onshape-0.png\")"
   ]
  },
  {
   "cell_type": "code",
   "execution_count": 8,
   "id": "3f80fe0a-bcf8-41ac-860a-564bae5b1692",
   "metadata": {},
   "outputs": [],
   "source": [
    "b.watcher.stop()"
   ]
  },
  {
   "cell_type": "code",
   "execution_count": 4,
   "id": "f8ee175e-485e-4659-af97-76aa76995bb1",
   "metadata": {},
   "outputs": [
    {
     "data": {
      "application/vnd.jupyter.widget-view+json": {
       "model_id": "f2f8602dfac14ad4b5cd44a69bdfd1c1",
       "version_major": 2,
       "version_minor": 0
      },
      "text/plain": [
       "VBox(children=(HTML(value='', placeholder='Description'), VBox(children=(Image(value=b'', width='320'), Image(…"
      ]
     },
     "metadata": {},
     "output_type": "display_data"
    }
   ],
   "source": [
    "b = Binoculars(width=320)\n",
    "#b.start_monitoring(\"_odoo-onshape.png\")"
   ]
  },
  {
   "cell_type": "code",
   "execution_count": null,
   "id": "f2daa9f5-7fa5-4d9f-a429-53504bfbf542",
   "metadata": {},
   "outputs": [],
   "source": []
  },
  {
   "cell_type": "code",
   "execution_count": null,
   "id": "08b2c226-9b64-43c8-a6bc-b47b6806022d",
   "metadata": {},
   "outputs": [],
   "source": []
  }
 ],
 "metadata": {
  "kernelspec": {
   "display_name": "Python 3 (ipykernel)",
   "language": "python",
   "name": "python3"
  },
  "language_info": {
   "codemirror_mode": {
    "name": "ipython",
    "version": 3
   },
   "file_extension": ".py",
   "mimetype": "text/x-python",
   "name": "python",
   "nbconvert_exporter": "python",
   "pygments_lexer": "ipython3",
   "version": "3.12.6"
  }
 },
 "nbformat": 4,
 "nbformat_minor": 5
}
