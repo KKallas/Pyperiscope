{
 "cells": [
  {
   "cell_type": "code",
   "execution_count": 1,
   "id": "fd46a6b0-92c4-4ff7-a0c0-bcfefc0943d2",
   "metadata": {},
   "outputs": [],
   "source": [
    "from pyperiscope import Pilot\n",
    "from pyperiscope import Binoculars"
   ]
  },
  {
   "cell_type": "code",
   "execution_count": 4,
   "id": "da431566-512e-4e28-9b15-28a1abbb8aec",
   "metadata": {},
   "outputs": [],
   "source": [
    "autorunner_pilot = Pilot(\"odoo-onshape.ipynb\", step_timeout=2)"
   ]
  },
  {
   "cell_type": "code",
   "execution_count": 5,
   "id": "d77b2a48-8f1a-44e7-80a7-3b750d22be8d",
   "metadata": {},
   "outputs": [
    {
     "name": "stdout",
     "output_type": "stream",
     "text": [
      "to stop the monitoring use Bincoulars_instance.watcher.stop()\n",
      "Staring step: 0\n",
      "found: 1\n",
      "Processed _odoo-onshape-0.png, waiting for _odoo-onshape-1.png\n",
      "Staring step: 1\n",
      "found: 1\n",
      "Processed _odoo-onshape-1.png, waiting for _odoo-onshape-2.png\n",
      "Staring step: 2\n",
      "found: 1\n",
      "Processed _odoo-onshape-2.png, waiting for _odoo-onshape-3.png\n",
      "Staring step: 3\n",
      "found: 1\n",
      "Processed _odoo-onshape-3.png, waiting for _odoo-onshape-4.png\n",
      "Staring step: 4\n",
      "found: 1\n",
      "Found product: test3\n",
      "Processed _odoo-onshape-4.png, waiting for _odoo-onshape-5.png\n",
      "Staring step: 5\n",
      "found: 1\n",
      "Found dimensions: [300, 400, 100]\n",
      "Processed _odoo-onshape-5.png, waiting for _odoo-onshape-6.png\n",
      "Staring step: 6\n",
      "found: 1\n",
      "Processed _odoo-onshape-6.png, waiting for _odoo-onshape-7.png\n",
      "Staring step: 7\n",
      "found: 1\n",
      "Processed _odoo-onshape-7.png, waiting for _odoo-onshape-8.png\n",
      "Staring step: 8\n",
      "found: 1\n",
      "Processed _odoo-onshape-8.png, waiting for _odoo-onshape-9.png\n",
      "Staring step: 9\n",
      "try: 0/30\n",
      "try: 1/30\n",
      "found: 1\n",
      "Processed _odoo-onshape-9.png, waiting for _odoo-onshape-10.png\n",
      "Staring step: 10\n",
      "found: 1\n",
      "Processed _odoo-onshape-10.png, waiting for _odoo-onshape-11.png\n",
      "Staring step: 11\n",
      "found: 1\n",
      "Processed _odoo-onshape-11.png, waiting for _odoo-onshape-12.png\n",
      "Staring step: 12\n",
      "found: 1\n",
      "Processed _odoo-onshape-12.png, waiting for _odoo-onshape-13.png\n",
      "Staring step: 13\n",
      "found: 1\n",
      "Processed _odoo-onshape-13.png, waiting for _odoo-onshape-14.png\n",
      "Staring step: 14\n",
      "found: 1\n",
      "Processed _odoo-onshape-14.png, waiting for _odoo-onshape-15.png\n",
      "Staring step: 15\n",
      "found: 1\n",
      "Processed _odoo-onshape-15.png, waiting for _odoo-onshape-16.png\n",
      "Staring step: 16\n",
      "found: 1\n",
      "Processed _odoo-onshape-16.png, waiting for _odoo-onshape-17.png\n",
      "Staring step: 17\n",
      "found: 1\n",
      "Processed _odoo-onshape-17.png, waiting for _odoo-onshape-18.png\n",
      "Staring step: 18\n",
      "found: 1\n",
      "Processed _odoo-onshape-18.png, waiting for _odoo-onshape-19.png\n",
      "Staring step: 19\n",
      "found: 1\n",
      "found product doc address: https://cad.onshape.com/documents/90eacc662a3996bda404cfd6\n",
      "Processed _odoo-onshape-19.png, waiting for _odoo-onshape-20.png\n",
      "Staring step: 20\n",
      "found: 1\n",
      "Processed _odoo-onshape-20.png, waiting for _odoo-onshape-21.png\n",
      "Staring step: 21\n",
      "found: 1\n",
      "Processed _odoo-onshape-21.png, waiting for _odoo-onshape-22.png\n",
      "Staring step: 22\n",
      "found: 1\n",
      "Processed _odoo-onshape-22.png, waiting for _odoo-onshape-23.png\n",
      "Staring step: 23\n",
      "found: 1\n",
      "Processed _odoo-onshape-23.png, waiting for _odoo-onshape-24.png\n",
      "Staring step: 24\n",
      "found: 1\n",
      "Processed _odoo-onshape-24.png, waiting for _odoo-onshape-25.png\n",
      "Staring step: 25\n",
      "found: 1\n",
      "Processed _odoo-onshape-25.png, waiting for _odoo-onshape-26.png\n"
     ]
    }
   ],
   "source": [
    "b.start_monitoring(\"_odoo-onshape\")\n",
    "autorunner_pilot.run_workbook()"
   ]
  },
  {
   "cell_type": "code",
   "execution_count": 6,
   "id": "a1de1f5d-eb17-47f9-9089-3f3c3d0c4041",
   "metadata": {},
   "outputs": [
    {
     "data": {
      "text/plain": [
       "25"
      ]
     },
     "execution_count": 6,
     "metadata": {},
     "output_type": "execute_result"
    }
   ],
   "source": [
    "autorunner_pilot.current_step"
   ]
  },
  {
   "cell_type": "code",
   "execution_count": null,
   "id": "0b2ce97c-b703-4199-b2a5-157d2a30d9b6",
   "metadata": {},
   "outputs": [],
   "source": [
    "import os\n",
    "    if os.path.exists(\"_odoo-onshape-0.png\"):\n",
    "        os.unlink(\"_odoo-onshape-0.png\")"
   ]
  },
  {
   "cell_type": "code",
   "execution_count": null,
   "id": "9f7fe0d7-452f-48da-8035-de8fa8b87549",
   "metadata": {},
   "outputs": [],
   "source": [
    "b.start_monitoring(\"_odoo-onshape\")\n",
    "autorunner_pilot.run_step(0)"
   ]
  },
  {
   "cell_type": "code",
   "execution_count": 2,
   "id": "f8ee175e-485e-4659-af97-76aa76995bb1",
   "metadata": {},
   "outputs": [
    {
     "data": {
      "application/vnd.jupyter.widget-view+json": {
       "model_id": "c3f80a15020a4c54ab73dda83f9ded5c",
       "version_major": 2,
       "version_minor": 0
      },
      "text/plain": [
       "VBox(children=(HTML(value='', placeholder='Description'), VBox(children=(Image(value=b'', width='400'), Image(…"
      ]
     },
     "metadata": {},
     "output_type": "display_data"
    }
   ],
   "source": [
    "b = Binoculars()"
   ]
  },
  {
   "cell_type": "code",
   "execution_count": null,
   "id": "f2daa9f5-7fa5-4d9f-a429-53504bfbf542",
   "metadata": {},
   "outputs": [],
   "source": []
  },
  {
   "cell_type": "code",
   "execution_count": null,
   "id": "08b2c226-9b64-43c8-a6bc-b47b6806022d",
   "metadata": {},
   "outputs": [],
   "source": []
  }
 ],
 "metadata": {
  "kernelspec": {
   "display_name": "Python 3 (ipykernel)",
   "language": "python",
   "name": "python3"
  },
  "language_info": {
   "codemirror_mode": {
    "name": "ipython",
    "version": 3
   },
   "file_extension": ".py",
   "mimetype": "text/x-python",
   "name": "python",
   "nbconvert_exporter": "python",
   "pygments_lexer": "ipython3",
   "version": "3.12.6"
  }
 },
 "nbformat": 4,
 "nbformat_minor": 5
}
