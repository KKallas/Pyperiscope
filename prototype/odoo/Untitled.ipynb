{
 "cells": [
  {
   "cell_type": "code",
   "execution_count": 1,
   "id": "ba8625de-0c12-472d-b984-666ca8bf2fa2",
   "metadata": {},
   "outputs": [],
   "source": [
    "from pyperiscope import Pilot\n",
    "\n",
    "autorunner_pilot = Pilot(\"odoo-onshape.ipynb\", step_timeout=2)\n",
    "autorunner_pilot.get_steps()"
   ]
  },
  {
   "cell_type": "code",
   "execution_count": 3,
   "id": "b3d127a1-de47-4d4a-93e3-4c7fa9e7d94d",
   "metadata": {},
   "outputs": [
    {
     "data": {
      "text/plain": [
       "[(0, 5),\n",
       " (5, 9),\n",
       " (9, 13),\n",
       " (13, 17),\n",
       " (17, 21),\n",
       " (21, 25),\n",
       " (25, 29),\n",
       " (29, 33),\n",
       " (33, 37),\n",
       " (37, 40),\n",
       " (40, 44),\n",
       " (44, 48),\n",
       " (48, 52),\n",
       " (52, 56),\n",
       " (56, 60),\n",
       " (60, 64),\n",
       " (64, 68),\n",
       " (68, 72),\n",
       " (72, 76),\n",
       " (76, 80),\n",
       " (80, 84),\n",
       " (84, 88),\n",
       " (88, 92),\n",
       " (92, 96),\n",
       " (96, 100),\n",
       " (100, 105)]"
      ]
     },
     "execution_count": 3,
     "metadata": {},
     "output_type": "execute_result"
    }
   ],
   "source": [
    "autorunner_pilot.steps"
   ]
  }
 ],
 "metadata": {
  "kernelspec": {
   "display_name": "Python 3 (ipykernel)",
   "language": "python",
   "name": "python3"
  },
  "language_info": {
   "codemirror_mode": {
    "name": "ipython",
    "version": 3
   },
   "file_extension": ".py",
   "mimetype": "text/x-python",
   "name": "python",
   "nbconvert_exporter": "python",
   "pygments_lexer": "ipython3",
   "version": "3.12.6"
  }
 },
 "nbformat": 4,
 "nbformat_minor": 5
}
