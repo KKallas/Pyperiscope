{
 "cells": [
  {
   "cell_type": "code",
   "execution_count": null,
   "id": "c57ded5f-2bbf-46e8-b700-22d3b6e883a6",
   "metadata": {},
   "outputs": [],
   "source": [
    "# refresh"
   ]
  },
  {
   "cell_type": "code",
   "execution_count": null,
   "id": "be306194-0562-40c0-837e-4c217db967d7",
   "metadata": {},
   "outputs": [],
   "source": [
    "# 1st item"
   ]
  },
  {
   "cell_type": "code",
   "execution_count": null,
   "id": "32a9e31e-5685-4df4-ba0d-889204ef3600",
   "metadata": {},
   "outputs": [],
   "source": [
    "# get dimensions"
   ]
  },
  {
   "cell_type": "code",
   "execution_count": null,
   "id": "70db5342-2e5e-4410-937d-1b1d613436e5",
   "metadata": {},
   "outputs": [],
   "source": [
    "# swap to onshape"
   ]
  },
  {
   "cell_type": "code",
   "execution_count": null,
   "id": "ca9a136e-dfd6-4579-9470-228f5e5dad2d",
   "metadata": {},
   "outputs": [],
   "source": [
    "# create new"
   ]
  },
  {
   "cell_type": "code",
   "execution_count": null,
   "id": "5d60779a-d66d-4c2b-b2e4-505a49e24df3",
   "metadata": {},
   "outputs": [],
   "source": [
    "# set name"
   ]
  },
  {
   "cell_type": "code",
   "execution_count": null,
   "id": "83b2d07a-f8c8-473d-850a-155d11d77390",
   "metadata": {},
   "outputs": [],
   "source": [
    "# create box"
   ]
  },
  {
   "cell_type": "code",
   "execution_count": null,
   "id": "474c0c28-0265-4b91-9c28-25de513ab458",
   "metadata": {},
   "outputs": [],
   "source": [
    "# leave scetch"
   ]
  },
  {
   "cell_type": "code",
   "execution_count": null,
   "id": "10306027-0d01-492d-aae7-d9f64a104572",
   "metadata": {},
   "outputs": [],
   "source": [
    "# extrude"
   ]
  },
  {
   "cell_type": "code",
   "execution_count": null,
   "id": "52df6d19-822e-4639-9e8c-967cb0994e6c",
   "metadata": {},
   "outputs": [],
   "source": [
    "# copy address"
   ]
  },
  {
   "cell_type": "code",
   "execution_count": null,
   "id": "234323e0-192e-4348-9b85-0ad62a69309b",
   "metadata": {},
   "outputs": [],
   "source": [
    "# close doc"
   ]
  },
  {
   "cell_type": "code",
   "execution_count": null,
   "id": "19776589-839b-4722-9554-29953ad60ca9",
   "metadata": {},
   "outputs": [],
   "source": [
    "# swap back to odoo"
   ]
  },
  {
   "cell_type": "code",
   "execution_count": null,
   "id": "02340584-5b98-4749-a4aa-00ca7d8b7357",
   "metadata": {},
   "outputs": [],
   "source": [
    "# add the direct link"
   ]
  },
  {
   "cell_type": "code",
   "execution_count": null,
   "id": "c4729ba8-d7d4-441f-89f9-9ba7d13ee9b5",
   "metadata": {},
   "outputs": [],
   "source": [
    "# set product catgeory"
   ]
  },
  {
   "cell_type": "code",
   "execution_count": null,
   "id": "f7211dc4-2be4-4c1e-99de-592dbdd9b78d",
   "metadata": {},
   "outputs": [],
   "source": [
    "# go back to product list"
   ]
  }
 ],
 "metadata": {
  "kernelspec": {
   "display_name": "Python 3 (ipykernel)",
   "language": "python",
   "name": "python3"
  },
  "language_info": {
   "codemirror_mode": {
    "name": "ipython",
    "version": 3
   },
   "file_extension": ".py",
   "mimetype": "text/x-python",
   "name": "python",
   "nbconvert_exporter": "python",
   "pygments_lexer": "ipython3",
   "version": "3.12.8"
  }
 },
 "nbformat": 4,
 "nbformat_minor": 5
}
