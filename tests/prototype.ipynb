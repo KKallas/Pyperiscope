{
 "cells": [
  {
   "cell_type": "code",
   "execution_count": 36,
   "id": "eb658081-13d5-4ab0-94fa-b12c66c4b3e2",
   "metadata": {},
   "outputs": [],
   "source": [
    "import nbformat\n",
    "from nbconvert.preprocessors import ExecutePreprocessor\n",
    "from pathlib import Path\n",
    "\n",
    "def run_notebook(notebook_path):\n",
    "    \"\"\"\n",
    "    Run a notebook and return its cells and outputs.\n",
    "    \"\"\"\n",
    "    notebook_path = Path(notebook_path)\n",
    "    \n",
    "    # Read the notebook\n",
    "    with open(notebook_path) as f:\n",
    "        nb = nbformat.read(f, as_version=4)\n",
    "    \n",
    "    # Execute the notebook\n",
    "    ep = ExecutePreprocessor(timeout=600, kernel_name='python3')\n",
    "    ep.preprocess(nb, {'metadata': {'path': str(notebook_path.parent)}})\n",
    "    \n",
    "    return nb.cells\n",
    "\n",
    "def test_notebook_outputs(notebook_path):\n",
    "    cells = run_notebook(Path(notebook_path))\n",
    "    \n",
    "    # Example: Find a specific cell by its content and check its output\n",
    "    for cell in cells:\n",
    "        if cell.cell_type == 'code':\n",
    "            if len(cell.outputs) > 0:\n",
    "                if 'text' in cell.outputs[0]:\n",
    "                    if cell.outputs[0]['text'].startswith(\"TEST output\"):\n",
    "                        print(cell.outputs[0]['text'][len(\"TEST output\"):].strip())"
   ]
  },
  {
   "cell_type": "code",
   "execution_count": 62,
   "id": "f933380a-1f03-40d0-aa09-4a95d6fcff65",
   "metadata": {},
   "outputs": [],
   "source": [
    "from pathlib import Path\n",
    "import nbformat\n",
    "from nbconvert.preprocessors import ExecutePreprocessor\n",
    "from typing import List, Dict, Union\n",
    "\n",
    "class NotebookRunner:\n",
    "    \"\"\"Utility class to run and extract outputs from Jupyter notebooks.\"\"\"\n",
    "    \n",
    "    def __init__(self, notebook_path: Union[str, Path]):\n",
    "        self.notebook_path = Path(notebook_path)\n",
    "        if not self.notebook_path.exists():\n",
    "            raise FileNotFoundError(f\"Notebook not found: {notebook_path}\")\n",
    "        self.cells = None\n",
    "\n",
    "    def run(self) -> List[nbformat.notebooknode.NotebookNode]:\n",
    "        try:\n",
    "            with open(self.notebook_path) as f:\n",
    "                nb = nbformat.read(f, as_version=4)\n",
    "            \n",
    "            ep = ExecutePreprocessor(\n",
    "                timeout=600,\n",
    "                kernel_name='python3'\n",
    "            )\n",
    "            ep.preprocess(nb, {'metadata': {'path': str(self.notebook_path.parent)}})\n",
    "            \n",
    "            self.cells = nb.cells\n",
    "            return self.cells\n",
    "            \n",
    "        except Exception as e:\n",
    "            raise RuntimeError(f\"Failed to run notebook: {str(e)}\")\n",
    "\n",
    "    def split_to_pairs(self, output_text: str) -> Dict[str, str]:\n",
    "        return_dict = {}\n",
    "        lines = output_text.split('\\n')\n",
    "        \n",
    "        for line in lines:\n",
    "            line = line.strip()\n",
    "            if not line:  # Skip empty lines\n",
    "                continue\n",
    "                \n",
    "            try:\n",
    "                key, value = [x.strip() for x in line.split('=', 1)]\n",
    "                if not key:\n",
    "                    raise ValueError(\"Empty key found\")\n",
    "                return_dict[key] = value\n",
    "            except ValueError as e:\n",
    "                raise ValueError(f\"Invalid line format: '{line}'. Expected 'key=value'\") from e\n",
    "                \n",
    "        return return_dict\n",
    "\n",
    "    def get_test_outputs(self) -> Dict[str, str]:\n",
    "        if not self.cells:\n",
    "            self.run()\n",
    "        \n",
    "        test_outputs = {}\n",
    "        \n",
    "        for cell in self.cells:\n",
    "            if cell.cell_type == 'code' and cell.outputs:\n",
    "                for output in cell.outputs:\n",
    "                    text = output.get('text', '')\n",
    "                    if isinstance(text, str) and text.startswith(\"TEST output\"):\n",
    "                        cleaned_output = text[len(\"TEST output\"):].strip()\n",
    "                        if cleaned_output:  # Only process non-empty outputs\n",
    "                            try:\n",
    "                                test_outputs.update(self.split_to_pairs(cleaned_output))\n",
    "                            except ValueError as e:\n",
    "                                print(f\"Warning: Skipping invalid output format: {str(e)}\")\n",
    "        \n",
    "        return test_outputs\n",
    "\n",
    "def test_notebook_outputs(notebook_path: Union[str, Path]) -> Dict[str, str]:\n",
    "    runner = NotebookRunner(notebook_path)\n",
    "    outputs = runner.get_test_outputs()\n",
    "    return outputs\n",
    "\n"
   ]
  },
  {
   "cell_type": "code",
   "execution_count": 64,
   "id": "cc854a26-4258-4110-a7b5-7df5f0d63e1a",
   "metadata": {},
   "outputs": [
    {
     "name": "stdout",
     "output_type": "stream",
     "text": [
      "Test outputs: {'found_on_screen': '1', 'preview_image_data_type': \"<class 'PIL.Image.Image'>\"}\n"
     ]
    }
   ],
   "source": [
    "# Example usage\n",
    "try:\n",
    "    results = test_notebook_outputs(\"test - create step.ipynb\")\n",
    "    print(\"Test outputs:\", results)\n",
    "except Exception as e:\n",
    "    print(f\"Error: {str(e)}\")"
   ]
  },
  {
   "cell_type": "code",
   "execution_count": 45,
   "id": "bc67d8fc-c25a-476d-99bd-337c86704944",
   "metadata": {},
   "outputs": [],
   "source": [
    "test = {\"yx\":1}"
   ]
  },
  {
   "cell_type": "code",
   "execution_count": 46,
   "id": "c21ac773-7a04-47bd-840b-c0bec9456dfa",
   "metadata": {},
   "outputs": [
    {
     "data": {
      "text/plain": [
       "{'yx': 1}"
      ]
     },
     "execution_count": 46,
     "metadata": {},
     "output_type": "execute_result"
    }
   ],
   "source": [
    "test"
   ]
  },
  {
   "cell_type": "code",
   "execution_count": 48,
   "id": "7ede3b38-a5ff-4e99-b322-859d317cf4ab",
   "metadata": {},
   "outputs": [
    {
     "ename": "AttributeError",
     "evalue": "'dict' object has no attribute 'append'",
     "output_type": "error",
     "traceback": [
      "\u001b[1;31m---------------------------------------------------------------------------\u001b[0m",
      "\u001b[1;31mAttributeError\u001b[0m                            Traceback (most recent call last)",
      "Cell \u001b[1;32mIn[48], line 1\u001b[0m\n\u001b[1;32m----> 1\u001b[0m \u001b[43mtest\u001b[49m\u001b[38;5;241;43m.\u001b[39;49m\u001b[43mappend\u001b[49m({\u001b[38;5;124m\"\u001b[39m\u001b[38;5;124mkax\u001b[39m\u001b[38;5;124m\"\u001b[39m:\u001b[38;5;241m2\u001b[39m})\n",
      "\u001b[1;31mAttributeError\u001b[0m: 'dict' object has no attribute 'append'"
     ]
    }
   ],
   "source": [
    "test.append({\"kax\":2})"
   ]
  },
  {
   "cell_type": "code",
   "execution_count": null,
   "id": "d8c04212-beea-4063-a44b-3f4e078e1d99",
   "metadata": {},
   "outputs": [],
   "source": []
  }
 ],
 "metadata": {
  "kernelspec": {
   "display_name": "Python 3 (ipykernel)",
   "language": "python",
   "name": "python3"
  },
  "language_info": {
   "codemirror_mode": {
    "name": "ipython",
    "version": 3
   },
   "file_extension": ".py",
   "mimetype": "text/x-python",
   "name": "python",
   "nbconvert_exporter": "python",
   "pygments_lexer": "ipython3",
   "version": "3.11.0"
  }
 },
 "nbformat": 4,
 "nbformat_minor": 5
}
