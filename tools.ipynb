{
 "cells": [
  {
   "cell_type": "markdown",
   "id": "42c64e73-bd72-44b6-83d8-160104a8023e",
   "metadata": {},
   "source": [
    "## Local Development Install\n",
    "This cell installs the package in development mode (-e flag).\n",
    "After changes to source files, restart kernel to see updates."
   ]
  },
  {
   "cell_type": "code",
   "execution_count": 2,
   "id": "43601df0-d186-4493-bd46-2a2e69de7835",
   "metadata": {},
   "outputs": [
    {
     "name": "stdout",
     "output_type": "stream",
     "text": [
      "Obtaining file:///C:/Users/Virtual%20Production%202/Documents/git2/Pyperiscope\n",
      "  Installing build dependencies: started\n",
      "  Installing build dependencies: finished with status 'done'\n",
      "  Checking if build backend supports build_editable: started\n",
      "  Checking if build backend supports build_editable: finished with status 'done'\n",
      "  Getting requirements to build editable: started\n",
      "  Getting requirements to build editable: finished with status 'done'\n",
      "  Preparing editable metadata (pyproject.toml): started\n",
      "  Preparing editable metadata (pyproject.toml): finished with status 'done'\n",
      "Building wheels for collected packages: pyperiscope\n",
      "  Building editable for pyperiscope (pyproject.toml): started\n",
      "  Building editable for pyperiscope (pyproject.toml): finished with status 'done'\n",
      "  Created wheel for pyperiscope: filename=pyperiscope-0.1.0-0.editable-py3-none-any.whl size=7151 sha256=2ab4b9da6a3b5c8c3de4ad06f6b2d198c87a1847c36e076b0c4db092beeb18dd\n",
      "  Stored in directory: C:\\Users\\Virtual Production 2\\AppData\\Local\\Temp\\pip-ephem-wheel-cache-e2oa4k8f\\wheels\\2a\\2e\\07\\5884b2973c3bece992035c1dafe69e173f1037e984cca6f620\n",
      "Successfully built pyperiscope\n",
      "Installing collected packages: pyperiscope\n",
      "Successfully installed pyperiscope-0.1.0\n",
      "Note: you may need to restart the kernel to use updated packages.\n"
     ]
    },
    {
     "name": "stderr",
     "output_type": "stream",
     "text": [
      "\n",
      "[notice] A new release of pip is available: 24.0 -> 24.3.1\n",
      "[notice] To update, run: C:\\Python311\\python.exe -m pip install --upgrade pip\n"
     ]
    }
   ],
   "source": [
    "!pip install -e ."
   ]
  },
  {
   "cell_type": "markdown",
   "id": "0bd26fca-8378-4771-978e-17ba7c36ee77",
   "metadata": {},
   "source": [
    "## Run Local Tests\n",
    "Run all tests to verify functionality.\n",
    "Tests should be organized in same layers as source code.\n",
    "<!-- \n",
    "Python code:\n",
    "import re\n",
    "from pathlib import Path\n",
    "\n",
    "def update_minor_version():\n",
    "    # Update pyproject.toml\n",
    "    toml_path = Path('pyproject.toml')\n",
    "    content = toml_path.read_text()\n",
    "    \n",
    "    # Find current version\n",
    "    version_match = re.search(r'version = \"(\\d+)\\.(\\d+)\\.(\\d+)\"', content)\n",
    "    if version_match:\n",
    "        major, minor, patch = map(int, version_match.groups())\n",
    "        new_version = f'{major}.{minor+1}.0'\n",
    "        new_content = re.sub(r'version = \"\\d+\\.\\d+\\.\\d+\"', \n",
    "                           f'version = \"{new_version}\"', \n",
    "                           content)\n",
    "        toml_path.write_text(new_content)\n",
    "        \n",
    "    # Update __init__.py\n",
    "    init_path = Path('src/pyperiscope/__init__.py')\n",
    "    if init_path.exists():\n",
    "        init_content = init_path.read_text()\n",
    "        new_init = re.sub(r'__version__ = \"\\d+\\.\\d+\\.\\d+\"',\n",
    "                         f'__version__ = \"{new_version}\"',\n",
    "                         init_content)\n",
    "        init_path.write_text(new_init)\n",
    "        \n",
    "    print(f\"Updated version to {new_version}\")\n",
    "\n",
    "update_minor_version()\n",
    "-->"
   ]
  },
  {
   "cell_type": "code",
   "execution_count": null,
   "id": "ccdcf7fb-f469-4535-84da-4807f67c0a23",
   "metadata": {},
   "outputs": [],
   "source": [
    "!pytest tests/"
   ]
  },
  {
   "cell_type": "markdown",
   "id": "1ea58176-3337-4222-b436-5f86676502a2",
   "metadata": {},
   "source": [
    "## Update Minor Version\n",
    "Updates version numbers in pyproject.toml and __init__.py files.\n",
    "Increases the minor version (x.Y.z -> x.(Y+1).z)\n",
    "Example: 0.1.0 -> 0.2.0"
   ]
  },
  {
   "cell_type": "code",
   "execution_count": null,
   "id": "2113373c-9816-42e2-9ae6-f3e88102f338",
   "metadata": {},
   "outputs": [],
   "source": [
    "import re\n",
    "from pathlib import Path\n",
    "\n",
    "def update_minor_version():\n",
    "    # Update pyproject.toml\n",
    "    toml_path = Path('pyproject.toml')\n",
    "    content = toml_path.read_text()\n",
    "    \n",
    "    # Find current version\n",
    "    version_match = re.search(r'version = \"(\\d+)\\.(\\d+)\\.(\\d+)\"', content)\n",
    "    if version_match:\n",
    "        major, minor, patch = map(int, version_match.groups())\n",
    "        new_version = f'{major}.{minor+1}.0'\n",
    "        new_content = re.sub(r'version = \"\\d+\\.\\d+\\.\\d+\"', \n",
    "                           f'version = \"{new_version}\"', \n",
    "                           content)\n",
    "        toml_path.write_text(new_content)\n",
    "        \n",
    "    # Update __init__.py\n",
    "    init_path = Path('src/pyperiscope/__init__.py')\n",
    "    if init_path.exists():\n",
    "        init_content = init_path.read_text()\n",
    "        new_init = re.sub(r'__version__ = \"\\d+\\.\\d+\\.\\d+\"',\n",
    "                         f'__version__ = \"{new_version}\"',\n",
    "                         init_content)\n",
    "        init_path.write_text(new_init)\n",
    "        \n",
    "    print(f\"Updated version to {new_version}\")\n",
    "\n",
    "update_minor_version()"
   ]
  },
  {
   "cell_type": "markdown",
   "id": "a0dc92c9-c100-4f00-be06-7d3b14c4758d",
   "metadata": {},
   "source": [
    "## Update Major Version\n",
    "Updates version numbers in pyproject.toml and __init__.py files.\n",
    "Increases the major version (X.y.z -> (X+1).0.0)\n",
    "Example: 1.2.3 -> 2.0.0"
   ]
  },
  {
   "cell_type": "code",
   "execution_count": null,
   "id": "bfc98db8-4927-4ecb-bf17-cdca56ffbcb3",
   "metadata": {},
   "outputs": [],
   "source": [
    "import re\n",
    "from pathlib import Path\n",
    "\n",
    "def update_major_version():\n",
    "    # Update pyproject.toml\n",
    "    toml_path = Path('pyproject.toml')\n",
    "    content = toml_path.read_text()\n",
    "    \n",
    "    # Find current version\n",
    "    version_match = re.search(r'version = \"(\\d+)\\.(\\d+)\\.(\\d+)\"', content)\n",
    "    if version_match:\n",
    "        major, minor, patch = map(int, version_match.groups())\n",
    "        new_version = f'{major+1}.0.0'\n",
    "        new_content = re.sub(r'version = \"\\d+\\.\\d+\\.\\d+\"', \n",
    "                           f'version = \"{new_version}\"', \n",
    "                           content)\n",
    "        toml_path.write_text(new_content)\n",
    "        \n",
    "    # Update __init__.py\n",
    "    init_path = Path('src/pyperiscope/__init__.py')\n",
    "    if init_path.exists():\n",
    "        init_content = init_path.read_text()\n",
    "        new_init = re.sub(r'__version__ = \"\\d+\\.\\d+\\.\\d+\"',\n",
    "                         f'__version__ = \"{new_version}\"',\n",
    "                         init_content)\n",
    "        init_path.write_text(new_init)\n",
    "        \n",
    "    print(f\"Updated version to {new_version}\")\n",
    "\n",
    "update_major_version()"
   ]
  },
  {
   "cell_type": "markdown",
   "id": "dc1f3150-970d-408f-8e51-06fdf9f81bb0",
   "metadata": {},
   "source": [
    "## Test PyPI Upload and Install\n",
    "Upload to Test PyPI first to verify release process.\n",
    "Then install from Test PyPI to verify it works for users."
   ]
  },
  {
   "cell_type": "code",
   "execution_count": null,
   "id": "3e7e66ef-6d77-4521-a97d-78b1a13ce374",
   "metadata": {},
   "outputs": [],
   "source": [
    "# Build and upload to Test PyPI\n",
    "!python -m build\n",
    "!twine upload --repository testpypi dist/*\n",
    "\n",
    "# Test install from Test PyPI\n",
    "!pip install --index-url https://test.pypi.org/simple/ pyperiscope"
   ]
  },
  {
   "cell_type": "markdown",
   "id": "ca078dda-db65-42f4-96a6-3c52f9628826",
   "metadata": {},
   "source": [
    "## PyPI Release\n",
    "Final release to production PyPI.\n",
    "Make sure all tests pass and Test PyPI install worked.\n",
    "- [ ] use keyring to handle keys"
   ]
  },
  {
   "cell_type": "code",
   "execution_count": null,
   "id": "0e262668-66bf-4239-88eb-cdb76672d553",
   "metadata": {},
   "outputs": [],
   "source": [
    "!python -m build\n",
    "!twine upload dist/*"
   ]
  },
  {
   "cell_type": "markdown",
   "id": "7097807e-b50c-4a0b-837c-d2d884c9eaa2",
   "metadata": {},
   "source": [
    "## GitHub Push\n",
    "Push the release to GitHub.\n",
    "Update version numbers in code before pushing.\n",
    "- [ ] Versdion number and description of changes"
   ]
  },
  {
   "cell_type": "code",
   "execution_count": null,
   "id": "3707a257-b836-4910-b8eb-ad6cef2eb5b8",
   "metadata": {},
   "outputs": [],
   "source": [
    "!git add .\n",
    "!git commit -m \"Release version 0.1.0\"\n",
    "!git push origin main"
   ]
  }
 ],
 "metadata": {
  "kernelspec": {
   "display_name": "Python 3 (ipykernel)",
   "language": "python",
   "name": "python3"
  },
  "language_info": {
   "codemirror_mode": {
    "name": "ipython",
    "version": 3
   },
   "file_extension": ".py",
   "mimetype": "text/x-python",
   "name": "python",
   "nbconvert_exporter": "python",
   "pygments_lexer": "ipython3",
   "version": "3.11.0"
  }
 },
 "nbformat": 4,
 "nbformat_minor": 5
}
