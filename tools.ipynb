{
 "cells": [
  {
   "cell_type": "markdown",
   "id": "a764539b-b167-464f-8399-9ad17e0fa302",
   "metadata": {},
   "source": [
    "## Template folders and files\n",
    "\n",
    "- [ ] TODO"
   ]
  },
  {
   "cell_type": "code",
   "execution_count": null,
   "id": "9e71a8bb-c032-43ef-ae01-9ff6e0ebd4b7",
   "metadata": {},
   "outputs": [],
   "source": []
  },
  {
   "cell_type": "markdown",
   "id": "42c64e73-bd72-44b6-83d8-160104a8023e",
   "metadata": {},
   "source": [
    "## Local Development Install\n",
    "This cell installs the package in development mode (-e flag).\n",
    "After changes to source files, restart kernel to see updates."
   ]
  },
  {
   "cell_type": "code",
   "execution_count": 23,
   "id": "43601df0-d186-4493-bd46-2a2e69de7835",
   "metadata": {},
   "outputs": [
    {
     "name": "stdout",
     "output_type": "stream",
     "text": [
      "Defaulting to user installation because normal site-packages is not writeable\n",
      "Obtaining file:///C:/Users/Virtual%20Production%202/Documents/git2/Pyperiscope\n",
      "  Installing build dependencies: started\n",
      "  Installing build dependencies: finished with status 'done'\n",
      "  Checking if build backend supports build_editable: started\n",
      "  Checking if build backend supports build_editable: finished with status 'done'\n",
      "  Getting requirements to build editable: started\n",
      "  Getting requirements to build editable: finished with status 'done'\n",
      "  Preparing editable metadata (pyproject.toml): started\n",
      "  Preparing editable metadata (pyproject.toml): finished with status 'done'\n",
      "Requirement already satisfied: pyautogui>=0.9.53 in c:\\users\\virtual production 2\\appdata\\roaming\\python\\python312\\site-packages (from pyperiscope==0.4.0) (0.9.54)\n",
      "Requirement already satisfied: pillow>=9.0.0 in c:\\users\\virtual production 2\\appdata\\roaming\\python\\python312\\site-packages (from pyperiscope==0.4.0) (11.0.0)\n",
      "Requirement already satisfied: numpy>=1.21.0 in c:\\python312\\lib\\site-packages (from pyperiscope==0.4.0) (2.1.3)\n",
      "Requirement already satisfied: opencv-python in c:\\users\\virtual production 2\\appdata\\roaming\\python\\python312\\site-packages (from pyperiscope==0.4.0) (4.10.0.84)\n",
      "Requirement already satisfied: Nbformat in c:\\users\\virtual production 2\\appdata\\roaming\\python\\python312\\site-packages (from pyperiscope==0.4.0) (5.10.4)\n",
      "Requirement already satisfied: pymsgbox in c:\\users\\virtual production 2\\appdata\\roaming\\python\\python312\\site-packages (from pyautogui>=0.9.53->pyperiscope==0.4.0) (1.0.9)\n",
      "Requirement already satisfied: pytweening>=1.0.4 in c:\\users\\virtual production 2\\appdata\\roaming\\python\\python312\\site-packages (from pyautogui>=0.9.53->pyperiscope==0.4.0) (1.2.0)\n",
      "Requirement already satisfied: pyscreeze>=0.1.21 in c:\\users\\virtual production 2\\appdata\\roaming\\python\\python312\\site-packages (from pyautogui>=0.9.53->pyperiscope==0.4.0) (1.0.1)\n",
      "Requirement already satisfied: pygetwindow>=0.0.5 in c:\\users\\virtual production 2\\appdata\\roaming\\python\\python312\\site-packages (from pyautogui>=0.9.53->pyperiscope==0.4.0) (0.0.9)\n",
      "Requirement already satisfied: mouseinfo in c:\\users\\virtual production 2\\appdata\\roaming\\python\\python312\\site-packages (from pyautogui>=0.9.53->pyperiscope==0.4.0) (0.1.3)\n",
      "Requirement already satisfied: fastjsonschema>=2.15 in c:\\users\\virtual production 2\\appdata\\roaming\\python\\python312\\site-packages (from Nbformat->pyperiscope==0.4.0) (2.21.1)\n",
      "Requirement already satisfied: jsonschema>=2.6 in c:\\users\\virtual production 2\\appdata\\roaming\\python\\python312\\site-packages (from Nbformat->pyperiscope==0.4.0) (4.23.0)\n",
      "Requirement already satisfied: jupyter-core!=5.0.*,>=4.12 in c:\\users\\virtual production 2\\appdata\\roaming\\python\\python312\\site-packages (from Nbformat->pyperiscope==0.4.0) (5.7.2)\n",
      "Requirement already satisfied: traitlets>=5.1 in c:\\users\\virtual production 2\\appdata\\roaming\\python\\python312\\site-packages (from Nbformat->pyperiscope==0.4.0) (5.14.3)\n",
      "Requirement already satisfied: attrs>=22.2.0 in c:\\users\\virtual production 2\\appdata\\roaming\\python\\python312\\site-packages (from jsonschema>=2.6->Nbformat->pyperiscope==0.4.0) (24.3.0)\n",
      "Requirement already satisfied: jsonschema-specifications>=2023.03.6 in c:\\users\\virtual production 2\\appdata\\roaming\\python\\python312\\site-packages (from jsonschema>=2.6->Nbformat->pyperiscope==0.4.0) (2024.10.1)\n",
      "Requirement already satisfied: referencing>=0.28.4 in c:\\users\\virtual production 2\\appdata\\roaming\\python\\python312\\site-packages (from jsonschema>=2.6->Nbformat->pyperiscope==0.4.0) (0.35.1)\n",
      "Requirement already satisfied: rpds-py>=0.7.1 in c:\\users\\virtual production 2\\appdata\\roaming\\python\\python312\\site-packages (from jsonschema>=2.6->Nbformat->pyperiscope==0.4.0) (0.22.3)\n",
      "Requirement already satisfied: platformdirs>=2.5 in c:\\users\\virtual production 2\\appdata\\roaming\\python\\python312\\site-packages (from jupyter-core!=5.0.*,>=4.12->Nbformat->pyperiscope==0.4.0) (4.3.6)\n",
      "Requirement already satisfied: pywin32>=300 in c:\\users\\virtual production 2\\appdata\\roaming\\python\\python312\\site-packages (from jupyter-core!=5.0.*,>=4.12->Nbformat->pyperiscope==0.4.0) (308)\n",
      "Requirement already satisfied: pyrect in c:\\users\\virtual production 2\\appdata\\roaming\\python\\python312\\site-packages (from pygetwindow>=0.0.5->pyautogui>=0.9.53->pyperiscope==0.4.0) (0.2.0)\n",
      "Requirement already satisfied: pyperclip in c:\\python312\\lib\\site-packages (from mouseinfo->pyautogui>=0.9.53->pyperiscope==0.4.0) (1.9.0)\n",
      "Building wheels for collected packages: pyperiscope\n",
      "  Building editable for pyperiscope (pyproject.toml): started\n",
      "  Building editable for pyperiscope (pyproject.toml): finished with status 'done'\n",
      "  Created wheel for pyperiscope: filename=pyperiscope-0.4.0-0.editable-py3-none-any.whl size=7154 sha256=8db60b1a4d47c52260282a3514efcc3276c9f3424c891455e2d0cd809ef276ac\n",
      "  Stored in directory: C:\\Users\\Virtual Production 2\\AppData\\Local\\Temp\\pip-ephem-wheel-cache-p_v2soj_\\wheels\\a5\\07\\fb\\f03b6f3fe4f444eb8cf8ffcf1e7e4a02fdbb1f2d4170dfd228\n",
      "Successfully built pyperiscope\n",
      "Installing collected packages: pyperiscope\n",
      "  Attempting uninstall: pyperiscope\n",
      "    Found existing installation: pyperiscope 0.4.0\n",
      "    Uninstalling pyperiscope-0.4.0:\n",
      "      Successfully uninstalled pyperiscope-0.4.0\n",
      "Successfully installed pyperiscope-0.4.0\n"
     ]
    },
    {
     "name": "stderr",
     "output_type": "stream",
     "text": [
      "\n",
      "[notice] A new release of pip is available: 24.2 -> 25.0\n",
      "[notice] To update, run: python.exe -m pip install --upgrade pip\n"
     ]
    }
   ],
   "source": [
    "!pip install -e ."
   ]
  },
  {
   "cell_type": "markdown",
   "id": "0bd26fca-8378-4771-978e-17ba7c36ee77",
   "metadata": {},
   "source": [
    "## Run Local Tests\n",
    "\n",
    "<!-- \n",
    "Python code:\n",
    "import re\n",
    "from pathlib import Path\n",
    "\n",
    "def update_minor_version():\n",
    "    # Update pyproject.toml\n",
    "    toml_path = Path('pyproject.toml')\n",
    "    content = toml_path.read_text()\n",
    "    \n",
    "    # Find current version\n",
    "    version_match = re.search(r'version = \"(\\d+)\\.(\\d+)\\.(\\d+)\"', content)\n",
    "    if version_match:\n",
    "        major, minor, patch = map(int, version_match.groups())\n",
    "        new_version = f'{major}.{minor+1}.0'\n",
    "        new_content = re.sub(r'version = \"\\d+\\.\\d+\\.\\d+\"', \n",
    "                           f'version = \"{new_version}\"', \n",
    "                           content)\n",
    "        toml_path.write_text(new_content)\n",
    "        \n",
    "    # Update __init__.py\n",
    "    init_path = Path('src/pyperiscope/__init__.py')\n",
    "    if init_path.exists():\n",
    "        init_content = init_path.read_text()\n",
    "        new_init = re.sub(r'__version__ = \"\\d+\\.\\d+\\.\\d+\"',\n",
    "                         f'__version__ = \"{new_version}\"',\n",
    "                         init_content)\n",
    "        init_path.write_text(new_init)\n",
    "        \n",
    "    print(f\"Updated version to {new_version}\")\n",
    "\n",
    "update_minor_version()\n",
    "-->"
   ]
  },
  {
   "cell_type": "markdown",
   "id": "10753d61-c140-46df-9c81-2a4f458be4ed",
   "metadata": {},
   "source": [
    "reinstall the local package with test dependecies"
   ]
  },
  {
   "cell_type": "code",
   "execution_count": null,
   "id": "f6008165-b2ab-45e9-a60c-b8a652b2da3b",
   "metadata": {},
   "outputs": [],
   "source": [
    "!pip install \".[test]\""
   ]
  },
  {
   "cell_type": "markdown",
   "id": "778dbb78-5fef-4804-a488-1a4218120b94",
   "metadata": {},
   "source": [
    "Run all tests to verify functionality.<br>\n",
    "Tests should cover all major functionality."
   ]
  },
  {
   "cell_type": "code",
   "execution_count": null,
   "id": "ccdcf7fb-f469-4535-84da-4807f67c0a23",
   "metadata": {},
   "outputs": [],
   "source": [
    "!pytest"
   ]
  },
  {
   "cell_type": "markdown",
   "id": "1ea58176-3337-4222-b436-5f86676502a2",
   "metadata": {},
   "source": [
    "## Update Minor Version\n",
    "Updates version numbers in pyproject.toml and __init__.py files.\n",
    "Increases the minor version (x.Y.z -> x.(Y+1).z)\n",
    "Example: 0.1.0 -> 0.2.0"
   ]
  },
  {
   "cell_type": "code",
   "execution_count": null,
   "id": "2113373c-9816-42e2-9ae6-f3e88102f338",
   "metadata": {},
   "outputs": [],
   "source": [
    "import re\n",
    "from pathlib import Path\n",
    "\n",
    "def update_version(major_step=None, minor_step=None):\n",
    "    \"\"\"\n",
    "    Check or update version numbers in both pyproject.toml and __init__.py files.\n",
    "    If no steps provided, just checks and displays current versions.\n",
    "    \n",
    "    Args:\n",
    "        major_step (int, optional): Number of major version steps to increment\n",
    "        minor_step (int, optional): Number of minor version steps to increment\n",
    "    \n",
    "    Returns:\n",
    "        str: New version number if updating, or None if checking/error\n",
    "    \"\"\"\n",
    "    # Check pyproject.toml\n",
    "    toml_path = Path('pyproject.toml')\n",
    "    if not toml_path.exists():\n",
    "        print(f\"Error: {toml_path} not found\")\n",
    "        return None\n",
    "        \n",
    "    content = toml_path.read_text()\n",
    "    toml_version = None\n",
    "    \n",
    "    # Find current version\n",
    "    version_match = re.search(r'version = \"(\\d+)\\.(\\d+)\\.(\\d+)\"', content)\n",
    "    if version_match:\n",
    "        major, minor, patch = map(int, version_match.groups())\n",
    "        toml_version = f\"{major}.{minor}.{patch}\"\n",
    "        print(f\"pyproject.toml version: {toml_version}\")\n",
    "    else:\n",
    "        print(\"Error: Could not find version in pyproject.toml\")\n",
    "        return None\n",
    "        \n",
    "    # Check __init__.py\n",
    "    init_path = Path('src/pyperiscope/__init__.py')\n",
    "    if not init_path.exists():\n",
    "        print(f\"Error: {init_path} not found\")\n",
    "        return None\n",
    "        \n",
    "    init_content = init_path.read_text()\n",
    "    init_version = None\n",
    "    \n",
    "    # Try both possible formats\n",
    "    patterns = [\n",
    "        r'__version__\\s*=\\s*\"(\\d+\\.\\d+\\.\\d+)\"',  # Format with __version__ and double quotes\n",
    "        r\"__version__\\s*=\\s*'(\\d+\\.\\d+\\.\\d+)'\",   # Format with __version__ and single quotes\n",
    "        r\"\\*\\*version\\*\\*\\s*=\\s*'(\\d+\\.\\d+\\.\\d+)'\",  # Format with **version** and single quotes\n",
    "        r'\\*\\*version\\*\\*\\s*=\\s*\"(\\d+\\.\\d+\\.\\d+)\"'   # Format with **version** and double quotes\n",
    "    ]\n",
    "    \n",
    "    for pattern in patterns:\n",
    "        init_version_match = re.search(pattern, init_content)\n",
    "        if init_version_match:\n",
    "            init_version = init_version_match.group(1)\n",
    "            print(f\"__init__.py version: {init_version}\")\n",
    "            break\n",
    "    \n",
    "    if init_version is None:\n",
    "        print(\"Error: Could not find version in __init__.py\")\n",
    "        return None\n",
    "        \n",
    "    # If no steps provided, just check version match\n",
    "    if major_step is None and minor_step is None:\n",
    "        if toml_version == init_version:\n",
    "            print(\"✓ Versions match!\")\n",
    "            return(toml_version)\n",
    "        else:\n",
    "            print(\"⚠ Warning: Versions do not match!\")\n",
    "        return None\n",
    "        \n",
    "    # Calculate new version\n",
    "    major_step = major_step or 0\n",
    "    minor_step = minor_step or 0\n",
    "    \n",
    "    new_major = major + major_step\n",
    "    new_minor = minor + minor_step if major_step == 0 else 0  # Reset minor version if major version changes\n",
    "    new_patch = 0  # Always reset patch version\n",
    "    \n",
    "    new_version = f'{new_major}.{new_minor}.{new_patch}'\n",
    "    print(f\"\\nUpdating to {new_version}\")\n",
    "    \n",
    "    # Update pyproject.toml\n",
    "    new_content = re.sub(r'version = \"\\d+\\.\\d+\\.\\d+\"', \n",
    "                       f'version = \"{new_version}\"', \n",
    "                       content)\n",
    "    toml_path.write_text(new_content)\n",
    "    print(f\"Updated pyproject.toml\")\n",
    "    \n",
    "    # Update __init__.py with matching format\n",
    "    for pattern in patterns:\n",
    "        if re.search(pattern, init_content):\n",
    "            template = pattern.replace(r'(\\d+\\.\\d+\\.\\d+)', new_version)\n",
    "            new_init = re.sub(pattern, template, init_content)\n",
    "            init_path.write_text(new_init)\n",
    "            print(f\"Updated __init__.py\")\n",
    "            break\n",
    "    \n",
    "    print(f\"Successfully updated version to {new_version} in both files\")\n",
    "    return new_version"
   ]
  },
  {
   "cell_type": "code",
   "execution_count": null,
   "id": "78ee54c5-0c1a-42bf-83e9-05523abe7091",
   "metadata": {},
   "outputs": [],
   "source": [
    "update_version(minor_step=1)"
   ]
  },
  {
   "cell_type": "markdown",
   "id": "a0dc92c9-c100-4f00-be06-7d3b14c4758d",
   "metadata": {},
   "source": [
    "## Update Major Version\n",
    "Updates version numbers in pyproject.toml and __init__.py files.\n",
    "Increases the major version (X.y.z -> (X+1).0.0)\n",
    "Example: 1.2.3 -> 2.0.0"
   ]
  },
  {
   "cell_type": "code",
   "execution_count": null,
   "id": "bfc98db8-4927-4ecb-bf17-cdca56ffbcb3",
   "metadata": {},
   "outputs": [],
   "source": [
    "update_version(major_step=1)"
   ]
  },
  {
   "cell_type": "markdown",
   "id": "dc1f3150-970d-408f-8e51-06fdf9f81bb0",
   "metadata": {},
   "source": [
    "## Test PyPI Upload and Install\n",
    "Upload to Test PyPI first to verify release process.\n",
    "Then install from Test PyPI to verify it works for users."
   ]
  },
  {
   "cell_type": "code",
   "execution_count": null,
   "id": "3e7e66ef-6d77-4521-a97d-78b1a13ce374",
   "metadata": {},
   "outputs": [],
   "source": [
    "# Build and upload to Test PyPI\n",
    "!python -m build\n",
    "!twine upload --repository testpypi dist/*\n",
    "\n",
    "# Test install from Test PyPI\n",
    "!pip install --index-url https://test.pypi.org/simple/ pyperiscope"
   ]
  },
  {
   "cell_type": "markdown",
   "id": "ca078dda-db65-42f4-96a6-3c52f9628826",
   "metadata": {},
   "source": [
    "## PyPI Release\n",
    "Final release to production PyPI.\n",
    "Make sure all tests pass and Test PyPI install worked.\n",
    "- [ ] use keyring to handle keys"
   ]
  },
  {
   "cell_type": "code",
   "execution_count": null,
   "id": "0e262668-66bf-4239-88eb-cdb76672d553",
   "metadata": {},
   "outputs": [],
   "source": [
    "!python -m build\n",
    "!twine upload dist/*"
   ]
  },
  {
   "cell_type": "markdown",
   "id": "7097807e-b50c-4a0b-837c-d2d884c9eaa2",
   "metadata": {},
   "source": [
    "## GitHub Push\n",
    "Push the release to GitHub.\n",
    "Update version numbers in code before pushing."
   ]
  },
  {
   "cell_type": "code",
   "execution_count": null,
   "id": "3707a257-b836-4910-b8eb-ad6cef2eb5b8",
   "metadata": {},
   "outputs": [],
   "source": [
    "import subprocess\n",
    "\n",
    "def run_git_command(command):\n",
    "    \"\"\"\n",
    "    Run a git command and return its output.\n",
    "    \n",
    "    Args:\n",
    "        command (list): Command and arguments as list\n",
    "    \n",
    "    Returns:\n",
    "        tuple: (success boolean, output string)\n",
    "    \"\"\"\n",
    "    try:\n",
    "        result = subprocess.run(\n",
    "            command,\n",
    "            check=True,\n",
    "            capture_output=True,\n",
    "            text=True\n",
    "        )\n",
    "        return True, result.stdout\n",
    "    except subprocess.CalledProcessError as e:\n",
    "        return False, e.stderr\n",
    "\n",
    "def updategit():\n",
    "    current_version = update_version()\n",
    "    if current_version:\n",
    "        # Git add\n",
    "        success, output = run_git_command(['git', 'add', '.'])\n",
    "        if not success:\n",
    "            print(f\"Error during git add: {output}\")\n",
    "            return\n",
    "    \n",
    "        # Git commit\n",
    "        commit_msg = f\"Release version {current_version}\"\n",
    "        success, output = run_git_command(['git', 'commit', '-m', commit_msg])\n",
    "        if not success:\n",
    "            print(f\"Error during git commit: {output}\")\n",
    "            return\n",
    "        print(f\"Committed with message: {commit_msg}\")\n",
    "    \n",
    "        # Git push\n",
    "        success, output = run_git_command(['git', 'push', 'origin', 'main'])\n",
    "        if not success:\n",
    "            print(f\"Error during git push: {output}\")\n",
    "            return\n",
    "        print(\"Successfully pushed to origin main\")\n",
    "\n",
    "updategit()"
   ]
  },
  {
   "cell_type": "code",
   "execution_count": null,
   "id": "e0700c29-5e50-47e8-bc08-2830799ea994",
   "metadata": {},
   "outputs": [],
   "source": []
  }
 ],
 "metadata": {
  "kernelspec": {
   "display_name": "Python 3 (ipykernel)",
   "language": "python",
   "name": "python3"
  },
  "language_info": {
   "codemirror_mode": {
    "name": "ipython",
    "version": 3
   },
   "file_extension": ".py",
   "mimetype": "text/x-python",
   "name": "python",
   "nbconvert_exporter": "python",
   "pygments_lexer": "ipython3",
   "version": "3.12.6"
  }
 },
 "nbformat": 4,
 "nbformat_minor": 5
}
